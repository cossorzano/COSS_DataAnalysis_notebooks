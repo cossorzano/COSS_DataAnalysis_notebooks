{
 "cells": [
  {
   "cell_type": "markdown",
   "id": "69968b88",
   "metadata": {},
   "source": [
    "# LINEAR REGRESSION"
   ]
  },
  {
   "cell_type": "markdown",
   "id": "91d89760",
   "metadata": {},
   "source": [
    "## Human Resorurces: Salary model"
   ]
  },
  {
   "cell_type": "markdown",
   "id": "6a95976c",
   "metadata": {},
   "source": [
    "## Part 1: Data preparation"
   ]
  },
  {
   "cell_type": "markdown",
   "id": "aeecea2d",
   "metadata": {},
   "source": [
    "We are going to generate a linear regression model that explains the salary in a particular company. First we are going to upload the data"
   ]
  },
  {
   "cell_type": "code",
   "execution_count": 1,
   "id": "1a462aeb",
   "metadata": {},
   "outputs": [],
   "source": [
    "import pandas as pd\n",
    "import openpyxl\n",
    "import matplotlib.pyplot as plt\n",
    "import numpy as np\n",
    "from sklearn.linear_model import LinearRegression\n",
    "import statsmodels.api as sm\n",
    "import seaborn as sns\n",
    "import scipy.stats as stats"
   ]
  },
  {
   "cell_type": "code",
   "execution_count": 2,
   "id": "38873199",
   "metadata": {},
   "outputs": [],
   "source": [
    "df = pd.read_excel('Data_P1_Theory.xlsx', sheet_name='Hoja1')"
   ]
  },
  {
   "cell_type": "markdown",
   "id": "df213ac9",
   "metadata": {},
   "source": [
    "Let's see what type of object we have imported, to verify that it is a DataFrame"
   ]
  },
  {
   "cell_type": "code",
   "execution_count": 3,
   "id": "789b0c10",
   "metadata": {},
   "outputs": [
    {
     "data": {
      "text/plain": [
       "pandas.core.frame.DataFrame"
      ]
     },
     "execution_count": 3,
     "metadata": {},
     "output_type": "execute_result"
    }
   ],
   "source": [
    "type(df)"
   ]
  },
  {
   "cell_type": "markdown",
   "id": "a667cb91",
   "metadata": {},
   "source": [
    "Now let's look at the data we have loaded (first 10 rows)"
   ]
  },
  {
   "cell_type": "code",
   "execution_count": 4,
   "id": "03fc75dc",
   "metadata": {},
   "outputs": [
    {
     "data": {
      "text/html": [
       "<div>\n",
       "<style scoped>\n",
       "    .dataframe tbody tr th:only-of-type {\n",
       "        vertical-align: middle;\n",
       "    }\n",
       "\n",
       "    .dataframe tbody tr th {\n",
       "        vertical-align: top;\n",
       "    }\n",
       "\n",
       "    .dataframe thead th {\n",
       "        text-align: right;\n",
       "    }\n",
       "</style>\n",
       "<table border=\"1\" class=\"dataframe\">\n",
       "  <thead>\n",
       "    <tr style=\"text-align: right;\">\n",
       "      <th></th>\n",
       "      <th>Salary</th>\n",
       "      <th>Gender</th>\n",
       "      <th>Category</th>\n",
       "      <th>Years_Experience</th>\n",
       "      <th>Performance</th>\n",
       "    </tr>\n",
       "  </thead>\n",
       "  <tbody>\n",
       "    <tr>\n",
       "      <th>0</th>\n",
       "      <td>257231.753597</td>\n",
       "      <td>Male</td>\n",
       "      <td>Executive</td>\n",
       "      <td>34</td>\n",
       "      <td>10</td>\n",
       "    </tr>\n",
       "    <tr>\n",
       "      <th>1</th>\n",
       "      <td>90522.829027</td>\n",
       "      <td>Female</td>\n",
       "      <td>Technician</td>\n",
       "      <td>6</td>\n",
       "      <td>7</td>\n",
       "    </tr>\n",
       "    <tr>\n",
       "      <th>2</th>\n",
       "      <td>150561.962239</td>\n",
       "      <td>Male</td>\n",
       "      <td>Middle_Manager</td>\n",
       "      <td>25</td>\n",
       "      <td>7</td>\n",
       "    </tr>\n",
       "    <tr>\n",
       "      <th>3</th>\n",
       "      <td>130006.669909</td>\n",
       "      <td>Female</td>\n",
       "      <td>Middle_Manager</td>\n",
       "      <td>23</td>\n",
       "      <td>5</td>\n",
       "    </tr>\n",
       "    <tr>\n",
       "      <th>4</th>\n",
       "      <td>212871.076731</td>\n",
       "      <td>Female</td>\n",
       "      <td>Executive</td>\n",
       "      <td>37</td>\n",
       "      <td>6</td>\n",
       "    </tr>\n",
       "    <tr>\n",
       "      <th>5</th>\n",
       "      <td>109418.187070</td>\n",
       "      <td>Male</td>\n",
       "      <td>Technician</td>\n",
       "      <td>34</td>\n",
       "      <td>6</td>\n",
       "    </tr>\n",
       "    <tr>\n",
       "      <th>6</th>\n",
       "      <td>147486.137638</td>\n",
       "      <td>Female</td>\n",
       "      <td>Middle_Manager</td>\n",
       "      <td>35</td>\n",
       "      <td>5</td>\n",
       "    </tr>\n",
       "    <tr>\n",
       "      <th>7</th>\n",
       "      <td>90906.687721</td>\n",
       "      <td>Male</td>\n",
       "      <td>Technician</td>\n",
       "      <td>3</td>\n",
       "      <td>8</td>\n",
       "    </tr>\n",
       "    <tr>\n",
       "      <th>8</th>\n",
       "      <td>98806.857991</td>\n",
       "      <td>Female</td>\n",
       "      <td>Technician</td>\n",
       "      <td>24</td>\n",
       "      <td>7</td>\n",
       "    </tr>\n",
       "    <tr>\n",
       "      <th>9</th>\n",
       "      <td>103282.387715</td>\n",
       "      <td>Female</td>\n",
       "      <td>Technician</td>\n",
       "      <td>34</td>\n",
       "      <td>6</td>\n",
       "    </tr>\n",
       "  </tbody>\n",
       "</table>\n",
       "</div>"
      ],
      "text/plain": [
       "          Salary  Gender        Category  Years_Experience  Performance\n",
       "0  257231.753597    Male       Executive                34           10\n",
       "1   90522.829027  Female      Technician                 6            7\n",
       "2  150561.962239    Male  Middle_Manager                25            7\n",
       "3  130006.669909  Female  Middle_Manager                23            5\n",
       "4  212871.076731  Female       Executive                37            6\n",
       "5  109418.187070    Male      Technician                34            6\n",
       "6  147486.137638  Female  Middle_Manager                35            5\n",
       "7   90906.687721    Male      Technician                 3            8\n",
       "8   98806.857991  Female      Technician                24            7\n",
       "9  103282.387715  Female      Technician                34            6"
      ]
     },
     "execution_count": 4,
     "metadata": {},
     "output_type": "execute_result"
    }
   ],
   "source": [
    "df.head(n=10)"
   ]
  },
  {
   "cell_type": "markdown",
   "id": "b4464087",
   "metadata": {},
   "source": [
    "We will now summarize its contents: what variables it contains and what type of variable each variable is"
   ]
  },
  {
   "cell_type": "code",
   "execution_count": 5,
   "id": "27b5f8ae",
   "metadata": {},
   "outputs": [
    {
     "data": {
      "text/html": [
       "<div>\n",
       "<style scoped>\n",
       "    .dataframe tbody tr th:only-of-type {\n",
       "        vertical-align: middle;\n",
       "    }\n",
       "\n",
       "    .dataframe tbody tr th {\n",
       "        vertical-align: top;\n",
       "    }\n",
       "\n",
       "    .dataframe thead th {\n",
       "        text-align: right;\n",
       "    }\n",
       "</style>\n",
       "<table border=\"1\" class=\"dataframe\">\n",
       "  <thead>\n",
       "    <tr style=\"text-align: right;\">\n",
       "      <th></th>\n",
       "      <th>Salary</th>\n",
       "      <th>Years_Experience</th>\n",
       "      <th>Performance</th>\n",
       "    </tr>\n",
       "  </thead>\n",
       "  <tbody>\n",
       "    <tr>\n",
       "      <th>count</th>\n",
       "      <td>2825.000000</td>\n",
       "      <td>2825.000000</td>\n",
       "      <td>2825.000000</td>\n",
       "    </tr>\n",
       "    <tr>\n",
       "      <th>mean</th>\n",
       "      <td>107563.871671</td>\n",
       "      <td>20.215575</td>\n",
       "      <td>5.974159</td>\n",
       "    </tr>\n",
       "    <tr>\n",
       "      <th>std</th>\n",
       "      <td>40651.806132</td>\n",
       "      <td>11.044395</td>\n",
       "      <td>1.050953</td>\n",
       "    </tr>\n",
       "    <tr>\n",
       "      <th>min</th>\n",
       "      <td>45246.730076</td>\n",
       "      <td>0.000000</td>\n",
       "      <td>3.000000</td>\n",
       "    </tr>\n",
       "    <tr>\n",
       "      <th>25%</th>\n",
       "      <td>80325.931321</td>\n",
       "      <td>11.000000</td>\n",
       "      <td>5.000000</td>\n",
       "    </tr>\n",
       "    <tr>\n",
       "      <th>50%</th>\n",
       "      <td>95421.997784</td>\n",
       "      <td>21.000000</td>\n",
       "      <td>6.000000</td>\n",
       "    </tr>\n",
       "    <tr>\n",
       "      <th>75%</th>\n",
       "      <td>122755.429435</td>\n",
       "      <td>29.000000</td>\n",
       "      <td>7.000000</td>\n",
       "    </tr>\n",
       "    <tr>\n",
       "      <th>max</th>\n",
       "      <td>265631.179431</td>\n",
       "      <td>45.000000</td>\n",
       "      <td>10.000000</td>\n",
       "    </tr>\n",
       "  </tbody>\n",
       "</table>\n",
       "</div>"
      ],
      "text/plain": [
       "              Salary  Years_Experience  Performance\n",
       "count    2825.000000       2825.000000  2825.000000\n",
       "mean   107563.871671         20.215575     5.974159\n",
       "std     40651.806132         11.044395     1.050953\n",
       "min     45246.730076          0.000000     3.000000\n",
       "25%     80325.931321         11.000000     5.000000\n",
       "50%     95421.997784         21.000000     6.000000\n",
       "75%    122755.429435         29.000000     7.000000\n",
       "max    265631.179431         45.000000    10.000000"
      ]
     },
     "execution_count": 5,
     "metadata": {},
     "output_type": "execute_result"
    }
   ],
   "source": [
    "df.describe()"
   ]
  },
  {
   "cell_type": "code",
   "execution_count": 6,
   "id": "5345796e",
   "metadata": {},
   "outputs": [
    {
     "data": {
      "text/plain": [
       "Salary              float64\n",
       "Gender               object\n",
       "Category             object\n",
       "Years_Experience      int64\n",
       "Performance           int64\n",
       "dtype: object"
      ]
     },
     "execution_count": 6,
     "metadata": {},
     "output_type": "execute_result"
    }
   ],
   "source": [
    "df.dtypes"
   ]
  },
  {
   "cell_type": "markdown",
   "id": "c929aafe",
   "metadata": {},
   "source": [
    "The variables \"Gender\" and \"Category\" are categorical, so we are going to transform them into this type of data."
   ]
  },
  {
   "cell_type": "code",
   "execution_count": 7,
   "id": "f81871df",
   "metadata": {},
   "outputs": [
    {
     "data": {
      "text/plain": [
       "Salary               float64\n",
       "Gender              category\n",
       "Category            category\n",
       "Years_Experience       int64\n",
       "Performance            int64\n",
       "dtype: object"
      ]
     },
     "execution_count": 7,
     "metadata": {},
     "output_type": "execute_result"
    }
   ],
   "source": [
    "df['Gender'] = df['Gender'].astype('category')\n",
    "df['Category'] = df['Category'].astype('category')\n",
    "df.dtypes"
   ]
  },
  {
   "cell_type": "markdown",
   "id": "2965110f",
   "metadata": {},
   "source": [
    "We transform the categorical variables into dichotomous variables in order to incorporate them into the regression model."
   ]
  },
  {
   "cell_type": "code",
   "execution_count": 8,
   "id": "977225c6",
   "metadata": {},
   "outputs": [
    {
     "data": {
      "text/html": [
       "<div>\n",
       "<style scoped>\n",
       "    .dataframe tbody tr th:only-of-type {\n",
       "        vertical-align: middle;\n",
       "    }\n",
       "\n",
       "    .dataframe tbody tr th {\n",
       "        vertical-align: top;\n",
       "    }\n",
       "\n",
       "    .dataframe thead th {\n",
       "        text-align: right;\n",
       "    }\n",
       "</style>\n",
       "<table border=\"1\" class=\"dataframe\">\n",
       "  <thead>\n",
       "    <tr style=\"text-align: right;\">\n",
       "      <th></th>\n",
       "      <th>Salary</th>\n",
       "      <th>Gender</th>\n",
       "      <th>Category</th>\n",
       "      <th>Years_Experience</th>\n",
       "      <th>Performance</th>\n",
       "      <th>Female</th>\n",
       "      <th>Male</th>\n",
       "      <th>Executive</th>\n",
       "      <th>Middle_Manager</th>\n",
       "      <th>Technician</th>\n",
       "    </tr>\n",
       "  </thead>\n",
       "  <tbody>\n",
       "    <tr>\n",
       "      <th>0</th>\n",
       "      <td>257231.753597</td>\n",
       "      <td>Male</td>\n",
       "      <td>Executive</td>\n",
       "      <td>34</td>\n",
       "      <td>10</td>\n",
       "      <td>0</td>\n",
       "      <td>1</td>\n",
       "      <td>1</td>\n",
       "      <td>0</td>\n",
       "      <td>0</td>\n",
       "    </tr>\n",
       "    <tr>\n",
       "      <th>1</th>\n",
       "      <td>90522.829027</td>\n",
       "      <td>Female</td>\n",
       "      <td>Technician</td>\n",
       "      <td>6</td>\n",
       "      <td>7</td>\n",
       "      <td>1</td>\n",
       "      <td>0</td>\n",
       "      <td>0</td>\n",
       "      <td>0</td>\n",
       "      <td>1</td>\n",
       "    </tr>\n",
       "    <tr>\n",
       "      <th>2</th>\n",
       "      <td>150561.962239</td>\n",
       "      <td>Male</td>\n",
       "      <td>Middle_Manager</td>\n",
       "      <td>25</td>\n",
       "      <td>7</td>\n",
       "      <td>0</td>\n",
       "      <td>1</td>\n",
       "      <td>0</td>\n",
       "      <td>1</td>\n",
       "      <td>0</td>\n",
       "    </tr>\n",
       "    <tr>\n",
       "      <th>3</th>\n",
       "      <td>130006.669909</td>\n",
       "      <td>Female</td>\n",
       "      <td>Middle_Manager</td>\n",
       "      <td>23</td>\n",
       "      <td>5</td>\n",
       "      <td>1</td>\n",
       "      <td>0</td>\n",
       "      <td>0</td>\n",
       "      <td>1</td>\n",
       "      <td>0</td>\n",
       "    </tr>\n",
       "    <tr>\n",
       "      <th>4</th>\n",
       "      <td>212871.076731</td>\n",
       "      <td>Female</td>\n",
       "      <td>Executive</td>\n",
       "      <td>37</td>\n",
       "      <td>6</td>\n",
       "      <td>1</td>\n",
       "      <td>0</td>\n",
       "      <td>1</td>\n",
       "      <td>0</td>\n",
       "      <td>0</td>\n",
       "    </tr>\n",
       "    <tr>\n",
       "      <th>5</th>\n",
       "      <td>109418.187070</td>\n",
       "      <td>Male</td>\n",
       "      <td>Technician</td>\n",
       "      <td>34</td>\n",
       "      <td>6</td>\n",
       "      <td>0</td>\n",
       "      <td>1</td>\n",
       "      <td>0</td>\n",
       "      <td>0</td>\n",
       "      <td>1</td>\n",
       "    </tr>\n",
       "    <tr>\n",
       "      <th>6</th>\n",
       "      <td>147486.137638</td>\n",
       "      <td>Female</td>\n",
       "      <td>Middle_Manager</td>\n",
       "      <td>35</td>\n",
       "      <td>5</td>\n",
       "      <td>1</td>\n",
       "      <td>0</td>\n",
       "      <td>0</td>\n",
       "      <td>1</td>\n",
       "      <td>0</td>\n",
       "    </tr>\n",
       "    <tr>\n",
       "      <th>7</th>\n",
       "      <td>90906.687721</td>\n",
       "      <td>Male</td>\n",
       "      <td>Technician</td>\n",
       "      <td>3</td>\n",
       "      <td>8</td>\n",
       "      <td>0</td>\n",
       "      <td>1</td>\n",
       "      <td>0</td>\n",
       "      <td>0</td>\n",
       "      <td>1</td>\n",
       "    </tr>\n",
       "    <tr>\n",
       "      <th>8</th>\n",
       "      <td>98806.857991</td>\n",
       "      <td>Female</td>\n",
       "      <td>Technician</td>\n",
       "      <td>24</td>\n",
       "      <td>7</td>\n",
       "      <td>1</td>\n",
       "      <td>0</td>\n",
       "      <td>0</td>\n",
       "      <td>0</td>\n",
       "      <td>1</td>\n",
       "    </tr>\n",
       "    <tr>\n",
       "      <th>9</th>\n",
       "      <td>103282.387715</td>\n",
       "      <td>Female</td>\n",
       "      <td>Technician</td>\n",
       "      <td>34</td>\n",
       "      <td>6</td>\n",
       "      <td>1</td>\n",
       "      <td>0</td>\n",
       "      <td>0</td>\n",
       "      <td>0</td>\n",
       "      <td>1</td>\n",
       "    </tr>\n",
       "  </tbody>\n",
       "</table>\n",
       "</div>"
      ],
      "text/plain": [
       "          Salary  Gender        Category  Years_Experience  Performance  \\\n",
       "0  257231.753597    Male       Executive                34           10   \n",
       "1   90522.829027  Female      Technician                 6            7   \n",
       "2  150561.962239    Male  Middle_Manager                25            7   \n",
       "3  130006.669909  Female  Middle_Manager                23            5   \n",
       "4  212871.076731  Female       Executive                37            6   \n",
       "5  109418.187070    Male      Technician                34            6   \n",
       "6  147486.137638  Female  Middle_Manager                35            5   \n",
       "7   90906.687721    Male      Technician                 3            8   \n",
       "8   98806.857991  Female      Technician                24            7   \n",
       "9  103282.387715  Female      Technician                34            6   \n",
       "\n",
       "   Female  Male  Executive  Middle_Manager  Technician  \n",
       "0       0     1          1               0           0  \n",
       "1       1     0          0               0           1  \n",
       "2       0     1          0               1           0  \n",
       "3       1     0          0               1           0  \n",
       "4       1     0          1               0           0  \n",
       "5       0     1          0               0           1  \n",
       "6       1     0          0               1           0  \n",
       "7       0     1          0               0           1  \n",
       "8       1     0          0               0           1  \n",
       "9       1     0          0               0           1  "
      ]
     },
     "execution_count": 8,
     "metadata": {},
     "output_type": "execute_result"
    }
   ],
   "source": [
    "df_Gender = pd.get_dummies(df[\"Gender\"])\n",
    "df_Category = pd.get_dummies(df[\"Category\"]) \n",
    "\n",
    "df = pd.concat((df, df_Gender,df_Category), axis=1) \n",
    "\n",
    "df.head(n=10)"
   ]
  },
  {
   "cell_type": "markdown",
   "id": "59c56f72",
   "metadata": {},
   "source": [
    "## Part 2: Basic exploratory analysis of the data"
   ]
  },
  {
   "cell_type": "markdown",
   "id": "17118866",
   "metadata": {},
   "source": [
    "In the case of continuous numerical variables, it is appropriate to use a histogram."
   ]
  },
  {
   "cell_type": "code",
   "execution_count": 9,
   "id": "fdc1542d",
   "metadata": {},
   "outputs": [
    {
     "data": {
      "image/png": "[encoded data removed]",
      "text/plain": [
       "<Figure size 432x288 with 1 Axes>"
      ]
     },
     "metadata": {
      "needs_background": "light"
     },
     "output_type": "display_data"
    }
   ],
   "source": [
    "df.hist(column=\"Salary\");"
   ]
  },
  {
   "cell_type": "markdown",
   "id": "b2020f7b",
   "metadata": {},
   "source": [
    "In the case of discrete numerical variables and categorical variables, it is appropriate to use a barplot or a pie chart.\n",
    "That is the case for \"Performance\" (discrete numerical variable)"
   ]
  },
  {
   "cell_type": "code",
   "execution_count": 10,
   "id": "14b47bf5",
   "metadata": {},
   "outputs": [
    {
     "data": {
      "text/html": [
       "<div>\n",
       "<style scoped>\n",
       "    .dataframe tbody tr th:only-of-type {\n",
       "        vertical-align: middle;\n",
       "    }\n",
       "\n",
       "    .dataframe tbody tr th {\n",
       "        vertical-align: top;\n",
       "    }\n",
       "\n",
       "    .dataframe thead th {\n",
       "        text-align: right;\n",
       "    }\n",
       "</style>\n",
       "<table border=\"1\" class=\"dataframe\">\n",
       "  <thead>\n",
       "    <tr style=\"text-align: right;\">\n",
       "      <th>col_0</th>\n",
       "      <th>count</th>\n",
       "    </tr>\n",
       "    <tr>\n",
       "      <th>Performance</th>\n",
       "      <th></th>\n",
       "    </tr>\n",
       "  </thead>\n",
       "  <tbody>\n",
       "    <tr>\n",
       "      <th>3</th>\n",
       "      <td>17</td>\n",
       "    </tr>\n",
       "    <tr>\n",
       "      <th>4</th>\n",
       "      <td>185</td>\n",
       "    </tr>\n",
       "    <tr>\n",
       "      <th>5</th>\n",
       "      <td>695</td>\n",
       "    </tr>\n",
       "    <tr>\n",
       "      <th>6</th>\n",
       "      <td>1107</td>\n",
       "    </tr>\n",
       "    <tr>\n",
       "      <th>7</th>\n",
       "      <td>621</td>\n",
       "    </tr>\n",
       "    <tr>\n",
       "      <th>8</th>\n",
       "      <td>179</td>\n",
       "    </tr>\n",
       "    <tr>\n",
       "      <th>9</th>\n",
       "      <td>20</td>\n",
       "    </tr>\n",
       "    <tr>\n",
       "      <th>10</th>\n",
       "      <td>1</td>\n",
       "    </tr>\n",
       "  </tbody>\n",
       "</table>\n",
       "</div>"
      ],
      "text/plain": [
       "col_0        count\n",
       "Performance       \n",
       "3               17\n",
       "4              185\n",
       "5              695\n",
       "6             1107\n",
       "7              621\n",
       "8              179\n",
       "9               20\n",
       "10               1"
      ]
     },
     "execution_count": 10,
     "metadata": {},
     "output_type": "execute_result"
    }
   ],
   "source": [
    "Table_Performance = pd.crosstab(index=df['Performance'], columns='count')\n",
    "Table_Performance"
   ]
  },
  {
   "cell_type": "markdown",
   "id": "435d5bf9",
   "metadata": {},
   "source": [
    "Lets plot the barplot (rot=0 means taht labels in x-axis will not be rotated)"
   ]
  },
  {
   "cell_type": "code",
   "execution_count": 11,
   "id": "51e498a9",
   "metadata": {},
   "outputs": [
    {
     "data": {
      "image/png": "[encoded data removed]",
      "text/plain": [
       "<Figure size 432x288 with 1 Axes>"
      ]
     },
     "metadata": {
      "needs_background": "light"
     },
     "output_type": "display_data"
    }
   ],
   "source": [
    "barplot = Table_Performance.plot.bar(rot=0, legend=False)"
   ]
  },
  {
   "cell_type": "markdown",
   "id": "e052007c",
   "metadata": {},
   "source": [
    "We can also plot an aggregated barplot (by other categorical variable as Gender)"
   ]
  },
  {
   "cell_type": "code",
   "execution_count": 12,
   "id": "71620b06",
   "metadata": {},
   "outputs": [
    {
     "data": {
      "image/png": "[encoded data removed]",
      "text/plain": [
       "<Figure size 432x288 with 1 Axes>"
      ]
     },
     "metadata": {
      "needs_background": "light"
     },
     "output_type": "display_data"
    }
   ],
   "source": [
    "Table_Performance_by_Gender = pd.crosstab(df.Performance,df.Gender)\n",
    "barplot = Table_Performance_by_Gender.plot.bar(rot=0)"
   ]
  },
  {
   "cell_type": "markdown",
   "id": "784a0641",
   "metadata": {},
   "source": [
    "That is also the case for \"Category\" (categorical ordinal variable)"
   ]
  },
  {
   "cell_type": "code",
   "execution_count": 13,
   "id": "4bb7ab0e",
   "metadata": {},
   "outputs": [
    {
     "data": {
      "image/png": "[encoded data removed]",
      "text/plain": [
       "<Figure size 432x288 with 1 Axes>"
      ]
     },
     "metadata": {
      "needs_background": "light"
     },
     "output_type": "display_data"
    }
   ],
   "source": [
    "Table_Category = pd.crosstab(index=df['Category'], columns='count')\n",
    "barplot = Table_Category.plot.bar(rot=0, legend=False)"
   ]
  },
  {
   "cell_type": "markdown",
   "id": "dd9614ab",
   "metadata": {},
   "source": [
    "Same data in a pie chart"
   ]
  },
  {
   "cell_type": "code",
   "execution_count": 14,
   "id": "80afd8b3",
   "metadata": {},
   "outputs": [
    {
     "data": {
      "image/png": "[encoded data removed]",
      "text/plain": [
       "<Figure size 432x288 with 1 Axes>"
      ]
     },
     "metadata": {},
     "output_type": "display_data"
    }
   ],
   "source": [
    "Table_Category.plot.pie(subplots=True,legend=False)\n",
    "plt.gca().set(title='Pie Chart (Category)', ylabel='');"
   ]
  },
  {
   "cell_type": "markdown",
   "id": "a57a8f3f",
   "metadata": {},
   "source": [
    "## Part 3: First model (Simple Linear Regression)"
   ]
  },
  {
   "cell_type": "markdown",
   "id": "c6a649f0",
   "metadata": {},
   "source": [
    "Now, lets fit the model:  y ~ Bo + B1 x + u"
   ]
  },
  {
   "cell_type": "code",
   "execution_count": 15,
   "id": "124c1d53",
   "metadata": {},
   "outputs": [
    {
     "name": "stdout",
     "output_type": "stream",
     "text": [
      "                            OLS Regression Results                            \n",
      "==============================================================================\n",
      "Dep. Variable:                 Salary   R-squared:                       0.498\n",
      "Model:                            OLS   Adj. R-squared:                  0.498\n",
      "Method:                 Least Squares   F-statistic:                     2802.\n",
      "Date:                Sun, 05 Jun 2022   Prob (F-statistic):               0.00\n",
      "Time:                        14:47:19   Log-Likelihood:                -33015.\n",
      "No. Observations:                2825   AIC:                         6.603e+04\n",
      "Df Residuals:                    2823   BIC:                         6.605e+04\n",
      "Df Model:                           1                                         \n",
      "Covariance Type:            nonrobust                                         \n",
      "====================================================================================\n",
      "                       coef    std err          t      P>|t|      [0.025      0.975]\n",
      "------------------------------------------------------------------------------------\n",
      "const             5.505e+04   1130.488     48.694      0.000    5.28e+04    5.73e+04\n",
      "Years_Experience  2597.8081     49.077     52.933      0.000    2501.577    2694.039\n",
      "==============================================================================\n",
      "Omnibus:                      234.864   Durbin-Watson:                   0.847\n",
      "Prob(Omnibus):                  0.000   Jarque-Bera (JB):              295.357\n",
      "Skew:                           0.757   Prob(JB):                     7.31e-65\n",
      "Kurtosis:                       3.468   Cond. No.                         48.1\n",
      "==============================================================================\n",
      "\n",
      "Notes:\n",
      "[1] Standard Errors assume that the covariance matrix of the errors is correctly specified.\n"
     ]
    }
   ],
   "source": [
    "# Define dependent variable\n",
    "y = df['Salary']\n",
    "\n",
    "# Define independent variable\n",
    "x = df[['Years_Experience']]\n",
    "\n",
    "# Add constant (beta 0) to predictor variables\n",
    "x = sm.add_constant(x) #  we need to add the intercept term explicitly\n",
    "\n",
    "#fit linear regression model\n",
    "model_1 = sm.OLS(y, x)\n",
    "regr_results_model_1 = model_1.fit()\n",
    "    \n",
    "print(regr_results_model_1.summary())"
   ]
  },
  {
   "cell_type": "code",
   "execution_count": 18,
   "id": "c7a9baaa",
   "metadata": {},
   "outputs": [
    {
     "data": {
      "image/png": "[encoded data removed]",
      "text/plain": [
       "<Figure size 432x288 with 1 Axes>"
      ]
     },
     "metadata": {
      "needs_background": "light"
     },
     "output_type": "display_data"
    }
   ],
   "source": [
    "sns.regplot(x='Years_Experience', y='Salary', data=df,\n",
    "                 scatter_kws={\"color\": \"black\"}, line_kws={\"color\": \"red\"})\n",
    "plt.gca().set(title='scatter plot (Salary as dependent variable)', ylabel='');"
   ]
  },
  {
   "cell_type": "markdown",
   "id": "38616886",
   "metadata": {},
   "source": [
    "Apparently we have a problem of structural stability in the last period (years of experience over 35).\n",
    "In addition, we can intuit a certain nonlinear behavior"
   ]
  },
  {
   "cell_type": "markdown",
   "id": "d2a08678",
   "metadata": {},
   "source": [
    "Now, let's check the normality of the residuals"
   ]
  },
  {
   "cell_type": "code",
   "execution_count": 19,
   "id": "61043d80",
   "metadata": {},
   "outputs": [
    {
     "data": {
      "image/png": "[encoded data removed]",
      "text/plain": [
       "<Figure size 432x288 with 1 Axes>"
      ]
     },
     "metadata": {
      "needs_background": "light"
     },
     "output_type": "display_data"
    }
   ],
   "source": [
    "res = regr_results_model_1.resid # residuals\n",
    "stats.probplot(res, dist=\"norm\", plot=plt)\n",
    "plt.gca().set(title='Probability Plot', ylabel='');"
   ]
  },
  {
   "cell_type": "markdown",
   "id": "21674dcc",
   "metadata": {},
   "source": [
    "We seem to have a problem. Let's see the Shapiro-Wilk normality test"
   ]
  },
  {
   "cell_type": "code",
   "execution_count": 20,
   "id": "3779ab56",
   "metadata": {},
   "outputs": [
    {
     "data": {
      "text/plain": [
       "ShapiroResult(statistic=0.963310956954956, pvalue=3.3717363388464224e-26)"
      ]
     },
     "execution_count": 20,
     "metadata": {},
     "output_type": "execute_result"
    }
   ],
   "source": [
    "stats.shapiro(res)"
   ]
  },
  {
   "cell_type": "markdown",
   "id": "ccc1c3d6",
   "metadata": {},
   "source": [
    "Indeed, the residues are not normal (p-value < 0.05)"
   ]
  },
  {
   "cell_type": "markdown",
   "id": "7846cb3d",
   "metadata": {},
   "source": [
    "## Part 4: Second model (Multiple Linear Regression)"
   ]
  },
  {
   "cell_type": "markdown",
   "id": "8d55206d",
   "metadata": {},
   "source": [
    "From the first model we already know that we must include a quadratic term in the years of experience.\n",
    "\n",
    "Additionaly we know that we have a problem of structural stability in the last period (years of experience over 35). Is it possible that the variable performance requires an interaction with category? Let's check it"
   ]
  },
  {
   "cell_type": "code",
   "execution_count": 21,
   "id": "da9b77c4",
   "metadata": {},
   "outputs": [
    {
     "name": "stdout",
     "output_type": "stream",
     "text": [
      "                            OLS Regression Results                            \n",
      "==============================================================================\n",
      "Dep. Variable:                 Salary   R-squared:                       0.118\n",
      "Model:                            OLS   Adj. R-squared:                  0.117\n",
      "Method:                 Least Squares   F-statistic:                     376.7\n",
      "Date:                Sun, 05 Jun 2022   Prob (F-statistic):           7.11e-79\n",
      "Time:                        14:50:41   Log-Likelihood:                -33812.\n",
      "No. Observations:                2825   AIC:                         6.763e+04\n",
      "Df Residuals:                    2823   BIC:                         6.764e+04\n",
      "Df Model:                           1                                         \n",
      "Covariance Type:            nonrobust                                         \n",
      "===============================================================================\n",
      "                  coef    std err          t      P>|t|      [0.025      0.975]\n",
      "-------------------------------------------------------------------------------\n",
      "const        2.827e+04   4147.943      6.816      0.000    2.01e+04    3.64e+04\n",
      "Performance  1.327e+04    683.818     19.409      0.000    1.19e+04    1.46e+04\n",
      "==============================================================================\n",
      "Omnibus:                      711.998   Durbin-Watson:                   0.235\n",
      "Prob(Omnibus):                  0.000   Jarque-Bera (JB):             1418.975\n",
      "Skew:                           1.520   Prob(JB):                    7.47e-309\n",
      "Kurtosis:                       4.679   Cond. No.                         35.9\n",
      "==============================================================================\n",
      "\n",
      "Notes:\n",
      "[1] Standard Errors assume that the covariance matrix of the errors is correctly specified.\n"
     ]
    }
   ],
   "source": [
    "y = df['Salary']\n",
    "x = df[['Performance']]\n",
    "\n",
    "# Add constant (beta 0) to predictor variables\n",
    "x = sm.add_constant(x) #  we need to add the intercept term explicitly\n",
    "\n",
    "#fit linear regression model\n",
    "model_1_2 = sm.OLS(y, x)\n",
    "regr_results_model_1_2 = model_1_2.fit()\n",
    "    \n",
    "print(regr_results_model_1_2.summary())"
   ]
  },
  {
   "cell_type": "code",
   "execution_count": 23,
   "id": "8455dccd",
   "metadata": {},
   "outputs": [
    {
     "data": {
      "image/png": "[encoded data removed]",
      "text/plain": [
       "<Figure size 432x288 with 1 Axes>"
      ]
     },
     "metadata": {
      "needs_background": "light"
     },
     "output_type": "display_data"
    },
    {
     "data": {
      "image/png": "[encoded data removed]",
      "text/plain": [
       "<Figure size 478.125x360 with 1 Axes>"
      ]
     },
     "metadata": {
      "needs_background": "light"
     },
     "output_type": "display_data"
    }
   ],
   "source": [
    "sns.regplot(x='Performance', y='Salary', data=df,\n",
    "                 scatter_kws={\"color\": \"black\"}, line_kws={\"color\": \"red\"})\n",
    "plt.gca().set(title='scatter plot (Salary as dependent variable)', ylabel='');\n",
    "sns.lmplot(x=\"Performance\", y=\"Salary\", hue=\"Category\", data=df);"
   ]
  },
  {
   "cell_type": "markdown",
   "id": "5876c695",
   "metadata": {},
   "source": [
    "Indeed, the performance variable probably requires an interaction with professional category."
   ]
  },
  {
   "cell_type": "markdown",
   "id": "15fa0f82",
   "metadata": {},
   "source": [
    "Now, lets fit the model:  y ~ Bo + B1 x1 + B2 x2 + ... + u\n",
    "In this case\n",
    "Salary = B0 + B1 Years_Experience + B2 Years_Experience^2 + B3 Performance + B4 Female + B5 Middle_Manager + B6 Executive + B7 Performance x Middle_Manager + B8 Performance x Executive +u"
   ]
  },
  {
   "cell_type": "code",
   "execution_count": 24,
   "id": "391f508a",
   "metadata": {},
   "outputs": [
    {
     "data": {
      "text/html": [
       "<div>\n",
       "<style scoped>\n",
       "    .dataframe tbody tr th:only-of-type {\n",
       "        vertical-align: middle;\n",
       "    }\n",
       "\n",
       "    .dataframe tbody tr th {\n",
       "        vertical-align: top;\n",
       "    }\n",
       "\n",
       "    .dataframe thead th {\n",
       "        text-align: right;\n",
       "    }\n",
       "</style>\n",
       "<table border=\"1\" class=\"dataframe\">\n",
       "  <thead>\n",
       "    <tr style=\"text-align: right;\">\n",
       "      <th></th>\n",
       "      <th>Salary</th>\n",
       "      <th>Gender</th>\n",
       "      <th>Category</th>\n",
       "      <th>Years_Experience</th>\n",
       "      <th>Performance</th>\n",
       "      <th>Female</th>\n",
       "      <th>Male</th>\n",
       "      <th>Executive</th>\n",
       "      <th>Middle_Manager</th>\n",
       "      <th>Technician</th>\n",
       "      <th>Years_Experience2</th>\n",
       "      <th>Interaction_Performance_Middle_Manager</th>\n",
       "      <th>Interaction_Performance_Executive</th>\n",
       "    </tr>\n",
       "  </thead>\n",
       "  <tbody>\n",
       "    <tr>\n",
       "      <th>0</th>\n",
       "      <td>257231.753597</td>\n",
       "      <td>Male</td>\n",
       "      <td>Executive</td>\n",
       "      <td>34</td>\n",
       "      <td>10</td>\n",
       "      <td>0</td>\n",
       "      <td>1</td>\n",
       "      <td>1</td>\n",
       "      <td>0</td>\n",
       "      <td>0</td>\n",
       "      <td>1156</td>\n",
       "      <td>0</td>\n",
       "      <td>10</td>\n",
       "    </tr>\n",
       "    <tr>\n",
       "      <th>1</th>\n",
       "      <td>90522.829027</td>\n",
       "      <td>Female</td>\n",
       "      <td>Technician</td>\n",
       "      <td>6</td>\n",
       "      <td>7</td>\n",
       "      <td>1</td>\n",
       "      <td>0</td>\n",
       "      <td>0</td>\n",
       "      <td>0</td>\n",
       "      <td>1</td>\n",
       "      <td>36</td>\n",
       "      <td>0</td>\n",
       "      <td>0</td>\n",
       "    </tr>\n",
       "    <tr>\n",
       "      <th>2</th>\n",
       "      <td>150561.962239</td>\n",
       "      <td>Male</td>\n",
       "      <td>Middle_Manager</td>\n",
       "      <td>25</td>\n",
       "      <td>7</td>\n",
       "      <td>0</td>\n",
       "      <td>1</td>\n",
       "      <td>0</td>\n",
       "      <td>1</td>\n",
       "      <td>0</td>\n",
       "      <td>625</td>\n",
       "      <td>7</td>\n",
       "      <td>0</td>\n",
       "    </tr>\n",
       "    <tr>\n",
       "      <th>3</th>\n",
       "      <td>130006.669909</td>\n",
       "      <td>Female</td>\n",
       "      <td>Middle_Manager</td>\n",
       "      <td>23</td>\n",
       "      <td>5</td>\n",
       "      <td>1</td>\n",
       "      <td>0</td>\n",
       "      <td>0</td>\n",
       "      <td>1</td>\n",
       "      <td>0</td>\n",
       "      <td>529</td>\n",
       "      <td>5</td>\n",
       "      <td>0</td>\n",
       "    </tr>\n",
       "    <tr>\n",
       "      <th>4</th>\n",
       "      <td>212871.076731</td>\n",
       "      <td>Female</td>\n",
       "      <td>Executive</td>\n",
       "      <td>37</td>\n",
       "      <td>6</td>\n",
       "      <td>1</td>\n",
       "      <td>0</td>\n",
       "      <td>1</td>\n",
       "      <td>0</td>\n",
       "      <td>0</td>\n",
       "      <td>1369</td>\n",
       "      <td>0</td>\n",
       "      <td>6</td>\n",
       "    </tr>\n",
       "    <tr>\n",
       "      <th>5</th>\n",
       "      <td>109418.187070</td>\n",
       "      <td>Male</td>\n",
       "      <td>Technician</td>\n",
       "      <td>34</td>\n",
       "      <td>6</td>\n",
       "      <td>0</td>\n",
       "      <td>1</td>\n",
       "      <td>0</td>\n",
       "      <td>0</td>\n",
       "      <td>1</td>\n",
       "      <td>1156</td>\n",
       "      <td>0</td>\n",
       "      <td>0</td>\n",
       "    </tr>\n",
       "    <tr>\n",
       "      <th>6</th>\n",
       "      <td>147486.137638</td>\n",
       "      <td>Female</td>\n",
       "      <td>Middle_Manager</td>\n",
       "      <td>35</td>\n",
       "      <td>5</td>\n",
       "      <td>1</td>\n",
       "      <td>0</td>\n",
       "      <td>0</td>\n",
       "      <td>1</td>\n",
       "      <td>0</td>\n",
       "      <td>1225</td>\n",
       "      <td>5</td>\n",
       "      <td>0</td>\n",
       "    </tr>\n",
       "    <tr>\n",
       "      <th>7</th>\n",
       "      <td>90906.687721</td>\n",
       "      <td>Male</td>\n",
       "      <td>Technician</td>\n",
       "      <td>3</td>\n",
       "      <td>8</td>\n",
       "      <td>0</td>\n",
       "      <td>1</td>\n",
       "      <td>0</td>\n",
       "      <td>0</td>\n",
       "      <td>1</td>\n",
       "      <td>9</td>\n",
       "      <td>0</td>\n",
       "      <td>0</td>\n",
       "    </tr>\n",
       "    <tr>\n",
       "      <th>8</th>\n",
       "      <td>98806.857991</td>\n",
       "      <td>Female</td>\n",
       "      <td>Technician</td>\n",
       "      <td>24</td>\n",
       "      <td>7</td>\n",
       "      <td>1</td>\n",
       "      <td>0</td>\n",
       "      <td>0</td>\n",
       "      <td>0</td>\n",
       "      <td>1</td>\n",
       "      <td>576</td>\n",
       "      <td>0</td>\n",
       "      <td>0</td>\n",
       "    </tr>\n",
       "    <tr>\n",
       "      <th>9</th>\n",
       "      <td>103282.387715</td>\n",
       "      <td>Female</td>\n",
       "      <td>Technician</td>\n",
       "      <td>34</td>\n",
       "      <td>6</td>\n",
       "      <td>1</td>\n",
       "      <td>0</td>\n",
       "      <td>0</td>\n",
       "      <td>0</td>\n",
       "      <td>1</td>\n",
       "      <td>1156</td>\n",
       "      <td>0</td>\n",
       "      <td>0</td>\n",
       "    </tr>\n",
       "  </tbody>\n",
       "</table>\n",
       "</div>"
      ],
      "text/plain": [
       "          Salary  Gender        Category  Years_Experience  Performance  \\\n",
       "0  257231.753597    Male       Executive                34           10   \n",
       "1   90522.829027  Female      Technician                 6            7   \n",
       "2  150561.962239    Male  Middle_Manager                25            7   \n",
       "3  130006.669909  Female  Middle_Manager                23            5   \n",
       "4  212871.076731  Female       Executive                37            6   \n",
       "5  109418.187070    Male      Technician                34            6   \n",
       "6  147486.137638  Female  Middle_Manager                35            5   \n",
       "7   90906.687721    Male      Technician                 3            8   \n",
       "8   98806.857991  Female      Technician                24            7   \n",
       "9  103282.387715  Female      Technician                34            6   \n",
       "\n",
       "   Female  Male  Executive  Middle_Manager  Technician  Years_Experience2  \\\n",
       "0       0     1          1               0           0               1156   \n",
       "1       1     0          0               0           1                 36   \n",
       "2       0     1          0               1           0                625   \n",
       "3       1     0          0               1           0                529   \n",
       "4       1     0          1               0           0               1369   \n",
       "5       0     1          0               0           1               1156   \n",
       "6       1     0          0               1           0               1225   \n",
       "7       0     1          0               0           1                  9   \n",
       "8       1     0          0               0           1                576   \n",
       "9       1     0          0               0           1               1156   \n",
       "\n",
       "   Interaction_Performance_Middle_Manager  Interaction_Performance_Executive  \n",
       "0                                       0                                 10  \n",
       "1                                       0                                  0  \n",
       "2                                       7                                  0  \n",
       "3                                       5                                  0  \n",
       "4                                       0                                  6  \n",
       "5                                       0                                  0  \n",
       "6                                       5                                  0  \n",
       "7                                       0                                  0  \n",
       "8                                       0                                  0  \n",
       "9                                       0                                  0  "
      ]
     },
     "execution_count": 24,
     "metadata": {},
     "output_type": "execute_result"
    }
   ],
   "source": [
    "Years_Experience2 = (df['Years_Experience'])*(df['Years_Experience'])\n",
    "df[\"Years_Experience2\"] = Years_Experience2\n",
    "\n",
    "Interaction_Performance_Middle_Manager = (df['Performance'])*(df['Middle_Manager'])\n",
    "df[\"Interaction_Performance_Middle_Manager\"] = Interaction_Performance_Middle_Manager\n",
    "\n",
    "Interaction_Performance_Executive = (df['Performance'])*(df['Executive'])\n",
    "df[\"Interaction_Performance_Executive\"] = Interaction_Performance_Executive\n",
    "\n",
    "df.head(n=10)"
   ]
  },
  {
   "cell_type": "code",
   "execution_count": 25,
   "id": "1d84730c",
   "metadata": {},
   "outputs": [
    {
     "name": "stdout",
     "output_type": "stream",
     "text": [
      "                            OLS Regression Results                            \n",
      "==============================================================================\n",
      "Dep. Variable:                 Salary   R-squared:                       0.985\n",
      "Model:                            OLS   Adj. R-squared:                  0.985\n",
      "Method:                 Least Squares   F-statistic:                 2.358e+04\n",
      "Date:                Sun, 05 Jun 2022   Prob (F-statistic):               0.00\n",
      "Time:                        15:06:58   Log-Likelihood:                -28029.\n",
      "No. Observations:                2825   AIC:                         5.608e+04\n",
      "Df Residuals:                    2816   BIC:                         5.613e+04\n",
      "Df Model:                           8                                         \n",
      "Covariance Type:            nonrobust                                         \n",
      "==========================================================================================================\n",
      "                                             coef    std err          t      P>|t|      [0.025      0.975]\n",
      "----------------------------------------------------------------------------------------------------------\n",
      "const                                   1.449e+04    667.919     21.694      0.000    1.32e+04    1.58e+04\n",
      "Years_Experience                          87.7456     34.055      2.577      0.010      20.970     154.521\n",
      "Years_Experience2                         30.1294      0.894     33.705      0.000      28.377      31.882\n",
      "Performance                             1.012e+04    101.564     99.677      0.000    9924.427    1.03e+04\n",
      "Female                                   172.2597    186.390      0.924      0.355    -193.215     537.735\n",
      "Middle_Manager                          3.265e+04   1522.057     21.450      0.000    2.97e+04    3.56e+04\n",
      "Executive                               5.658e+04   2002.037     28.261      0.000    5.27e+04    6.05e+04\n",
      "Interaction_Performance_Middle_Manager  2546.5326    251.113     10.141      0.000    2054.148    3038.917\n",
      "Interaction_Performance_Executive       5470.3414    313.474     17.451      0.000    4855.680    6085.003\n",
      "==============================================================================\n",
      "Omnibus:                        6.652   Durbin-Watson:                   1.974\n",
      "Prob(Omnibus):                  0.036   Jarque-Bera (JB):                6.320\n",
      "Skew:                          -0.084   Prob(JB):                       0.0424\n",
      "Kurtosis:                       2.839   Cond. No.                     1.54e+04\n",
      "==============================================================================\n",
      "\n",
      "Notes:\n",
      "[1] Standard Errors assume that the covariance matrix of the errors is correctly specified.\n",
      "[2] The condition number is large, 1.54e+04. This might indicate that there are\n",
      "strong multicollinearity or other numerical problems.\n"
     ]
    }
   ],
   "source": [
    "y = df['Salary']\n",
    "x = df[['Years_Experience','Years_Experience2','Performance','Female','Middle_Manager',\n",
    "        'Executive','Interaction_Performance_Middle_Manager','Interaction_Performance_Executive']]\n",
    "\n",
    "# Add constant (beta 0) to predictor variables\n",
    "x = sm.add_constant(x) #  we need to add the intercept term explicitly\n",
    "\n",
    "#fit linear regression model\n",
    "model_2 = sm.OLS(y, x)\n",
    "regr_results_model_2 = model_2.fit()\n",
    "    \n",
    "print(regr_results_model_2.summary())"
   ]
  },
  {
   "cell_type": "markdown",
   "id": "a26d91ef",
   "metadata": {},
   "source": [
    "We get this message: \"The condition number is large, 1.6e+04. This might indicate that there are\n",
    "strong multicollinearity or other numerical problems\"\n",
    "Let's check multicollinearity"
   ]
  },
  {
   "cell_type": "code",
   "execution_count": 26,
   "id": "06838349",
   "metadata": {},
   "outputs": [
    {
     "name": "stdout",
     "output_type": "stream",
     "text": [
      "                                  feature        VIF\n",
      "0                                   const  51.696670\n",
      "1                        Years_Experience  16.387363\n",
      "2                       Years_Experience2  18.733621\n",
      "3                             Performance   1.319796\n",
      "4                                  Female   1.004239\n",
      "5                          Middle_Manager  37.296461\n",
      "6                               Executive  32.100414\n",
      "7  Interaction_Performance_Middle_Manager  37.407883\n",
      "8       Interaction_Performance_Executive  31.499666\n"
     ]
    }
   ],
   "source": [
    "from statsmodels.stats.outliers_influence import variance_inflation_factor\n",
    "vif_data = pd.DataFrame()\n",
    "vif_data[\"feature\"] = x.columns\n",
    "vif_data[\"VIF\"] = [variance_inflation_factor(x.values, i)\n",
    "                          for i in range(len(x.columns))]\n",
    "  \n",
    "print(vif_data)"
   ]
  },
  {
   "cell_type": "markdown",
   "id": "f36fcbec",
   "metadata": {},
   "source": [
    "Clearly we have a multicollinearity problem: many VIFs are greater than 5 --> INFERENCE IS NOT VALID\n",
    "\n",
    "This is typical when we incorporate quadratic terms or interactions into a regression model. Fortunately the solution is simple in these cases: center each numerical variable"
   ]
  },
  {
   "cell_type": "code",
   "execution_count": 27,
   "id": "33dc6207",
   "metadata": {},
   "outputs": [
    {
     "data": {
      "text/html": [
       "<div>\n",
       "<style scoped>\n",
       "    .dataframe tbody tr th:only-of-type {\n",
       "        vertical-align: middle;\n",
       "    }\n",
       "\n",
       "    .dataframe tbody tr th {\n",
       "        vertical-align: top;\n",
       "    }\n",
       "\n",
       "    .dataframe thead th {\n",
       "        text-align: right;\n",
       "    }\n",
       "</style>\n",
       "<table border=\"1\" class=\"dataframe\">\n",
       "  <thead>\n",
       "    <tr style=\"text-align: right;\">\n",
       "      <th></th>\n",
       "      <th>Salary</th>\n",
       "      <th>Gender</th>\n",
       "      <th>Category</th>\n",
       "      <th>Years_Experience</th>\n",
       "      <th>Performance</th>\n",
       "      <th>Female</th>\n",
       "      <th>Male</th>\n",
       "      <th>Executive</th>\n",
       "      <th>Middle_Manager</th>\n",
       "      <th>Technician</th>\n",
       "      <th>Years_Experience2</th>\n",
       "      <th>Interaction_Performance_Middle_Manager</th>\n",
       "      <th>Interaction_Performance_Executive</th>\n",
       "      <th>Years_Experience_centered</th>\n",
       "      <th>Performance_centered</th>\n",
       "      <th>Years_Experience_centered2</th>\n",
       "      <th>Interaction_Performance_Middle_Manager_centered</th>\n",
       "      <th>Interaction_Performance_Executive_centered</th>\n",
       "    </tr>\n",
       "  </thead>\n",
       "  <tbody>\n",
       "    <tr>\n",
       "      <th>0</th>\n",
       "      <td>257231.753597</td>\n",
       "      <td>Male</td>\n",
       "      <td>Executive</td>\n",
       "      <td>34</td>\n",
       "      <td>10</td>\n",
       "      <td>0</td>\n",
       "      <td>1</td>\n",
       "      <td>1</td>\n",
       "      <td>0</td>\n",
       "      <td>0</td>\n",
       "      <td>1156</td>\n",
       "      <td>0</td>\n",
       "      <td>10</td>\n",
       "      <td>13.784425</td>\n",
       "      <td>4.025841</td>\n",
       "      <td>190.010366</td>\n",
       "      <td>0.000000</td>\n",
       "      <td>4.025841</td>\n",
       "    </tr>\n",
       "    <tr>\n",
       "      <th>1</th>\n",
       "      <td>90522.829027</td>\n",
       "      <td>Female</td>\n",
       "      <td>Technician</td>\n",
       "      <td>6</td>\n",
       "      <td>7</td>\n",
       "      <td>1</td>\n",
       "      <td>0</td>\n",
       "      <td>0</td>\n",
       "      <td>0</td>\n",
       "      <td>1</td>\n",
       "      <td>36</td>\n",
       "      <td>0</td>\n",
       "      <td>0</td>\n",
       "      <td>-14.215575</td>\n",
       "      <td>1.025841</td>\n",
       "      <td>202.082579</td>\n",
       "      <td>0.000000</td>\n",
       "      <td>0.000000</td>\n",
       "    </tr>\n",
       "    <tr>\n",
       "      <th>2</th>\n",
       "      <td>150561.962239</td>\n",
       "      <td>Male</td>\n",
       "      <td>Middle_Manager</td>\n",
       "      <td>25</td>\n",
       "      <td>7</td>\n",
       "      <td>0</td>\n",
       "      <td>1</td>\n",
       "      <td>0</td>\n",
       "      <td>1</td>\n",
       "      <td>0</td>\n",
       "      <td>625</td>\n",
       "      <td>7</td>\n",
       "      <td>0</td>\n",
       "      <td>4.784425</td>\n",
       "      <td>1.025841</td>\n",
       "      <td>22.890720</td>\n",
       "      <td>1.025841</td>\n",
       "      <td>0.000000</td>\n",
       "    </tr>\n",
       "    <tr>\n",
       "      <th>3</th>\n",
       "      <td>130006.669909</td>\n",
       "      <td>Female</td>\n",
       "      <td>Middle_Manager</td>\n",
       "      <td>23</td>\n",
       "      <td>5</td>\n",
       "      <td>1</td>\n",
       "      <td>0</td>\n",
       "      <td>0</td>\n",
       "      <td>1</td>\n",
       "      <td>0</td>\n",
       "      <td>529</td>\n",
       "      <td>5</td>\n",
       "      <td>0</td>\n",
       "      <td>2.784425</td>\n",
       "      <td>-0.974159</td>\n",
       "      <td>7.753021</td>\n",
       "      <td>-0.974159</td>\n",
       "      <td>-0.000000</td>\n",
       "    </tr>\n",
       "    <tr>\n",
       "      <th>4</th>\n",
       "      <td>212871.076731</td>\n",
       "      <td>Female</td>\n",
       "      <td>Executive</td>\n",
       "      <td>37</td>\n",
       "      <td>6</td>\n",
       "      <td>1</td>\n",
       "      <td>0</td>\n",
       "      <td>1</td>\n",
       "      <td>0</td>\n",
       "      <td>0</td>\n",
       "      <td>1369</td>\n",
       "      <td>0</td>\n",
       "      <td>6</td>\n",
       "      <td>16.784425</td>\n",
       "      <td>0.025841</td>\n",
       "      <td>281.716915</td>\n",
       "      <td>0.000000</td>\n",
       "      <td>0.025841</td>\n",
       "    </tr>\n",
       "    <tr>\n",
       "      <th>5</th>\n",
       "      <td>109418.187070</td>\n",
       "      <td>Male</td>\n",
       "      <td>Technician</td>\n",
       "      <td>34</td>\n",
       "      <td>6</td>\n",
       "      <td>0</td>\n",
       "      <td>1</td>\n",
       "      <td>0</td>\n",
       "      <td>0</td>\n",
       "      <td>1</td>\n",
       "      <td>1156</td>\n",
       "      <td>0</td>\n",
       "      <td>0</td>\n",
       "      <td>13.784425</td>\n",
       "      <td>0.025841</td>\n",
       "      <td>190.010366</td>\n",
       "      <td>0.000000</td>\n",
       "      <td>0.000000</td>\n",
       "    </tr>\n",
       "    <tr>\n",
       "      <th>6</th>\n",
       "      <td>147486.137638</td>\n",
       "      <td>Female</td>\n",
       "      <td>Middle_Manager</td>\n",
       "      <td>35</td>\n",
       "      <td>5</td>\n",
       "      <td>1</td>\n",
       "      <td>0</td>\n",
       "      <td>0</td>\n",
       "      <td>1</td>\n",
       "      <td>0</td>\n",
       "      <td>1225</td>\n",
       "      <td>5</td>\n",
       "      <td>0</td>\n",
       "      <td>14.784425</td>\n",
       "      <td>-0.974159</td>\n",
       "      <td>218.579216</td>\n",
       "      <td>-0.974159</td>\n",
       "      <td>-0.000000</td>\n",
       "    </tr>\n",
       "    <tr>\n",
       "      <th>7</th>\n",
       "      <td>90906.687721</td>\n",
       "      <td>Male</td>\n",
       "      <td>Technician</td>\n",
       "      <td>3</td>\n",
       "      <td>8</td>\n",
       "      <td>0</td>\n",
       "      <td>1</td>\n",
       "      <td>0</td>\n",
       "      <td>0</td>\n",
       "      <td>1</td>\n",
       "      <td>9</td>\n",
       "      <td>0</td>\n",
       "      <td>0</td>\n",
       "      <td>-17.215575</td>\n",
       "      <td>2.025841</td>\n",
       "      <td>296.376030</td>\n",
       "      <td>0.000000</td>\n",
       "      <td>0.000000</td>\n",
       "    </tr>\n",
       "    <tr>\n",
       "      <th>8</th>\n",
       "      <td>98806.857991</td>\n",
       "      <td>Female</td>\n",
       "      <td>Technician</td>\n",
       "      <td>24</td>\n",
       "      <td>7</td>\n",
       "      <td>1</td>\n",
       "      <td>0</td>\n",
       "      <td>0</td>\n",
       "      <td>0</td>\n",
       "      <td>1</td>\n",
       "      <td>576</td>\n",
       "      <td>0</td>\n",
       "      <td>0</td>\n",
       "      <td>3.784425</td>\n",
       "      <td>1.025841</td>\n",
       "      <td>14.321871</td>\n",
       "      <td>0.000000</td>\n",
       "      <td>0.000000</td>\n",
       "    </tr>\n",
       "    <tr>\n",
       "      <th>9</th>\n",
       "      <td>103282.387715</td>\n",
       "      <td>Female</td>\n",
       "      <td>Technician</td>\n",
       "      <td>34</td>\n",
       "      <td>6</td>\n",
       "      <td>1</td>\n",
       "      <td>0</td>\n",
       "      <td>0</td>\n",
       "      <td>0</td>\n",
       "      <td>1</td>\n",
       "      <td>1156</td>\n",
       "      <td>0</td>\n",
       "      <td>0</td>\n",
       "      <td>13.784425</td>\n",
       "      <td>0.025841</td>\n",
       "      <td>190.010366</td>\n",
       "      <td>0.000000</td>\n",
       "      <td>0.000000</td>\n",
       "    </tr>\n",
       "  </tbody>\n",
       "</table>\n",
       "</div>"
      ],
      "text/plain": [
       "          Salary  Gender        Category  Years_Experience  Performance  \\\n",
       "0  257231.753597    Male       Executive                34           10   \n",
       "1   90522.829027  Female      Technician                 6            7   \n",
       "2  150561.962239    Male  Middle_Manager                25            7   \n",
       "3  130006.669909  Female  Middle_Manager                23            5   \n",
       "4  212871.076731  Female       Executive                37            6   \n",
       "5  109418.187070    Male      Technician                34            6   \n",
       "6  147486.137638  Female  Middle_Manager                35            5   \n",
       "7   90906.687721    Male      Technician                 3            8   \n",
       "8   98806.857991  Female      Technician                24            7   \n",
       "9  103282.387715  Female      Technician                34            6   \n",
       "\n",
       "   Female  Male  Executive  Middle_Manager  Technician  Years_Experience2  \\\n",
       "0       0     1          1               0           0               1156   \n",
       "1       1     0          0               0           1                 36   \n",
       "2       0     1          0               1           0                625   \n",
       "3       1     0          0               1           0                529   \n",
       "4       1     0          1               0           0               1369   \n",
       "5       0     1          0               0           1               1156   \n",
       "6       1     0          0               1           0               1225   \n",
       "7       0     1          0               0           1                  9   \n",
       "8       1     0          0               0           1                576   \n",
       "9       1     0          0               0           1               1156   \n",
       "\n",
       "   Interaction_Performance_Middle_Manager  Interaction_Performance_Executive  \\\n",
       "0                                       0                                 10   \n",
       "1                                       0                                  0   \n",
       "2                                       7                                  0   \n",
       "3                                       5                                  0   \n",
       "4                                       0                                  6   \n",
       "5                                       0                                  0   \n",
       "6                                       5                                  0   \n",
       "7                                       0                                  0   \n",
       "8                                       0                                  0   \n",
       "9                                       0                                  0   \n",
       "\n",
       "   Years_Experience_centered  Performance_centered  \\\n",
       "0                  13.784425              4.025841   \n",
       "1                 -14.215575              1.025841   \n",
       "2                   4.784425              1.025841   \n",
       "3                   2.784425             -0.974159   \n",
       "4                  16.784425              0.025841   \n",
       "5                  13.784425              0.025841   \n",
       "6                  14.784425             -0.974159   \n",
       "7                 -17.215575              2.025841   \n",
       "8                   3.784425              1.025841   \n",
       "9                  13.784425              0.025841   \n",
       "\n",
       "   Years_Experience_centered2  \\\n",
       "0                  190.010366   \n",
       "1                  202.082579   \n",
       "2                   22.890720   \n",
       "3                    7.753021   \n",
       "4                  281.716915   \n",
       "5                  190.010366   \n",
       "6                  218.579216   \n",
       "7                  296.376030   \n",
       "8                   14.321871   \n",
       "9                  190.010366   \n",
       "\n",
       "   Interaction_Performance_Middle_Manager_centered  \\\n",
       "0                                         0.000000   \n",
       "1                                         0.000000   \n",
       "2                                         1.025841   \n",
       "3                                        -0.974159   \n",
       "4                                         0.000000   \n",
       "5                                         0.000000   \n",
       "6                                        -0.974159   \n",
       "7                                         0.000000   \n",
       "8                                         0.000000   \n",
       "9                                         0.000000   \n",
       "\n",
       "   Interaction_Performance_Executive_centered  \n",
       "0                                    4.025841  \n",
       "1                                    0.000000  \n",
       "2                                    0.000000  \n",
       "3                                   -0.000000  \n",
       "4                                    0.025841  \n",
       "5                                    0.000000  \n",
       "6                                   -0.000000  \n",
       "7                                    0.000000  \n",
       "8                                    0.000000  \n",
       "9                                    0.000000  "
      ]
     },
     "execution_count": 27,
     "metadata": {},
     "output_type": "execute_result"
    }
   ],
   "source": [
    "from statistics import mean\n",
    "\n",
    "Years_Experience_centered = (df['Years_Experience']) - mean(df['Years_Experience']) \n",
    "df[\"Years_Experience_centered\"] = Years_Experience_centered\n",
    "\n",
    "Performance_centered = (df['Performance']) - mean(df['Performance']) \n",
    "df[\"Performance_centered\"] = Performance_centered\n",
    "\n",
    "Years_Experience_centered2 = (df['Years_Experience_centered'])*(df['Years_Experience_centered'])\n",
    "df[\"Years_Experience_centered2\"] = Years_Experience_centered2\n",
    "\n",
    "Interaction_Performance_Middle_Manager_centered  = (df['Performance_centered'])*(df['Middle_Manager'])\n",
    "df[\"Interaction_Performance_Middle_Manager_centered\"] = Interaction_Performance_Middle_Manager_centered\n",
    "\n",
    "Interaction_Performance_Executive_centered  = (df['Performance_centered'])*(df['Executive'])\n",
    "df[\"Interaction_Performance_Executive_centered\"] = Interaction_Performance_Executive_centered\n",
    "\n",
    "df.head(n=10)"
   ]
  },
  {
   "cell_type": "code",
   "execution_count": 28,
   "id": "bf788514",
   "metadata": {},
   "outputs": [
    {
     "name": "stdout",
     "output_type": "stream",
     "text": [
      "                            OLS Regression Results                            \n",
      "==============================================================================\n",
      "Dep. Variable:                 Salary   R-squared:                       0.985\n",
      "Model:                            OLS   Adj. R-squared:                  0.985\n",
      "Method:                 Least Squares   F-statistic:                 2.358e+04\n",
      "Date:                Sun, 05 Jun 2022   Prob (F-statistic):               0.00\n",
      "Time:                        15:09:55   Log-Likelihood:                -28029.\n",
      "No. Observations:                2825   AIC:                         5.608e+04\n",
      "Df Residuals:                    2816   BIC:                         5.613e+04\n",
      "Df Model:                           8                                         \n",
      "Covariance Type:            nonrobust                                         \n",
      "===================================================================================================================\n",
      "                                                      coef    std err          t      P>|t|      [0.025      0.975]\n",
      "-------------------------------------------------------------------------------------------------------------------\n",
      "const                                            8.906e+04    173.797    512.417      0.000    8.87e+04    8.94e+04\n",
      "Years_Experience_centered                        1305.9133     10.407    125.478      0.000    1285.506    1326.320\n",
      "Years_Experience_centered2                         30.1294      0.894     33.705      0.000      28.377      31.882\n",
      "Performance_centered                             1.012e+04    101.564     99.677      0.000    9924.427    1.03e+04\n",
      "Female                                            172.2597    186.390      0.924      0.355    -193.215     537.735\n",
      "Middle_Manager                                   4.786e+04    263.920    181.347      0.000    4.73e+04    4.84e+04\n",
      "Executive                                        8.926e+04    479.225    186.259      0.000    8.83e+04    9.02e+04\n",
      "Interaction_Performance_Middle_Manager_centered  2546.5326    251.113     10.141      0.000    2054.148    3038.917\n",
      "Interaction_Performance_Executive_centered       5470.3414    313.474     17.451      0.000    4855.680    6085.003\n",
      "==============================================================================\n",
      "Omnibus:                        6.652   Durbin-Watson:                   1.974\n",
      "Prob(Omnibus):                  0.036   Jarque-Bera (JB):                6.320\n",
      "Skew:                          -0.084   Prob(JB):                       0.0424\n",
      "Kurtosis:                       2.839   Cond. No.                         912.\n",
      "==============================================================================\n",
      "\n",
      "Notes:\n",
      "[1] Standard Errors assume that the covariance matrix of the errors is correctly specified.\n"
     ]
    }
   ],
   "source": [
    "y = df['Salary']\n",
    "x = df[['Years_Experience_centered','Years_Experience_centered2','Performance_centered','Female','Middle_Manager',\n",
    "        'Executive','Interaction_Performance_Middle_Manager_centered','Interaction_Performance_Executive_centered']]\n",
    "x = sm.add_constant(x) #  we need to add the intercept term explicitly\n",
    "\n",
    "#fit linear regression model\n",
    "model_3 = sm.OLS(y, x)\n",
    "regr_results_model_3 = model_3.fit()\n",
    "    \n",
    "print(regr_results_model_3.summary())\n"
   ]
  },
  {
   "cell_type": "markdown",
   "id": "5491e744",
   "metadata": {},
   "source": [
    "Let's check multicollinearity"
   ]
  },
  {
   "cell_type": "code",
   "execution_count": 29,
   "id": "cb346703",
   "metadata": {},
   "outputs": [
    {
     "name": "stdout",
     "output_type": "stream",
     "text": [
      "                                           feature       VIF\n",
      "0                                            const  3.500238\n",
      "1                        Years_Experience_centered  1.530510\n",
      "2                       Years_Experience_centered2  1.437131\n",
      "3                             Performance_centered  1.319796\n",
      "4                                           Female  1.004239\n",
      "5                                   Middle_Manager  1.121373\n",
      "6                                        Executive  1.839270\n",
      "7  Interaction_Performance_Middle_Manager_centered  1.196690\n",
      "8       Interaction_Performance_Executive_centered  1.163171\n"
     ]
    }
   ],
   "source": [
    "from statsmodels.stats.outliers_influence import variance_inflation_factor\n",
    "vif_data = pd.DataFrame()\n",
    "vif_data[\"feature\"] = x.columns\n",
    "vif_data[\"VIF\"] = [variance_inflation_factor(x.values, i)\n",
    "                          for i in range(len(x.columns))]\n",
    "  \n",
    "print(vif_data)"
   ]
  },
  {
   "cell_type": "markdown",
   "id": "ca95dd09",
   "metadata": {},
   "source": [
    "The problem is solved: all VIFs are below 5"
   ]
  },
  {
   "cell_type": "markdown",
   "id": "3c44bbfa",
   "metadata": {},
   "source": [
    "Let's check heterokedasticity (White test)"
   ]
  },
  {
   "cell_type": "code",
   "execution_count": 30,
   "id": "b566c4b2",
   "metadata": {},
   "outputs": [
    {
     "name": "stdout",
     "output_type": "stream",
     "text": [
      "{'Test Statistic': 22.671237696643047, 'Test Statistic p-value': 0.8285302649400819, 'F-Statistic': 0.7534618942230044, 'F-Test p-value': 0.8303356036004417}\n"
     ]
    }
   ],
   "source": [
    "from statsmodels.stats.diagnostic import het_white\n",
    "white_test = het_white(regr_results_model_3.resid,  regr_results_model_3.model.exog)\n",
    "labels = ['Test Statistic', 'Test Statistic p-value', 'F-Statistic', 'F-Test p-value']\n",
    "print(dict(zip(labels, white_test)))"
   ]
  },
  {
   "cell_type": "markdown",
   "id": "fe4e9dff",
   "metadata": {},
   "source": [
    "We don't have a problem of heteroscedasticity (p-value > 0.05). So, we can continue\n",
    "Let's check the normality of the residuals"
   ]
  },
  {
   "cell_type": "code",
   "execution_count": 31,
   "id": "78a419b8",
   "metadata": {},
   "outputs": [
    {
     "data": {
      "image/png": "[encoded data removed]",
      "text/plain": [
       "<Figure size 432x288 with 1 Axes>"
      ]
     },
     "metadata": {
      "needs_background": "light"
     },
     "output_type": "display_data"
    }
   ],
   "source": [
    "res = regr_results_model_3.resid # residuals\n",
    "plt.hist(res, bins=20)\n",
    "plt.gca().set(title='Frequency Histogram (resiuduals)', ylabel='Frequency');"
   ]
  },
  {
   "cell_type": "code",
   "execution_count": 32,
   "id": "43ffb6cd",
   "metadata": {},
   "outputs": [
    {
     "data": {
      "text/plain": [
       "ShapiroResult(statistic=0.9989179968833923, pvalue=0.07363643497228622)"
      ]
     },
     "execution_count": 32,
     "metadata": {},
     "output_type": "execute_result"
    },
    {
     "data": {
      "image/png": "[encoded data removed]",
      "text/plain": [
       "<Figure size 432x288 with 1 Axes>"
      ]
     },
     "metadata": {
      "needs_background": "light"
     },
     "output_type": "display_data"
    }
   ],
   "source": [
    "stats.probplot(res, dist=\"norm\", plot=plt)\n",
    "stats.shapiro(res)"
   ]
  },
  {
   "cell_type": "markdown",
   "id": "25b628ec",
   "metadata": {},
   "source": [
    "All seems correct: residuals are normal"
   ]
  }
 ],
 "metadata": {
  "kernelspec": {
   "display_name": "Python 3 (ipykernel)",
   "language": "python",
   "name": "python3"
  },
  "language_info": {
   "codemirror_mode": {
    "name": "ipython",
    "version": 3
   },
   "file_extension": ".py",
   "mimetype": "text/x-python",
   "name": "python",
   "nbconvert_exporter": "python",
   "pygments_lexer": "ipython3",
   "version": "3.9.12"
  }
 },
 "nbformat": 4,
 "nbformat_minor": 5
}
