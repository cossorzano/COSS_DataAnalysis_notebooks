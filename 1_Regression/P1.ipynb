{
 "cells": [
  {
   "cell_type": "markdown",
   "id": "69968b88",
   "metadata": {},
   "source": [
    "# LINEAR REGRESSION"
   ]
  },
  {
   "cell_type": "markdown",
   "id": "e29f3fd5",
   "metadata": {},
   "source": [
    "## Strategy & Finance: RoE model"
   ]
  },
  {
   "cell_type": "markdown",
   "id": "6a95976c",
   "metadata": {},
   "source": [
    "## Part 1: Data preparation"
   ]
  },
  {
   "cell_type": "markdown",
   "id": "aeecea2d",
   "metadata": {},
   "source": [
    "We are going to generate a linear regression model that explains the RoE (Return on Equity) of commercial delegations in a particular company. First we are going to upload the data"
   ]
  },
  {
   "cell_type": "code",
   "execution_count": 1,
   "id": "1a462aeb",
   "metadata": {},
   "outputs": [],
   "source": [
    "import pandas as pd\n",
    "import matplotlib.pyplot as plt\n",
    "import numpy as np\n",
    "import statsmodels.api as sm\n",
    "import seaborn as sns\n",
    "import scipy.stats as stats"
   ]
  },
  {
   "cell_type": "code",
   "execution_count": 2,
   "id": "38873199",
   "metadata": {},
   "outputs": [],
   "source": [
    "df = pd.read_excel('Data_P1.xlsx', sheet_name='Hoja1')"
   ]
  },
  {
   "cell_type": "markdown",
   "id": "a667cb91",
   "metadata": {},
   "source": [
    "Now let's look at the data we have loaded (first 10 rows)"
   ]
  },
  {
   "cell_type": "code",
   "execution_count": 3,
   "id": "03fc75dc",
   "metadata": {},
   "outputs": [
    {
     "data": {
      "text/html": [
       "<div>\n",
       "<style scoped>\n",
       "    .dataframe tbody tr th:only-of-type {\n",
       "        vertical-align: middle;\n",
       "    }\n",
       "\n",
       "    .dataframe tbody tr th {\n",
       "        vertical-align: top;\n",
       "    }\n",
       "\n",
       "    .dataframe thead th {\n",
       "        text-align: right;\n",
       "    }\n",
       "</style>\n",
       "<table border=\"1\" class=\"dataframe\">\n",
       "  <thead>\n",
       "    <tr style=\"text-align: right;\">\n",
       "      <th></th>\n",
       "      <th>RoE</th>\n",
       "      <th>More_10Y</th>\n",
       "      <th>Size</th>\n",
       "      <th>Region</th>\n",
       "    </tr>\n",
       "  </thead>\n",
       "  <tbody>\n",
       "    <tr>\n",
       "      <th>0</th>\n",
       "      <td>92.460171</td>\n",
       "      <td>1</td>\n",
       "      <td>22</td>\n",
       "      <td>National</td>\n",
       "    </tr>\n",
       "    <tr>\n",
       "      <th>1</th>\n",
       "      <td>-6.849102</td>\n",
       "      <td>0</td>\n",
       "      <td>42</td>\n",
       "      <td>National</td>\n",
       "    </tr>\n",
       "    <tr>\n",
       "      <th>2</th>\n",
       "      <td>66.042092</td>\n",
       "      <td>0</td>\n",
       "      <td>33</td>\n",
       "      <td>North_America</td>\n",
       "    </tr>\n",
       "    <tr>\n",
       "      <th>3</th>\n",
       "      <td>70.198346</td>\n",
       "      <td>1</td>\n",
       "      <td>32</td>\n",
       "      <td>National</td>\n",
       "    </tr>\n",
       "    <tr>\n",
       "      <th>4</th>\n",
       "      <td>50.550568</td>\n",
       "      <td>1</td>\n",
       "      <td>11</td>\n",
       "      <td>North_America</td>\n",
       "    </tr>\n",
       "    <tr>\n",
       "      <th>5</th>\n",
       "      <td>19.573432</td>\n",
       "      <td>0</td>\n",
       "      <td>19</td>\n",
       "      <td>National</td>\n",
       "    </tr>\n",
       "    <tr>\n",
       "      <th>6</th>\n",
       "      <td>-40.000000</td>\n",
       "      <td>0</td>\n",
       "      <td>6</td>\n",
       "      <td>National</td>\n",
       "    </tr>\n",
       "    <tr>\n",
       "      <th>7</th>\n",
       "      <td>29.687851</td>\n",
       "      <td>1</td>\n",
       "      <td>6</td>\n",
       "      <td>National</td>\n",
       "    </tr>\n",
       "    <tr>\n",
       "      <th>8</th>\n",
       "      <td>56.841548</td>\n",
       "      <td>1</td>\n",
       "      <td>14</td>\n",
       "      <td>National</td>\n",
       "    </tr>\n",
       "    <tr>\n",
       "      <th>9</th>\n",
       "      <td>46.542791</td>\n",
       "      <td>1</td>\n",
       "      <td>13</td>\n",
       "      <td>National</td>\n",
       "    </tr>\n",
       "  </tbody>\n",
       "</table>\n",
       "</div>"
      ],
      "text/plain": [
       "         RoE  More_10Y  Size         Region\n",
       "0  92.460171         1    22       National\n",
       "1  -6.849102         0    42       National\n",
       "2  66.042092         0    33  North_America\n",
       "3  70.198346         1    32       National\n",
       "4  50.550568         1    11  North_America\n",
       "5  19.573432         0    19       National\n",
       "6 -40.000000         0     6       National\n",
       "7  29.687851         1     6       National\n",
       "8  56.841548         1    14       National\n",
       "9  46.542791         1    13       National"
      ]
     },
     "execution_count": 3,
     "metadata": {},
     "output_type": "execute_result"
    }
   ],
   "source": [
    "df.head(n=10)"
   ]
  },
  {
   "cell_type": "markdown",
   "id": "b4464087",
   "metadata": {},
   "source": [
    "More_10Y: 1 when the delegation has been in existence for more than 10 years, 0 otherwise\n",
    "\n",
    "Size: # of employees\n",
    "\n",
    "Region: Region where the commercial delegation is situated\n",
    "\n",
    "We will now summarize its contents: what variables it contains and what type of variable each variable is"
   ]
  },
  {
   "cell_type": "code",
   "execution_count": 4,
   "id": "27b5f8ae",
   "metadata": {},
   "outputs": [
    {
     "data": {
      "text/html": [
       "<div>\n",
       "<style scoped>\n",
       "    .dataframe tbody tr th:only-of-type {\n",
       "        vertical-align: middle;\n",
       "    }\n",
       "\n",
       "    .dataframe tbody tr th {\n",
       "        vertical-align: top;\n",
       "    }\n",
       "\n",
       "    .dataframe thead th {\n",
       "        text-align: right;\n",
       "    }\n",
       "</style>\n",
       "<table border=\"1\" class=\"dataframe\">\n",
       "  <thead>\n",
       "    <tr style=\"text-align: right;\">\n",
       "      <th></th>\n",
       "      <th>RoE</th>\n",
       "      <th>More_10Y</th>\n",
       "      <th>Size</th>\n",
       "    </tr>\n",
       "  </thead>\n",
       "  <tbody>\n",
       "    <tr>\n",
       "      <th>count</th>\n",
       "      <td>1014.000000</td>\n",
       "      <td>1014.000000</td>\n",
       "      <td>1014.000000</td>\n",
       "    </tr>\n",
       "    <tr>\n",
       "      <th>mean</th>\n",
       "      <td>44.572765</td>\n",
       "      <td>0.500986</td>\n",
       "      <td>22.442801</td>\n",
       "    </tr>\n",
       "    <tr>\n",
       "      <th>std</th>\n",
       "      <td>26.134470</td>\n",
       "      <td>0.500246</td>\n",
       "      <td>12.364096</td>\n",
       "    </tr>\n",
       "    <tr>\n",
       "      <th>min</th>\n",
       "      <td>-40.000000</td>\n",
       "      <td>0.000000</td>\n",
       "      <td>4.000000</td>\n",
       "    </tr>\n",
       "    <tr>\n",
       "      <th>25%</th>\n",
       "      <td>25.915480</td>\n",
       "      <td>0.000000</td>\n",
       "      <td>14.000000</td>\n",
       "    </tr>\n",
       "    <tr>\n",
       "      <th>50%</th>\n",
       "      <td>44.315435</td>\n",
       "      <td>1.000000</td>\n",
       "      <td>20.000000</td>\n",
       "    </tr>\n",
       "    <tr>\n",
       "      <th>75%</th>\n",
       "      <td>63.134602</td>\n",
       "      <td>1.000000</td>\n",
       "      <td>27.750000</td>\n",
       "    </tr>\n",
       "    <tr>\n",
       "      <th>max</th>\n",
       "      <td>119.466744</td>\n",
       "      <td>1.000000</td>\n",
       "      <td>99.000000</td>\n",
       "    </tr>\n",
       "  </tbody>\n",
       "</table>\n",
       "</div>"
      ],
      "text/plain": [
       "               RoE     More_10Y         Size\n",
       "count  1014.000000  1014.000000  1014.000000\n",
       "mean     44.572765     0.500986    22.442801\n",
       "std      26.134470     0.500246    12.364096\n",
       "min     -40.000000     0.000000     4.000000\n",
       "25%      25.915480     0.000000    14.000000\n",
       "50%      44.315435     1.000000    20.000000\n",
       "75%      63.134602     1.000000    27.750000\n",
       "max     119.466744     1.000000    99.000000"
      ]
     },
     "execution_count": 4,
     "metadata": {},
     "output_type": "execute_result"
    }
   ],
   "source": [
    "df.describe()"
   ]
  },
  {
   "cell_type": "code",
   "execution_count": 5,
   "id": "5345796e",
   "metadata": {},
   "outputs": [
    {
     "data": {
      "text/plain": [
       "RoE         float64\n",
       "More_10Y      int64\n",
       "Size          int64\n",
       "Region       object\n",
       "dtype: object"
      ]
     },
     "execution_count": 5,
     "metadata": {},
     "output_type": "execute_result"
    }
   ],
   "source": [
    "df.dtypes"
   ]
  },
  {
   "cell_type": "markdown",
   "id": "c929aafe",
   "metadata": {},
   "source": [
    "The variable \"Region\" is categorical, so we are going to transform it into this type of data."
   ]
  },
  {
   "cell_type": "code",
   "execution_count": 6,
   "id": "f81871df",
   "metadata": {},
   "outputs": [
    {
     "data": {
      "text/plain": [
       "RoE          float64\n",
       "More_10Y       int64\n",
       "Size           int64\n",
       "Region      category\n",
       "dtype: object"
      ]
     },
     "execution_count": 6,
     "metadata": {},
     "output_type": "execute_result"
    }
   ],
   "source": [
    "df['Region'] = df['Region'].astype('category')\n",
    "df.dtypes"
   ]
  },
  {
   "cell_type": "markdown",
   "id": "80bcd57a-5800-4c80-b4d6-54c847e5957b",
   "metadata": {},
   "source": [
    "#### We filter those regions of interest (important *)"
   ]
  },
  {
   "cell_type": "code",
   "execution_count": 7,
   "id": "8a4b4620-992c-4f1d-bea0-5707869e3971",
   "metadata": {},
   "outputs": [],
   "source": [
    "regions = ['National', 'North_America', 'EU', 'RoW']\n",
    "rows_sel = df.Region.isin(regions)\n",
    "df = df.loc[rows_sel]"
   ]
  },
  {
   "cell_type": "markdown",
   "id": "2965110f",
   "metadata": {},
   "source": [
    "We transform the categorical variable (Region) into dichotomous variables in order to incorporate it into the regression model."
   ]
  },
  {
   "cell_type": "code",
   "execution_count": 8,
   "id": "977225c6",
   "metadata": {},
   "outputs": [
    {
     "data": {
      "text/html": [
       "<div>\n",
       "<style scoped>\n",
       "    .dataframe tbody tr th:only-of-type {\n",
       "        vertical-align: middle;\n",
       "    }\n",
       "\n",
       "    .dataframe tbody tr th {\n",
       "        vertical-align: top;\n",
       "    }\n",
       "\n",
       "    .dataframe thead th {\n",
       "        text-align: right;\n",
       "    }\n",
       "</style>\n",
       "<table border=\"1\" class=\"dataframe\">\n",
       "  <thead>\n",
       "    <tr style=\"text-align: right;\">\n",
       "      <th></th>\n",
       "      <th>RoE</th>\n",
       "      <th>More_10Y</th>\n",
       "      <th>Size</th>\n",
       "      <th>Region</th>\n",
       "      <th>EU</th>\n",
       "      <th>National</th>\n",
       "      <th>North_America</th>\n",
       "      <th>RoW</th>\n",
       "    </tr>\n",
       "  </thead>\n",
       "  <tbody>\n",
       "    <tr>\n",
       "      <th>0</th>\n",
       "      <td>92.460171</td>\n",
       "      <td>1</td>\n",
       "      <td>22</td>\n",
       "      <td>National</td>\n",
       "      <td>0</td>\n",
       "      <td>1</td>\n",
       "      <td>0</td>\n",
       "      <td>0</td>\n",
       "    </tr>\n",
       "    <tr>\n",
       "      <th>1</th>\n",
       "      <td>-6.849102</td>\n",
       "      <td>0</td>\n",
       "      <td>42</td>\n",
       "      <td>National</td>\n",
       "      <td>0</td>\n",
       "      <td>1</td>\n",
       "      <td>0</td>\n",
       "      <td>0</td>\n",
       "    </tr>\n",
       "    <tr>\n",
       "      <th>2</th>\n",
       "      <td>66.042092</td>\n",
       "      <td>0</td>\n",
       "      <td>33</td>\n",
       "      <td>North_America</td>\n",
       "      <td>0</td>\n",
       "      <td>0</td>\n",
       "      <td>1</td>\n",
       "      <td>0</td>\n",
       "    </tr>\n",
       "    <tr>\n",
       "      <th>3</th>\n",
       "      <td>70.198346</td>\n",
       "      <td>1</td>\n",
       "      <td>32</td>\n",
       "      <td>National</td>\n",
       "      <td>0</td>\n",
       "      <td>1</td>\n",
       "      <td>0</td>\n",
       "      <td>0</td>\n",
       "    </tr>\n",
       "    <tr>\n",
       "      <th>4</th>\n",
       "      <td>50.550568</td>\n",
       "      <td>1</td>\n",
       "      <td>11</td>\n",
       "      <td>North_America</td>\n",
       "      <td>0</td>\n",
       "      <td>0</td>\n",
       "      <td>1</td>\n",
       "      <td>0</td>\n",
       "    </tr>\n",
       "    <tr>\n",
       "      <th>5</th>\n",
       "      <td>19.573432</td>\n",
       "      <td>0</td>\n",
       "      <td>19</td>\n",
       "      <td>National</td>\n",
       "      <td>0</td>\n",
       "      <td>1</td>\n",
       "      <td>0</td>\n",
       "      <td>0</td>\n",
       "    </tr>\n",
       "    <tr>\n",
       "      <th>6</th>\n",
       "      <td>-40.000000</td>\n",
       "      <td>0</td>\n",
       "      <td>6</td>\n",
       "      <td>National</td>\n",
       "      <td>0</td>\n",
       "      <td>1</td>\n",
       "      <td>0</td>\n",
       "      <td>0</td>\n",
       "    </tr>\n",
       "    <tr>\n",
       "      <th>7</th>\n",
       "      <td>29.687851</td>\n",
       "      <td>1</td>\n",
       "      <td>6</td>\n",
       "      <td>National</td>\n",
       "      <td>0</td>\n",
       "      <td>1</td>\n",
       "      <td>0</td>\n",
       "      <td>0</td>\n",
       "    </tr>\n",
       "    <tr>\n",
       "      <th>8</th>\n",
       "      <td>56.841548</td>\n",
       "      <td>1</td>\n",
       "      <td>14</td>\n",
       "      <td>National</td>\n",
       "      <td>0</td>\n",
       "      <td>1</td>\n",
       "      <td>0</td>\n",
       "      <td>0</td>\n",
       "    </tr>\n",
       "    <tr>\n",
       "      <th>9</th>\n",
       "      <td>46.542791</td>\n",
       "      <td>1</td>\n",
       "      <td>13</td>\n",
       "      <td>National</td>\n",
       "      <td>0</td>\n",
       "      <td>1</td>\n",
       "      <td>0</td>\n",
       "      <td>0</td>\n",
       "    </tr>\n",
       "  </tbody>\n",
       "</table>\n",
       "</div>"
      ],
      "text/plain": [
       "         RoE  More_10Y  Size         Region  EU  National  North_America  RoW\n",
       "0  92.460171         1    22       National   0         1              0    0\n",
       "1  -6.849102         0    42       National   0         1              0    0\n",
       "2  66.042092         0    33  North_America   0         0              1    0\n",
       "3  70.198346         1    32       National   0         1              0    0\n",
       "4  50.550568         1    11  North_America   0         0              1    0\n",
       "5  19.573432         0    19       National   0         1              0    0\n",
       "6 -40.000000         0     6       National   0         1              0    0\n",
       "7  29.687851         1     6       National   0         1              0    0\n",
       "8  56.841548         1    14       National   0         1              0    0\n",
       "9  46.542791         1    13       National   0         1              0    0"
      ]
     },
     "execution_count": 8,
     "metadata": {},
     "output_type": "execute_result"
    }
   ],
   "source": [
    "df_Region = pd.get_dummies(df[\"Region\"])\n",
    "\n",
    "df = pd.concat((df, df_Region), axis=1) \n",
    "\n",
    "df.head(n=10)"
   ]
  },
  {
   "cell_type": "markdown",
   "id": "59c56f72",
   "metadata": {},
   "source": [
    "## Part 2: Basic exploratory analysis of the data"
   ]
  },
  {
   "cell_type": "markdown",
   "id": "17118866",
   "metadata": {},
   "source": [
    "Let's analyze \"RoE\""
   ]
  },
  {
   "cell_type": "code",
   "execution_count": 9,
   "id": "4328a3f8",
   "metadata": {},
   "outputs": [
    {
     "data": {
      "image/png": "[encoded data removed]",
      "text/plain": [
       "<Figure size 432x288 with 1 Axes>"
      ]
     },
     "metadata": {
      "needs_background": "light"
     },
     "output_type": "display_data"
    }
   ],
   "source": [
    "df.hist(column=\"RoE\");"
   ]
  },
  {
   "cell_type": "markdown",
   "id": "01fff696",
   "metadata": {},
   "source": [
    "Nothing relevant. Now Let's analyze \"Size\""
   ]
  },
  {
   "cell_type": "code",
   "execution_count": 10,
   "id": "fdc1542d",
   "metadata": {},
   "outputs": [
    {
     "data": {
      "image/png": "[encoded data removed]",
      "text/plain": [
       "<Figure size 432x288 with 1 Axes>"
      ]
     },
     "metadata": {
      "needs_background": "light"
     },
     "output_type": "display_data"
    }
   ],
   "source": [
    "df.hist(column=\"Size\");"
   ]
  },
  {
   "cell_type": "markdown",
   "id": "fa469a02",
   "metadata": {},
   "source": [
    "We can see a considerable positive skewness. Probably to use logarithms is a good idea. Let's try it"
   ]
  },
  {
   "cell_type": "code",
   "execution_count": 11,
   "id": "f44eaa89",
   "metadata": {},
   "outputs": [
    {
     "data": {
      "image/png": "[encoded data removed]",
      "text/plain": [
       "<Figure size 432x288 with 1 Axes>"
      ]
     },
     "metadata": {
      "needs_background": "light"
     },
     "output_type": "display_data"
    }
   ],
   "source": [
    "df['Log_Size'] = np.log(df['Size'])\n",
    "df.hist(column=\"Log_Size\");"
   ]
  },
  {
   "cell_type": "markdown",
   "id": "6cca281e",
   "metadata": {},
   "source": [
    "Much better. So, we will use the Log_Size as independent variable"
   ]
  },
  {
   "cell_type": "markdown",
   "id": "b2020f7b",
   "metadata": {},
   "source": [
    "In the case of discrete numerical variables and categorical variables, it is appropriate to use a barplot or a pie chart.\n",
    "That is the case for \"Region\" (categorical nominal variable)"
   ]
  },
  {
   "cell_type": "code",
   "execution_count": 12,
   "id": "14b47bf5",
   "metadata": {},
   "outputs": [
    {
     "data": {
      "image/png": "[encoded data removed]",
      "text/plain": [
       "<Figure size 432x288 with 1 Axes>"
      ]
     },
     "metadata": {
      "needs_background": "light"
     },
     "output_type": "display_data"
    }
   ],
   "source": [
    "Table_Region = pd.crosstab(index=df['Region'], columns='count')\n",
    "Table_Region.plot.bar(subplots=True,legend=False)\n",
    "plt.gca().set(title='Bar Chart (Region)', ylabel='');"
   ]
  },
  {
   "cell_type": "markdown",
   "id": "50339936",
   "metadata": {},
   "source": [
    "The same for \"More_10Y\" (categorical dichotomous variable)"
   ]
  },
  {
   "cell_type": "code",
   "execution_count": 13,
   "id": "7c1b957a",
   "metadata": {},
   "outputs": [
    {
     "data": {
      "image/png": "[encoded data removed]",
      "text/plain": [
       "<Figure size 432x288 with 1 Axes>"
      ]
     },
     "metadata": {
      "needs_background": "light"
     },
     "output_type": "display_data"
    }
   ],
   "source": [
    "Table_Age = pd.crosstab(index=df['More_10Y'], columns='count')\n",
    "Table_Age.plot.bar(subplots=True,legend=False)\n",
    "plt.gca().set(title='Bar Chart (Age > 10 years)', ylabel='');"
   ]
  },
  {
   "cell_type": "markdown",
   "id": "a57a8f3f",
   "metadata": {},
   "source": [
    "## Part 3: Simple Linear Regression"
   ]
  },
  {
   "cell_type": "markdown",
   "id": "c6a649f0",
   "metadata": {},
   "source": [
    "Now, lets fit the model:  $y \\sim \\beta_0 + \\beta_1 \\cdot \\text{Log_Size} + \\epsilon$"
   ]
  },
  {
   "cell_type": "code",
   "execution_count": 14,
   "id": "da9b77c4",
   "metadata": {},
   "outputs": [
    {
     "name": "stdout",
     "output_type": "stream",
     "text": [
      "                            OLS Regression Results                            \n",
      "==============================================================================\n",
      "Dep. Variable:                    RoE   R-squared:                       0.030\n",
      "Model:                            OLS   Adj. R-squared:                  0.029\n",
      "Method:                 Least Squares   F-statistic:                     31.72\n",
      "Date:                Fri, 02 Sep 2022   Prob (F-statistic):           2.30e-08\n",
      "Time:                        10:02:45   Log-Likelihood:                -4731.6\n",
      "No. Observations:                1014   AIC:                             9467.\n",
      "Df Residuals:                    1012   BIC:                             9477.\n",
      "Df Model:                           1                                         \n",
      "Covariance Type:            nonrobust                                         \n",
      "==============================================================================\n",
      "                 coef    std err          t      P>|t|      [0.025      0.975]\n",
      "------------------------------------------------------------------------------\n",
      "const         18.0978      4.770      3.794      0.000       8.738      27.457\n",
      "Log_Size       8.8869      1.578      5.632      0.000       5.791      11.983\n",
      "==============================================================================\n",
      "Omnibus:                       13.839   Durbin-Watson:                   2.024\n",
      "Prob(Omnibus):                  0.001   Jarque-Bera (JB):                8.700\n",
      "Skew:                          -0.040   Prob(JB):                       0.0129\n",
      "Kurtosis:                       2.553   Cond. No.                         19.7\n",
      "==============================================================================\n",
      "\n",
      "Notes:\n",
      "[1] Standard Errors assume that the covariance matrix of the errors is correctly specified.\n"
     ]
    }
   ],
   "source": [
    "y = df['RoE']\n",
    "x = df[['Log_Size']]\n",
    "\n",
    "# Add constant (beta 0) to predictor variables\n",
    "x = sm.add_constant(x) #  we need to add the intercept term explicitly\n",
    "\n",
    "#fit linear regression model\n",
    "model_1 = sm.OLS(y, x)\n",
    "regr_results_model_1 = model_1.fit()\n",
    "    \n",
    "print(regr_results_model_1.summary())"
   ]
  },
  {
   "cell_type": "markdown",
   "id": "9a02ebe7",
   "metadata": {},
   "source": [
    "However, previous studies (literature review) point to a possible interaction between size and age of the trade delegation. Let's verify it"
   ]
  },
  {
   "cell_type": "code",
   "execution_count": 15,
   "id": "8455dccd",
   "metadata": {},
   "outputs": [
    {
     "data": {
      "image/png": "[encoded data removed]",
      "text/plain": [
       "<Figure size 432x288 with 1 Axes>"
      ]
     },
     "metadata": {
      "needs_background": "light"
     },
     "output_type": "display_data"
    },
    {
     "data": {
      "image/png": "[encoded data removed]",
      "text/plain": [
       "<Figure size 416.25x360 with 1 Axes>"
      ]
     },
     "metadata": {
      "needs_background": "light"
     },
     "output_type": "display_data"
    }
   ],
   "source": [
    "sns.regplot(x='Log_Size', y='RoE', data=df,\n",
    "                 scatter_kws={\"color\": \"black\"}, line_kws={\"color\": \"red\"})\n",
    "plt.gca().set(title='scatter plot (RoE as dependent variable)', ylabel='');\n",
    "sns.lmplot(x=\"Log_Size\", y=\"RoE\", hue=\"More_10Y\", data=df);"
   ]
  },
  {
   "cell_type": "markdown",
   "id": "dc4d855e",
   "metadata": {},
   "source": [
    "Indeed, there seems to be an interaction between the two variables. We should include it in the final model"
   ]
  },
  {
   "cell_type": "markdown",
   "id": "c8e2db28",
   "metadata": {},
   "source": [
    "## Part 4: Multiple Linear Regression"
   ]
  },
  {
   "cell_type": "markdown",
   "id": "15fa0f82",
   "metadata": {},
   "source": [
    "Now, lets fit the final model: \n",
    "$y \\sim \\beta_0 + \\beta_1 \\cdot \\text{More_10Y} + \\beta_2 \\cdot \\text{Log_Size} \n",
    "+ \\beta_3 \\cdot \\text{National} + \\beta_4 \\cdot \\text{EU} + \\beta_5 \\cdot \\text{North_America} + \\beta_6 \\cdot \\text{More_10Y*Log_Size} \n",
    "+ \\epsilon$"
   ]
  },
  {
   "cell_type": "markdown",
   "id": "416e15ea",
   "metadata": {},
   "source": [
    "Warning!!!\n",
    "\n",
    "As we are going to include an interaction, we must center numerical variables to avoid multicolinearity problems"
   ]
  },
  {
   "cell_type": "code",
   "execution_count": 16,
   "id": "31212971-4ea6-4cf3-b4a0-472ea800d367",
   "metadata": {},
   "outputs": [
    {
     "data": {
      "text/html": [
       "<div>\n",
       "<style scoped>\n",
       "    .dataframe tbody tr th:only-of-type {\n",
       "        vertical-align: middle;\n",
       "    }\n",
       "\n",
       "    .dataframe tbody tr th {\n",
       "        vertical-align: top;\n",
       "    }\n",
       "\n",
       "    .dataframe thead th {\n",
       "        text-align: right;\n",
       "    }\n",
       "</style>\n",
       "<table border=\"1\" class=\"dataframe\">\n",
       "  <thead>\n",
       "    <tr style=\"text-align: right;\">\n",
       "      <th></th>\n",
       "      <th>RoE</th>\n",
       "      <th>More_10Y</th>\n",
       "      <th>Size</th>\n",
       "      <th>Region</th>\n",
       "      <th>EU</th>\n",
       "      <th>National</th>\n",
       "      <th>North_America</th>\n",
       "      <th>RoW</th>\n",
       "      <th>Log_Size</th>\n",
       "      <th>Log_Size_centered</th>\n",
       "      <th>RoE_centered</th>\n",
       "      <th>Interaction_Log_Size_centered_More_10Y</th>\n",
       "    </tr>\n",
       "  </thead>\n",
       "  <tbody>\n",
       "    <tr>\n",
       "      <th>0</th>\n",
       "      <td>92.460171</td>\n",
       "      <td>1</td>\n",
       "      <td>22</td>\n",
       "      <td>National</td>\n",
       "      <td>0</td>\n",
       "      <td>1</td>\n",
       "      <td>0</td>\n",
       "      <td>0</td>\n",
       "      <td>3.091042</td>\n",
       "      <td>0.111940</td>\n",
       "      <td>47.887406</td>\n",
       "      <td>0.111940</td>\n",
       "    </tr>\n",
       "    <tr>\n",
       "      <th>1</th>\n",
       "      <td>-6.849102</td>\n",
       "      <td>0</td>\n",
       "      <td>42</td>\n",
       "      <td>National</td>\n",
       "      <td>0</td>\n",
       "      <td>1</td>\n",
       "      <td>0</td>\n",
       "      <td>0</td>\n",
       "      <td>3.737670</td>\n",
       "      <td>0.758567</td>\n",
       "      <td>-51.421867</td>\n",
       "      <td>0.000000</td>\n",
       "    </tr>\n",
       "    <tr>\n",
       "      <th>2</th>\n",
       "      <td>66.042092</td>\n",
       "      <td>0</td>\n",
       "      <td>33</td>\n",
       "      <td>North_America</td>\n",
       "      <td>0</td>\n",
       "      <td>0</td>\n",
       "      <td>1</td>\n",
       "      <td>0</td>\n",
       "      <td>3.496508</td>\n",
       "      <td>0.517405</td>\n",
       "      <td>21.469327</td>\n",
       "      <td>0.000000</td>\n",
       "    </tr>\n",
       "    <tr>\n",
       "      <th>3</th>\n",
       "      <td>70.198346</td>\n",
       "      <td>1</td>\n",
       "      <td>32</td>\n",
       "      <td>National</td>\n",
       "      <td>0</td>\n",
       "      <td>1</td>\n",
       "      <td>0</td>\n",
       "      <td>0</td>\n",
       "      <td>3.465736</td>\n",
       "      <td>0.486633</td>\n",
       "      <td>25.625581</td>\n",
       "      <td>0.486633</td>\n",
       "    </tr>\n",
       "    <tr>\n",
       "      <th>4</th>\n",
       "      <td>50.550568</td>\n",
       "      <td>1</td>\n",
       "      <td>11</td>\n",
       "      <td>North_America</td>\n",
       "      <td>0</td>\n",
       "      <td>0</td>\n",
       "      <td>1</td>\n",
       "      <td>0</td>\n",
       "      <td>2.397895</td>\n",
       "      <td>-0.581208</td>\n",
       "      <td>5.977803</td>\n",
       "      <td>-0.581208</td>\n",
       "    </tr>\n",
       "    <tr>\n",
       "      <th>5</th>\n",
       "      <td>19.573432</td>\n",
       "      <td>0</td>\n",
       "      <td>19</td>\n",
       "      <td>National</td>\n",
       "      <td>0</td>\n",
       "      <td>1</td>\n",
       "      <td>0</td>\n",
       "      <td>0</td>\n",
       "      <td>2.944439</td>\n",
       "      <td>-0.034664</td>\n",
       "      <td>-24.999333</td>\n",
       "      <td>-0.000000</td>\n",
       "    </tr>\n",
       "    <tr>\n",
       "      <th>6</th>\n",
       "      <td>-40.000000</td>\n",
       "      <td>0</td>\n",
       "      <td>6</td>\n",
       "      <td>National</td>\n",
       "      <td>0</td>\n",
       "      <td>1</td>\n",
       "      <td>0</td>\n",
       "      <td>0</td>\n",
       "      <td>1.791759</td>\n",
       "      <td>-1.187343</td>\n",
       "      <td>-84.572765</td>\n",
       "      <td>-0.000000</td>\n",
       "    </tr>\n",
       "    <tr>\n",
       "      <th>7</th>\n",
       "      <td>29.687851</td>\n",
       "      <td>1</td>\n",
       "      <td>6</td>\n",
       "      <td>National</td>\n",
       "      <td>0</td>\n",
       "      <td>1</td>\n",
       "      <td>0</td>\n",
       "      <td>0</td>\n",
       "      <td>1.791759</td>\n",
       "      <td>-1.187343</td>\n",
       "      <td>-14.884914</td>\n",
       "      <td>-1.187343</td>\n",
       "    </tr>\n",
       "    <tr>\n",
       "      <th>8</th>\n",
       "      <td>56.841548</td>\n",
       "      <td>1</td>\n",
       "      <td>14</td>\n",
       "      <td>National</td>\n",
       "      <td>0</td>\n",
       "      <td>1</td>\n",
       "      <td>0</td>\n",
       "      <td>0</td>\n",
       "      <td>2.639057</td>\n",
       "      <td>-0.340046</td>\n",
       "      <td>12.268783</td>\n",
       "      <td>-0.340046</td>\n",
       "    </tr>\n",
       "    <tr>\n",
       "      <th>9</th>\n",
       "      <td>46.542791</td>\n",
       "      <td>1</td>\n",
       "      <td>13</td>\n",
       "      <td>National</td>\n",
       "      <td>0</td>\n",
       "      <td>1</td>\n",
       "      <td>0</td>\n",
       "      <td>0</td>\n",
       "      <td>2.564949</td>\n",
       "      <td>-0.414154</td>\n",
       "      <td>1.970027</td>\n",
       "      <td>-0.414154</td>\n",
       "    </tr>\n",
       "  </tbody>\n",
       "</table>\n",
       "</div>"
      ],
      "text/plain": [
       "         RoE  More_10Y  Size         Region  EU  National  North_America  RoW  \\\n",
       "0  92.460171         1    22       National   0         1              0    0   \n",
       "1  -6.849102         0    42       National   0         1              0    0   \n",
       "2  66.042092         0    33  North_America   0         0              1    0   \n",
       "3  70.198346         1    32       National   0         1              0    0   \n",
       "4  50.550568         1    11  North_America   0         0              1    0   \n",
       "5  19.573432         0    19       National   0         1              0    0   \n",
       "6 -40.000000         0     6       National   0         1              0    0   \n",
       "7  29.687851         1     6       National   0         1              0    0   \n",
       "8  56.841548         1    14       National   0         1              0    0   \n",
       "9  46.542791         1    13       National   0         1              0    0   \n",
       "\n",
       "   Log_Size  Log_Size_centered  RoE_centered  \\\n",
       "0  3.091042           0.111940     47.887406   \n",
       "1  3.737670           0.758567    -51.421867   \n",
       "2  3.496508           0.517405     21.469327   \n",
       "3  3.465736           0.486633     25.625581   \n",
       "4  2.397895          -0.581208      5.977803   \n",
       "5  2.944439          -0.034664    -24.999333   \n",
       "6  1.791759          -1.187343    -84.572765   \n",
       "7  1.791759          -1.187343    -14.884914   \n",
       "8  2.639057          -0.340046     12.268783   \n",
       "9  2.564949          -0.414154      1.970027   \n",
       "\n",
       "   Interaction_Log_Size_centered_More_10Y  \n",
       "0                                0.111940  \n",
       "1                                0.000000  \n",
       "2                                0.000000  \n",
       "3                                0.486633  \n",
       "4                               -0.581208  \n",
       "5                               -0.000000  \n",
       "6                               -0.000000  \n",
       "7                               -1.187343  \n",
       "8                               -0.340046  \n",
       "9                               -0.414154  "
      ]
     },
     "execution_count": 16,
     "metadata": {},
     "output_type": "execute_result"
    }
   ],
   "source": [
    "Log_Size_centered = (df['Log_Size']) - np.mean(df['Log_Size']) \n",
    "df[\"Log_Size_centered\"] = Log_Size_centered\n",
    "\n",
    "RoE_centered = (df['RoE']) - np.mean(df['RoE']) \n",
    "df[\"RoE_centered\"] = RoE_centered\n",
    "\n",
    "Interaction_Log_Size_centered_More_10Y = (df['Log_Size_centered'])*(df['More_10Y'])\n",
    "df[\"Interaction_Log_Size_centered_More_10Y\"] = Interaction_Log_Size_centered_More_10Y\n",
    "\n",
    "df.head(n=10)"
   ]
  },
  {
   "cell_type": "markdown",
   "id": "7fdfbd7f",
   "metadata": {},
   "source": [
    "Now data are prepared. Let's fit the model"
   ]
  },
  {
   "cell_type": "code",
   "execution_count": 17,
   "id": "7393745c",
   "metadata": {},
   "outputs": [
    {
     "name": "stdout",
     "output_type": "stream",
     "text": [
      "                            OLS Regression Results                            \n",
      "==============================================================================\n",
      "Dep. Variable:           RoE_centered   R-squared:                       0.500\n",
      "Model:                            OLS   Adj. R-squared:                  0.497\n",
      "Method:                 Least Squares   F-statistic:                     168.0\n",
      "Date:                Fri, 02 Sep 2022   Prob (F-statistic):          6.75e-148\n",
      "Time:                        10:02:46   Log-Likelihood:                -4395.6\n",
      "No. Observations:                1014   AIC:                             8805.\n",
      "Df Residuals:                    1007   BIC:                             8840.\n",
      "Df Model:                           6                                         \n",
      "Covariance Type:            nonrobust                                         \n",
      "==========================================================================================================\n",
      "                                             coef    std err          t      P>|t|      [0.025      0.975]\n",
      "----------------------------------------------------------------------------------------------------------\n",
      "const                                    -17.1518      1.759     -9.752      0.000     -20.603     -13.700\n",
      "More_10Y                                  32.5370      1.165     27.936      0.000      30.251      34.823\n",
      "Log_Size_centered                          2.5913      1.598      1.622      0.105      -0.545       5.727\n",
      "National                                  -4.8613      1.846     -2.633      0.009      -8.485      -1.238\n",
      "EU                                        10.5433      2.032      5.188      0.000       6.555      14.531\n",
      "North_America                              6.4446      2.379      2.709      0.007       1.776      11.113\n",
      "Interaction_Log_Size_centered_More_10Y    11.0697      2.273      4.870      0.000       6.609      15.530\n",
      "==============================================================================\n",
      "Omnibus:                        1.225   Durbin-Watson:                   2.005\n",
      "Prob(Omnibus):                  0.542   Jarque-Bera (JB):                1.303\n",
      "Skew:                          -0.066   Prob(JB):                        0.521\n",
      "Kurtosis:                       2.884   Cond. No.                         7.80\n",
      "==============================================================================\n",
      "\n",
      "Notes:\n",
      "[1] Standard Errors assume that the covariance matrix of the errors is correctly specified.\n"
     ]
    }
   ],
   "source": [
    "y = df['RoE_centered']\n",
    "x = df[['More_10Y','Log_Size_centered','National','EU','North_America',\n",
    "        'Interaction_Log_Size_centered_More_10Y']]\n",
    "x = sm.add_constant(x) #  we need to add the intercept term explicitly\n",
    "\n",
    "#fit linear regression model\n",
    "model_2 = sm.OLS(y, x)\n",
    "regr_results_model_2 = model_2.fit()\n",
    "    \n",
    "print(regr_results_model_2.summary())\n"
   ]
  },
  {
   "cell_type": "code",
   "execution_count": 18,
   "id": "cb346703",
   "metadata": {},
   "outputs": [
    {
     "name": "stdout",
     "output_type": "stream",
     "text": [
      "                                  feature       VIF\n",
      "0                                   const  9.135694\n",
      "1                                More_10Y  1.001500\n",
      "2                       Log_Size_centered  1.980357\n",
      "3                                National  2.514785\n",
      "4                                      EU  2.259679\n",
      "5                           North_America  1.718863\n",
      "6  Interaction_Log_Size_centered_More_10Y  1.979686\n"
     ]
    }
   ],
   "source": [
    "from statsmodels.stats.outliers_influence import variance_inflation_factor\n",
    "\n",
    "vif_data = pd.DataFrame()\n",
    "vif_data[\"feature\"] = x.columns\n",
    "vif_data[\"VIF\"] = [variance_inflation_factor(x.values, i)\n",
    "                          for i in range(len(x.columns))]\n",
    "  \n",
    "print(vif_data)"
   ]
  },
  {
   "cell_type": "markdown",
   "id": "ca95dd09",
   "metadata": {},
   "source": [
    "No multicolinearity problems: all VIFs are below 5 (except \"constant\", that is not relevant for the analysis)"
   ]
  },
  {
   "cell_type": "markdown",
   "id": "3c44bbfa",
   "metadata": {},
   "source": [
    "Let's check heterokedasticity (White test)"
   ]
  },
  {
   "cell_type": "code",
   "execution_count": 19,
   "id": "b566c4b2",
   "metadata": {},
   "outputs": [
    {
     "name": "stdout",
     "output_type": "stream",
     "text": [
      "{'Test Statistic': 12.28980214274433, 'Test Statistic p-value': 0.7822797708648243, 'F-Statistic': 0.7188085148753371, 'F-Test p-value': 0.7856025558268496}\n"
     ]
    }
   ],
   "source": [
    "from statsmodels.stats.diagnostic import het_white\n",
    "white_test = het_white(regr_results_model_2.resid,  regr_results_model_2.model.exog)\n",
    "labels = ['Test Statistic', 'Test Statistic p-value', 'F-Statistic', 'F-Test p-value']\n",
    "print(dict(zip(labels, white_test)))"
   ]
  },
  {
   "cell_type": "markdown",
   "id": "fe4e9dff",
   "metadata": {},
   "source": [
    "We don't have a problem of heteroscedasticity (p-value > 0.05). So, we can continue\n",
    "Let's check the normality of the residuals"
   ]
  },
  {
   "cell_type": "code",
   "execution_count": 20,
   "id": "78a419b8",
   "metadata": {},
   "outputs": [
    {
     "data": {
      "image/png": "[encoded data removed]",
      "text/plain": [
       "<Figure size 432x288 with 1 Axes>"
      ]
     },
     "metadata": {
      "needs_background": "light"
     },
     "output_type": "display_data"
    }
   ],
   "source": [
    "res = regr_results_model_2.resid # residuals\n",
    "plt.hist(res, bins=20)\n",
    "plt.gca().set(title='Frequency Histogram (residuals)', ylabel='Frequency');"
   ]
  },
  {
   "cell_type": "code",
   "execution_count": 21,
   "id": "43ffb6cd",
   "metadata": {},
   "outputs": [
    {
     "data": {
      "text/plain": [
       "ShapiroResult(statistic=0.9982126355171204, pvalue=0.37136560678482056)"
      ]
     },
     "execution_count": 21,
     "metadata": {},
     "output_type": "execute_result"
    },
    {
     "data": {
      "image/png": "[encoded data removed]",
      "text/plain": [
       "<Figure size 432x288 with 1 Axes>"
      ]
     },
     "metadata": {
      "needs_background": "light"
     },
     "output_type": "display_data"
    }
   ],
   "source": [
    "stats.probplot(res, dist=\"norm\", plot=plt)\n",
    "stats.shapiro(res)"
   ]
  },
  {
   "cell_type": "markdown",
   "id": "25b628ec",
   "metadata": {},
   "source": [
    "All seems correct: residuals are normal"
   ]
  }
 ],
 "metadata": {
  "kernelspec": {
   "display_name": "Python 3 (ipykernel)",
   "language": "python",
   "name": "python3"
  },
  "language_info": {
   "codemirror_mode": {
    "name": "ipython",
    "version": 3
   },
   "file_extension": ".py",
   "mimetype": "text/x-python",
   "name": "python",
   "nbconvert_exporter": "python",
   "pygments_lexer": "ipython3",
   "version": "3.8.10"
  }
 },
 "nbformat": 4,
 "nbformat_minor": 5
}
