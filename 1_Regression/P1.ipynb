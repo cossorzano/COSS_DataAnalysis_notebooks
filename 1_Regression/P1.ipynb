{
  "cells": [
    {
      "cell_type": "markdown",
      "id": "69968b88",
      "metadata": {
        "id": "69968b88"
      },
      "source": [
        "# LINEAR REGRESSION"
      ]
    },
    {
      "cell_type": "markdown",
      "id": "e29f3fd5",
      "metadata": {
        "id": "e29f3fd5"
      },
      "source": [
        "## Strategy & Finance: RoE model"
      ]
    },
    {
      "cell_type": "markdown",
      "id": "6a95976c",
      "metadata": {
        "id": "6a95976c"
      },
      "source": [
        "## Part 1: Data preparation"
      ]
    },
    {
      "cell_type": "markdown",
      "id": "aeecea2d",
      "metadata": {
        "id": "aeecea2d"
      },
      "source": [
        "We are going to generate a linear regression model that explains the RoE (Return on Equity) of commercial delegations in a particular company. First we are going to upload the data"
      ]
    },
    {
      "cell_type": "code",
      "execution_count": 1,
      "id": "1a462aeb",
      "metadata": {
        "id": "1a462aeb"
      },
      "outputs": [],
      "source": [
        "import pandas as pd\n",
        "import matplotlib.pyplot as plt\n",
        "import numpy as np\n",
        "import statsmodels.api as sm\n",
        "import seaborn as sns\n",
        "import scipy.stats as stats"
      ]
    },
    {
      "cell_type": "code",
      "execution_count": 2,
      "id": "38873199",
      "metadata": {
        "id": "38873199"
      },
      "outputs": [],
      "source": [
        "import requests\n",
        "excel_url = 'https://docs.google.com/spreadsheets/d/1qkiAsen7GWXAucdn4fi4a219YC3HB9yomai5wq6MHvQ/export?format=xlsx'\n",
        "response = requests.get(excel_url)\n",
        "response.raise_for_status()  # Ensure the request was successful\n",
        "with open('sheet.xlsx', 'wb') as file:\n",
        "    file.write(response.content)\n",
        "df = pd.read_excel('sheet.xlsx')"
      ]
    },
    {
      "cell_type": "markdown",
      "id": "a667cb91",
      "metadata": {
        "id": "a667cb91"
      },
      "source": [
        "Now let's look at the data we have loaded (first 10 rows)"
      ]
    },
    {
      "cell_type": "code",
      "execution_count": 3,
      "id": "03fc75dc",
      "metadata": {
        "colab": {
          "base_uri": "https://localhost:8080/",
          "height": 363
        },
        "id": "03fc75dc",
        "outputId": "14be5878-42b4-4859-9649-12ae533a1752"
      },
      "outputs": [
        {
          "output_type": "execute_result",
          "data": {
            "text/plain": [
              "         RoE  More_10Y  Size         Region\n",
              "0  92.460171         1    22       National\n",
              "1  -6.849102         0    42       National\n",
              "2  66.042092         0    33  North_America\n",
              "3  70.198346         1    32       National\n",
              "4  50.550568         1    11  North_America\n",
              "5  19.573432         0    19       National\n",
              "6 -40.000000         0     6       National\n",
              "7  29.687851         1     6       National\n",
              "8  56.841548         1    14       National\n",
              "9  46.542791         1    13       National"
            ],
            "text/html": [
              "\n",
              "  <div id=\"df-555375dd-30e3-4f8a-948f-776efce15404\" class=\"colab-df-container\">\n",
              "    <div>\n",
              "<style scoped>\n",
              "    .dataframe tbody tr th:only-of-type {\n",
              "        vertical-align: middle;\n",
              "    }\n",
              "\n",
              "    .dataframe tbody tr th {\n",
              "        vertical-align: top;\n",
              "    }\n",
              "\n",
              "    .dataframe thead th {\n",
              "        text-align: right;\n",
              "    }\n",
              "</style>\n",
              "<table border=\"1\" class=\"dataframe\">\n",
              "  <thead>\n",
              "    <tr style=\"text-align: right;\">\n",
              "      <th></th>\n",
              "      <th>RoE</th>\n",
              "      <th>More_10Y</th>\n",
              "      <th>Size</th>\n",
              "      <th>Region</th>\n",
              "    </tr>\n",
              "  </thead>\n",
              "  <tbody>\n",
              "    <tr>\n",
              "      <th>0</th>\n",
              "      <td>92.460171</td>\n",
              "      <td>1</td>\n",
              "      <td>22</td>\n",
              "      <td>National</td>\n",
              "    </tr>\n",
              "    <tr>\n",
              "      <th>1</th>\n",
              "      <td>-6.849102</td>\n",
              "      <td>0</td>\n",
              "      <td>42</td>\n",
              "      <td>National</td>\n",
              "    </tr>\n",
              "    <tr>\n",
              "      <th>2</th>\n",
              "      <td>66.042092</td>\n",
              "      <td>0</td>\n",
              "      <td>33</td>\n",
              "      <td>North_America</td>\n",
              "    </tr>\n",
              "    <tr>\n",
              "      <th>3</th>\n",
              "      <td>70.198346</td>\n",
              "      <td>1</td>\n",
              "      <td>32</td>\n",
              "      <td>National</td>\n",
              "    </tr>\n",
              "    <tr>\n",
              "      <th>4</th>\n",
              "      <td>50.550568</td>\n",
              "      <td>1</td>\n",
              "      <td>11</td>\n",
              "      <td>North_America</td>\n",
              "    </tr>\n",
              "    <tr>\n",
              "      <th>5</th>\n",
              "      <td>19.573432</td>\n",
              "      <td>0</td>\n",
              "      <td>19</td>\n",
              "      <td>National</td>\n",
              "    </tr>\n",
              "    <tr>\n",
              "      <th>6</th>\n",
              "      <td>-40.000000</td>\n",
              "      <td>0</td>\n",
              "      <td>6</td>\n",
              "      <td>National</td>\n",
              "    </tr>\n",
              "    <tr>\n",
              "      <th>7</th>\n",
              "      <td>29.687851</td>\n",
              "      <td>1</td>\n",
              "      <td>6</td>\n",
              "      <td>National</td>\n",
              "    </tr>\n",
              "    <tr>\n",
              "      <th>8</th>\n",
              "      <td>56.841548</td>\n",
              "      <td>1</td>\n",
              "      <td>14</td>\n",
              "      <td>National</td>\n",
              "    </tr>\n",
              "    <tr>\n",
              "      <th>9</th>\n",
              "      <td>46.542791</td>\n",
              "      <td>1</td>\n",
              "      <td>13</td>\n",
              "      <td>National</td>\n",
              "    </tr>\n",
              "  </tbody>\n",
              "</table>\n",
              "</div>\n",
              "    <div class=\"colab-df-buttons\">\n",
              "\n",
              "  <div class=\"colab-df-container\">\n",
              "    <button class=\"colab-df-convert\" onclick=\"convertToInteractive('df-555375dd-30e3-4f8a-948f-776efce15404')\"\n",
              "            title=\"Convert this dataframe to an interactive table.\"\n",
              "            style=\"display:none;\">\n",
              "\n",
              "  <svg xmlns=\"http://www.w3.org/2000/svg\" height=\"24px\" viewBox=\"0 -960 960 960\">\n",
              "    <path d=\"M120-120v-720h720v720H120Zm60-500h600v-160H180v160Zm220 220h160v-160H400v160Zm0 220h160v-160H400v160ZM180-400h160v-160H180v160Zm440 0h160v-160H620v160ZM180-180h160v-160H180v160Zm440 0h160v-160H620v160Z\"/>\n",
              "  </svg>\n",
              "    </button>\n",
              "\n",
              "  <style>\n",
              "    .colab-df-container {\n",
              "      display:flex;\n",
              "      gap: 12px;\n",
              "    }\n",
              "\n",
              "    .colab-df-convert {\n",
              "      background-color: #E8F0FE;\n",
              "      border: none;\n",
              "      border-radius: 50%;\n",
              "      cursor: pointer;\n",
              "      display: none;\n",
              "      fill: #1967D2;\n",
              "      height: 32px;\n",
              "      padding: 0 0 0 0;\n",
              "      width: 32px;\n",
              "    }\n",
              "\n",
              "    .colab-df-convert:hover {\n",
              "      background-color: #E2EBFA;\n",
              "      box-shadow: 0px 1px 2px rgba(60, 64, 67, 0.3), 0px 1px 3px 1px rgba(60, 64, 67, 0.15);\n",
              "      fill: #174EA6;\n",
              "    }\n",
              "\n",
              "    .colab-df-buttons div {\n",
              "      margin-bottom: 4px;\n",
              "    }\n",
              "\n",
              "    [theme=dark] .colab-df-convert {\n",
              "      background-color: #3B4455;\n",
              "      fill: #D2E3FC;\n",
              "    }\n",
              "\n",
              "    [theme=dark] .colab-df-convert:hover {\n",
              "      background-color: #434B5C;\n",
              "      box-shadow: 0px 1px 3px 1px rgba(0, 0, 0, 0.15);\n",
              "      filter: drop-shadow(0px 1px 2px rgba(0, 0, 0, 0.3));\n",
              "      fill: #FFFFFF;\n",
              "    }\n",
              "  </style>\n",
              "\n",
              "    <script>\n",
              "      const buttonEl =\n",
              "        document.querySelector('#df-555375dd-30e3-4f8a-948f-776efce15404 button.colab-df-convert');\n",
              "      buttonEl.style.display =\n",
              "        google.colab.kernel.accessAllowed ? 'block' : 'none';\n",
              "\n",
              "      async function convertToInteractive(key) {\n",
              "        const element = document.querySelector('#df-555375dd-30e3-4f8a-948f-776efce15404');\n",
              "        const dataTable =\n",
              "          await google.colab.kernel.invokeFunction('convertToInteractive',\n",
              "                                                    [key], {});\n",
              "        if (!dataTable) return;\n",
              "\n",
              "        const docLinkHtml = 'Like what you see? Visit the ' +\n",
              "          '<a target=\"_blank\" href=https://colab.research.google.com/notebooks/data_table.ipynb>data table notebook</a>'\n",
              "          + ' to learn more about interactive tables.';\n",
              "        element.innerHTML = '';\n",
              "        dataTable['output_type'] = 'display_data';\n",
              "        await google.colab.output.renderOutput(dataTable, element);\n",
              "        const docLink = document.createElement('div');\n",
              "        docLink.innerHTML = docLinkHtml;\n",
              "        element.appendChild(docLink);\n",
              "      }\n",
              "    </script>\n",
              "  </div>\n",
              "\n",
              "\n",
              "<div id=\"df-e4194793-c4b7-464a-8a61-99397fa3a25b\">\n",
              "  <button class=\"colab-df-quickchart\" onclick=\"quickchart('df-e4194793-c4b7-464a-8a61-99397fa3a25b')\"\n",
              "            title=\"Suggest charts\"\n",
              "            style=\"display:none;\">\n",
              "\n",
              "<svg xmlns=\"http://www.w3.org/2000/svg\" height=\"24px\"viewBox=\"0 0 24 24\"\n",
              "     width=\"24px\">\n",
              "    <g>\n",
              "        <path d=\"M19 3H5c-1.1 0-2 .9-2 2v14c0 1.1.9 2 2 2h14c1.1 0 2-.9 2-2V5c0-1.1-.9-2-2-2zM9 17H7v-7h2v7zm4 0h-2V7h2v10zm4 0h-2v-4h2v4z\"/>\n",
              "    </g>\n",
              "</svg>\n",
              "  </button>\n",
              "\n",
              "<style>\n",
              "  .colab-df-quickchart {\n",
              "      --bg-color: #E8F0FE;\n",
              "      --fill-color: #1967D2;\n",
              "      --hover-bg-color: #E2EBFA;\n",
              "      --hover-fill-color: #174EA6;\n",
              "      --disabled-fill-color: #AAA;\n",
              "      --disabled-bg-color: #DDD;\n",
              "  }\n",
              "\n",
              "  [theme=dark] .colab-df-quickchart {\n",
              "      --bg-color: #3B4455;\n",
              "      --fill-color: #D2E3FC;\n",
              "      --hover-bg-color: #434B5C;\n",
              "      --hover-fill-color: #FFFFFF;\n",
              "      --disabled-bg-color: #3B4455;\n",
              "      --disabled-fill-color: #666;\n",
              "  }\n",
              "\n",
              "  .colab-df-quickchart {\n",
              "    background-color: var(--bg-color);\n",
              "    border: none;\n",
              "    border-radius: 50%;\n",
              "    cursor: pointer;\n",
              "    display: none;\n",
              "    fill: var(--fill-color);\n",
              "    height: 32px;\n",
              "    padding: 0;\n",
              "    width: 32px;\n",
              "  }\n",
              "\n",
              "  .colab-df-quickchart:hover {\n",
              "    background-color: var(--hover-bg-color);\n",
              "    box-shadow: 0 1px 2px rgba(60, 64, 67, 0.3), 0 1px 3px 1px rgba(60, 64, 67, 0.15);\n",
              "    fill: var(--button-hover-fill-color);\n",
              "  }\n",
              "\n",
              "  .colab-df-quickchart-complete:disabled,\n",
              "  .colab-df-quickchart-complete:disabled:hover {\n",
              "    background-color: var(--disabled-bg-color);\n",
              "    fill: var(--disabled-fill-color);\n",
              "    box-shadow: none;\n",
              "  }\n",
              "\n",
              "  .colab-df-spinner {\n",
              "    border: 2px solid var(--fill-color);\n",
              "    border-color: transparent;\n",
              "    border-bottom-color: var(--fill-color);\n",
              "    animation:\n",
              "      spin 1s steps(1) infinite;\n",
              "  }\n",
              "\n",
              "  @keyframes spin {\n",
              "    0% {\n",
              "      border-color: transparent;\n",
              "      border-bottom-color: var(--fill-color);\n",
              "      border-left-color: var(--fill-color);\n",
              "    }\n",
              "    20% {\n",
              "      border-color: transparent;\n",
              "      border-left-color: var(--fill-color);\n",
              "      border-top-color: var(--fill-color);\n",
              "    }\n",
              "    30% {\n",
              "      border-color: transparent;\n",
              "      border-left-color: var(--fill-color);\n",
              "      border-top-color: var(--fill-color);\n",
              "      border-right-color: var(--fill-color);\n",
              "    }\n",
              "    40% {\n",
              "      border-color: transparent;\n",
              "      border-right-color: var(--fill-color);\n",
              "      border-top-color: var(--fill-color);\n",
              "    }\n",
              "    60% {\n",
              "      border-color: transparent;\n",
              "      border-right-color: var(--fill-color);\n",
              "    }\n",
              "    80% {\n",
              "      border-color: transparent;\n",
              "      border-right-color: var(--fill-color);\n",
              "      border-bottom-color: var(--fill-color);\n",
              "    }\n",
              "    90% {\n",
              "      border-color: transparent;\n",
              "      border-bottom-color: var(--fill-color);\n",
              "    }\n",
              "  }\n",
              "</style>\n",
              "\n",
              "  <script>\n",
              "    async function quickchart(key) {\n",
              "      const quickchartButtonEl =\n",
              "        document.querySelector('#' + key + ' button');\n",
              "      quickchartButtonEl.disabled = true;  // To prevent multiple clicks.\n",
              "      quickchartButtonEl.classList.add('colab-df-spinner');\n",
              "      try {\n",
              "        const charts = await google.colab.kernel.invokeFunction(\n",
              "            'suggestCharts', [key], {});\n",
              "      } catch (error) {\n",
              "        console.error('Error during call to suggestCharts:', error);\n",
              "      }\n",
              "      quickchartButtonEl.classList.remove('colab-df-spinner');\n",
              "      quickchartButtonEl.classList.add('colab-df-quickchart-complete');\n",
              "    }\n",
              "    (() => {\n",
              "      let quickchartButtonEl =\n",
              "        document.querySelector('#df-e4194793-c4b7-464a-8a61-99397fa3a25b button');\n",
              "      quickchartButtonEl.style.display =\n",
              "        google.colab.kernel.accessAllowed ? 'block' : 'none';\n",
              "    })();\n",
              "  </script>\n",
              "</div>\n",
              "\n",
              "    </div>\n",
              "  </div>\n"
            ],
            "application/vnd.google.colaboratory.intrinsic+json": {
              "type": "dataframe",
              "variable_name": "df",
              "summary": "{\n  \"name\": \"df\",\n  \"rows\": 1014,\n  \"fields\": [\n    {\n      \"column\": \"RoE\",\n      \"properties\": {\n        \"dtype\": \"number\",\n        \"std\": 26.134469999543974,\n        \"min\": -40.0,\n        \"max\": 119.46674394625751,\n        \"num_unique_values\": 1014,\n        \"samples\": [\n          35.701758626329934,\n          31.745552030929744,\n          61.02606542891424\n        ],\n        \"semantic_type\": \"\",\n        \"description\": \"\"\n      }\n    },\n    {\n      \"column\": \"More_10Y\",\n      \"properties\": {\n        \"dtype\": \"number\",\n        \"std\": 0,\n        \"min\": 0,\n        \"max\": 1,\n        \"num_unique_values\": 2,\n        \"samples\": [\n          0,\n          1\n        ],\n        \"semantic_type\": \"\",\n        \"description\": \"\"\n      }\n    },\n    {\n      \"column\": \"Size\",\n      \"properties\": {\n        \"dtype\": \"number\",\n        \"std\": 12,\n        \"min\": 4,\n        \"max\": 99,\n        \"num_unique_values\": 67,\n        \"samples\": [\n          41,\n          17\n        ],\n        \"semantic_type\": \"\",\n        \"description\": \"\"\n      }\n    },\n    {\n      \"column\": \"Region\",\n      \"properties\": {\n        \"dtype\": \"category\",\n        \"num_unique_values\": 4,\n        \"samples\": [\n          \"North_America\",\n          \"EU\"\n        ],\n        \"semantic_type\": \"\",\n        \"description\": \"\"\n      }\n    }\n  ]\n}"
            }
          },
          "metadata": {},
          "execution_count": 3
        }
      ],
      "source": [
        "df.head(n=10)"
      ]
    },
    {
      "cell_type": "markdown",
      "id": "b4464087",
      "metadata": {
        "id": "b4464087"
      },
      "source": [
        "More_10Y: 1 when the delegation has been in existence for more than 10 years, 0 otherwise\n",
        "\n",
        "Size: # of employees\n",
        "\n",
        "Region: Region where the commercial delegation is situated\n",
        "\n",
        "We will now summarize its contents: what variables it contains and what type of variable each variable is"
      ]
    },
    {
      "cell_type": "code",
      "execution_count": 4,
      "id": "27b5f8ae",
      "metadata": {
        "colab": {
          "base_uri": "https://localhost:8080/",
          "height": 300
        },
        "id": "27b5f8ae",
        "outputId": "d5a9f095-f157-4ee3-81bc-d5e406941253"
      },
      "outputs": [
        {
          "output_type": "execute_result",
          "data": {
            "text/plain": [
              "               RoE     More_10Y         Size\n",
              "count  1014.000000  1014.000000  1014.000000\n",
              "mean     44.572765     0.500986    22.442801\n",
              "std      26.134470     0.500246    12.364096\n",
              "min     -40.000000     0.000000     4.000000\n",
              "25%      25.915480     0.000000    14.000000\n",
              "50%      44.315435     1.000000    20.000000\n",
              "75%      63.134602     1.000000    27.750000\n",
              "max     119.466744     1.000000    99.000000"
            ],
            "text/html": [
              "\n",
              "  <div id=\"df-b186875e-b1a4-4606-8c4a-7a8a4d4dd6a6\" class=\"colab-df-container\">\n",
              "    <div>\n",
              "<style scoped>\n",
              "    .dataframe tbody tr th:only-of-type {\n",
              "        vertical-align: middle;\n",
              "    }\n",
              "\n",
              "    .dataframe tbody tr th {\n",
              "        vertical-align: top;\n",
              "    }\n",
              "\n",
              "    .dataframe thead th {\n",
              "        text-align: right;\n",
              "    }\n",
              "</style>\n",
              "<table border=\"1\" class=\"dataframe\">\n",
              "  <thead>\n",
              "    <tr style=\"text-align: right;\">\n",
              "      <th></th>\n",
              "      <th>RoE</th>\n",
              "      <th>More_10Y</th>\n",
              "      <th>Size</th>\n",
              "    </tr>\n",
              "  </thead>\n",
              "  <tbody>\n",
              "    <tr>\n",
              "      <th>count</th>\n",
              "      <td>1014.000000</td>\n",
              "      <td>1014.000000</td>\n",
              "      <td>1014.000000</td>\n",
              "    </tr>\n",
              "    <tr>\n",
              "      <th>mean</th>\n",
              "      <td>44.572765</td>\n",
              "      <td>0.500986</td>\n",
              "      <td>22.442801</td>\n",
              "    </tr>\n",
              "    <tr>\n",
              "      <th>std</th>\n",
              "      <td>26.134470</td>\n",
              "      <td>0.500246</td>\n",
              "      <td>12.364096</td>\n",
              "    </tr>\n",
              "    <tr>\n",
              "      <th>min</th>\n",
              "      <td>-40.000000</td>\n",
              "      <td>0.000000</td>\n",
              "      <td>4.000000</td>\n",
              "    </tr>\n",
              "    <tr>\n",
              "      <th>25%</th>\n",
              "      <td>25.915480</td>\n",
              "      <td>0.000000</td>\n",
              "      <td>14.000000</td>\n",
              "    </tr>\n",
              "    <tr>\n",
              "      <th>50%</th>\n",
              "      <td>44.315435</td>\n",
              "      <td>1.000000</td>\n",
              "      <td>20.000000</td>\n",
              "    </tr>\n",
              "    <tr>\n",
              "      <th>75%</th>\n",
              "      <td>63.134602</td>\n",
              "      <td>1.000000</td>\n",
              "      <td>27.750000</td>\n",
              "    </tr>\n",
              "    <tr>\n",
              "      <th>max</th>\n",
              "      <td>119.466744</td>\n",
              "      <td>1.000000</td>\n",
              "      <td>99.000000</td>\n",
              "    </tr>\n",
              "  </tbody>\n",
              "</table>\n",
              "</div>\n",
              "    <div class=\"colab-df-buttons\">\n",
              "\n",
              "  <div class=\"colab-df-container\">\n",
              "    <button class=\"colab-df-convert\" onclick=\"convertToInteractive('df-b186875e-b1a4-4606-8c4a-7a8a4d4dd6a6')\"\n",
              "            title=\"Convert this dataframe to an interactive table.\"\n",
              "            style=\"display:none;\">\n",
              "\n",
              "  <svg xmlns=\"http://www.w3.org/2000/svg\" height=\"24px\" viewBox=\"0 -960 960 960\">\n",
              "    <path d=\"M120-120v-720h720v720H120Zm60-500h600v-160H180v160Zm220 220h160v-160H400v160Zm0 220h160v-160H400v160ZM180-400h160v-160H180v160Zm440 0h160v-160H620v160ZM180-180h160v-160H180v160Zm440 0h160v-160H620v160Z\"/>\n",
              "  </svg>\n",
              "    </button>\n",
              "\n",
              "  <style>\n",
              "    .colab-df-container {\n",
              "      display:flex;\n",
              "      gap: 12px;\n",
              "    }\n",
              "\n",
              "    .colab-df-convert {\n",
              "      background-color: #E8F0FE;\n",
              "      border: none;\n",
              "      border-radius: 50%;\n",
              "      cursor: pointer;\n",
              "      display: none;\n",
              "      fill: #1967D2;\n",
              "      height: 32px;\n",
              "      padding: 0 0 0 0;\n",
              "      width: 32px;\n",
              "    }\n",
              "\n",
              "    .colab-df-convert:hover {\n",
              "      background-color: #E2EBFA;\n",
              "      box-shadow: 0px 1px 2px rgba(60, 64, 67, 0.3), 0px 1px 3px 1px rgba(60, 64, 67, 0.15);\n",
              "      fill: #174EA6;\n",
              "    }\n",
              "\n",
              "    .colab-df-buttons div {\n",
              "      margin-bottom: 4px;\n",
              "    }\n",
              "\n",
              "    [theme=dark] .colab-df-convert {\n",
              "      background-color: #3B4455;\n",
              "      fill: #D2E3FC;\n",
              "    }\n",
              "\n",
              "    [theme=dark] .colab-df-convert:hover {\n",
              "      background-color: #434B5C;\n",
              "      box-shadow: 0px 1px 3px 1px rgba(0, 0, 0, 0.15);\n",
              "      filter: drop-shadow(0px 1px 2px rgba(0, 0, 0, 0.3));\n",
              "      fill: #FFFFFF;\n",
              "    }\n",
              "  </style>\n",
              "\n",
              "    <script>\n",
              "      const buttonEl =\n",
              "        document.querySelector('#df-b186875e-b1a4-4606-8c4a-7a8a4d4dd6a6 button.colab-df-convert');\n",
              "      buttonEl.style.display =\n",
              "        google.colab.kernel.accessAllowed ? 'block' : 'none';\n",
              "\n",
              "      async function convertToInteractive(key) {\n",
              "        const element = document.querySelector('#df-b186875e-b1a4-4606-8c4a-7a8a4d4dd6a6');\n",
              "        const dataTable =\n",
              "          await google.colab.kernel.invokeFunction('convertToInteractive',\n",
              "                                                    [key], {});\n",
              "        if (!dataTable) return;\n",
              "\n",
              "        const docLinkHtml = 'Like what you see? Visit the ' +\n",
              "          '<a target=\"_blank\" href=https://colab.research.google.com/notebooks/data_table.ipynb>data table notebook</a>'\n",
              "          + ' to learn more about interactive tables.';\n",
              "        element.innerHTML = '';\n",
              "        dataTable['output_type'] = 'display_data';\n",
              "        await google.colab.output.renderOutput(dataTable, element);\n",
              "        const docLink = document.createElement('div');\n",
              "        docLink.innerHTML = docLinkHtml;\n",
              "        element.appendChild(docLink);\n",
              "      }\n",
              "    </script>\n",
              "  </div>\n",
              "\n",
              "\n",
              "<div id=\"df-755d5739-fd5a-4f2b-b61c-3768feaa1a52\">\n",
              "  <button class=\"colab-df-quickchart\" onclick=\"quickchart('df-755d5739-fd5a-4f2b-b61c-3768feaa1a52')\"\n",
              "            title=\"Suggest charts\"\n",
              "            style=\"display:none;\">\n",
              "\n",
              "<svg xmlns=\"http://www.w3.org/2000/svg\" height=\"24px\"viewBox=\"0 0 24 24\"\n",
              "     width=\"24px\">\n",
              "    <g>\n",
              "        <path d=\"M19 3H5c-1.1 0-2 .9-2 2v14c0 1.1.9 2 2 2h14c1.1 0 2-.9 2-2V5c0-1.1-.9-2-2-2zM9 17H7v-7h2v7zm4 0h-2V7h2v10zm4 0h-2v-4h2v4z\"/>\n",
              "    </g>\n",
              "</svg>\n",
              "  </button>\n",
              "\n",
              "<style>\n",
              "  .colab-df-quickchart {\n",
              "      --bg-color: #E8F0FE;\n",
              "      --fill-color: #1967D2;\n",
              "      --hover-bg-color: #E2EBFA;\n",
              "      --hover-fill-color: #174EA6;\n",
              "      --disabled-fill-color: #AAA;\n",
              "      --disabled-bg-color: #DDD;\n",
              "  }\n",
              "\n",
              "  [theme=dark] .colab-df-quickchart {\n",
              "      --bg-color: #3B4455;\n",
              "      --fill-color: #D2E3FC;\n",
              "      --hover-bg-color: #434B5C;\n",
              "      --hover-fill-color: #FFFFFF;\n",
              "      --disabled-bg-color: #3B4455;\n",
              "      --disabled-fill-color: #666;\n",
              "  }\n",
              "\n",
              "  .colab-df-quickchart {\n",
              "    background-color: var(--bg-color);\n",
              "    border: none;\n",
              "    border-radius: 50%;\n",
              "    cursor: pointer;\n",
              "    display: none;\n",
              "    fill: var(--fill-color);\n",
              "    height: 32px;\n",
              "    padding: 0;\n",
              "    width: 32px;\n",
              "  }\n",
              "\n",
              "  .colab-df-quickchart:hover {\n",
              "    background-color: var(--hover-bg-color);\n",
              "    box-shadow: 0 1px 2px rgba(60, 64, 67, 0.3), 0 1px 3px 1px rgba(60, 64, 67, 0.15);\n",
              "    fill: var(--button-hover-fill-color);\n",
              "  }\n",
              "\n",
              "  .colab-df-quickchart-complete:disabled,\n",
              "  .colab-df-quickchart-complete:disabled:hover {\n",
              "    background-color: var(--disabled-bg-color);\n",
              "    fill: var(--disabled-fill-color);\n",
              "    box-shadow: none;\n",
              "  }\n",
              "\n",
              "  .colab-df-spinner {\n",
              "    border: 2px solid var(--fill-color);\n",
              "    border-color: transparent;\n",
              "    border-bottom-color: var(--fill-color);\n",
              "    animation:\n",
              "      spin 1s steps(1) infinite;\n",
              "  }\n",
              "\n",
              "  @keyframes spin {\n",
              "    0% {\n",
              "      border-color: transparent;\n",
              "      border-bottom-color: var(--fill-color);\n",
              "      border-left-color: var(--fill-color);\n",
              "    }\n",
              "    20% {\n",
              "      border-color: transparent;\n",
              "      border-left-color: var(--fill-color);\n",
              "      border-top-color: var(--fill-color);\n",
              "    }\n",
              "    30% {\n",
              "      border-color: transparent;\n",
              "      border-left-color: var(--fill-color);\n",
              "      border-top-color: var(--fill-color);\n",
              "      border-right-color: var(--fill-color);\n",
              "    }\n",
              "    40% {\n",
              "      border-color: transparent;\n",
              "      border-right-color: var(--fill-color);\n",
              "      border-top-color: var(--fill-color);\n",
              "    }\n",
              "    60% {\n",
              "      border-color: transparent;\n",
              "      border-right-color: var(--fill-color);\n",
              "    }\n",
              "    80% {\n",
              "      border-color: transparent;\n",
              "      border-right-color: var(--fill-color);\n",
              "      border-bottom-color: var(--fill-color);\n",
              "    }\n",
              "    90% {\n",
              "      border-color: transparent;\n",
              "      border-bottom-color: var(--fill-color);\n",
              "    }\n",
              "  }\n",
              "</style>\n",
              "\n",
              "  <script>\n",
              "    async function quickchart(key) {\n",
              "      const quickchartButtonEl =\n",
              "        document.querySelector('#' + key + ' button');\n",
              "      quickchartButtonEl.disabled = true;  // To prevent multiple clicks.\n",
              "      quickchartButtonEl.classList.add('colab-df-spinner');\n",
              "      try {\n",
              "        const charts = await google.colab.kernel.invokeFunction(\n",
              "            'suggestCharts', [key], {});\n",
              "      } catch (error) {\n",
              "        console.error('Error during call to suggestCharts:', error);\n",
              "      }\n",
              "      quickchartButtonEl.classList.remove('colab-df-spinner');\n",
              "      quickchartButtonEl.classList.add('colab-df-quickchart-complete');\n",
              "    }\n",
              "    (() => {\n",
              "      let quickchartButtonEl =\n",
              "        document.querySelector('#df-755d5739-fd5a-4f2b-b61c-3768feaa1a52 button');\n",
              "      quickchartButtonEl.style.display =\n",
              "        google.colab.kernel.accessAllowed ? 'block' : 'none';\n",
              "    })();\n",
              "  </script>\n",
              "</div>\n",
              "\n",
              "    </div>\n",
              "  </div>\n"
            ],
            "application/vnd.google.colaboratory.intrinsic+json": {
              "type": "dataframe",
              "summary": "{\n  \"name\": \"df\",\n  \"rows\": 8,\n  \"fields\": [\n    {\n      \"column\": \"RoE\",\n      \"properties\": {\n        \"dtype\": \"number\",\n        \"std\": 347.00934521438455,\n        \"min\": -40.0,\n        \"max\": 1014.0,\n        \"num_unique_values\": 8,\n        \"samples\": [\n          44.572764718614636,\n          44.3154349108815,\n          1014.0\n        ],\n        \"semantic_type\": \"\",\n        \"description\": \"\"\n      }\n    },\n    {\n      \"column\": \"More_10Y\",\n      \"properties\": {\n        \"dtype\": \"number\",\n        \"std\": 358.30128736686066,\n        \"min\": 0.0,\n        \"max\": 1014.0,\n        \"num_unique_values\": 5,\n        \"samples\": [\n          0.5009861932938856,\n          1.0,\n          0.5002457577736065\n        ],\n        \"semantic_type\": \"\",\n        \"description\": \"\"\n      }\n    },\n    {\n      \"column\": \"Size\",\n      \"properties\": {\n        \"dtype\": \"number\",\n        \"std\": 349.68262550420445,\n        \"min\": 4.0,\n        \"max\": 1014.0,\n        \"num_unique_values\": 8,\n        \"samples\": [\n          22.442800788954635,\n          20.0,\n          1014.0\n        ],\n        \"semantic_type\": \"\",\n        \"description\": \"\"\n      }\n    }\n  ]\n}"
            }
          },
          "metadata": {},
          "execution_count": 4
        }
      ],
      "source": [
        "df.describe()"
      ]
    },
    {
      "cell_type": "code",
      "execution_count": 5,
      "id": "5345796e",
      "metadata": {
        "colab": {
          "base_uri": "https://localhost:8080/",
          "height": 209
        },
        "id": "5345796e",
        "outputId": "09676354-cfce-4533-c350-dd6095319449"
      },
      "outputs": [
        {
          "output_type": "execute_result",
          "data": {
            "text/plain": [
              "RoE         float64\n",
              "More_10Y      int64\n",
              "Size          int64\n",
              "Region       object\n",
              "dtype: object"
            ],
            "text/html": [
              "<table border=\"1\" class=\"dataframe\">\n",
              "  <thead>\n",
              "    <tr style=\"text-align: right;\">\n",
              "      <th></th>\n",
              "      <th>0</th>\n",
              "    </tr>\n",
              "  </thead>\n",
              "  <tbody>\n",
              "    <tr>\n",
              "      <th>RoE</th>\n",
              "      <td>float64</td>\n",
              "    </tr>\n",
              "    <tr>\n",
              "      <th>More_10Y</th>\n",
              "      <td>int64</td>\n",
              "    </tr>\n",
              "    <tr>\n",
              "      <th>Size</th>\n",
              "      <td>int64</td>\n",
              "    </tr>\n",
              "    <tr>\n",
              "      <th>Region</th>\n",
              "      <td>object</td>\n",
              "    </tr>\n",
              "  </tbody>\n",
              "</table><br><label><b>dtype:</b> object</label>"
            ]
          },
          "metadata": {},
          "execution_count": 5
        }
      ],
      "source": [
        "df.dtypes"
      ]
    },
    {
      "cell_type": "markdown",
      "id": "c929aafe",
      "metadata": {
        "id": "c929aafe"
      },
      "source": [
        "The variable \"Region\" is categorical, so we are going to transform it into this type of data."
      ]
    },
    {
      "cell_type": "code",
      "execution_count": 6,
      "id": "f81871df",
      "metadata": {
        "colab": {
          "base_uri": "https://localhost:8080/",
          "height": 209
        },
        "id": "f81871df",
        "outputId": "89e3c67e-fddb-4f90-f5ad-97a09aece8ee"
      },
      "outputs": [
        {
          "output_type": "execute_result",
          "data": {
            "text/plain": [
              "RoE          float64\n",
              "More_10Y       int64\n",
              "Size           int64\n",
              "Region      category\n",
              "dtype: object"
            ],
            "text/html": [
              "<table border=\"1\" class=\"dataframe\">\n",
              "  <thead>\n",
              "    <tr style=\"text-align: right;\">\n",
              "      <th></th>\n",
              "      <th>0</th>\n",
              "    </tr>\n",
              "  </thead>\n",
              "  <tbody>\n",
              "    <tr>\n",
              "      <th>RoE</th>\n",
              "      <td>float64</td>\n",
              "    </tr>\n",
              "    <tr>\n",
              "      <th>More_10Y</th>\n",
              "      <td>int64</td>\n",
              "    </tr>\n",
              "    <tr>\n",
              "      <th>Size</th>\n",
              "      <td>int64</td>\n",
              "    </tr>\n",
              "    <tr>\n",
              "      <th>Region</th>\n",
              "      <td>category</td>\n",
              "    </tr>\n",
              "  </tbody>\n",
              "</table><br><label><b>dtype:</b> object</label>"
            ]
          },
          "metadata": {},
          "execution_count": 6
        }
      ],
      "source": [
        "df['Region'] = df['Region'].astype('category')\n",
        "df.dtypes"
      ]
    },
    {
      "cell_type": "markdown",
      "id": "80bcd57a-5800-4c80-b4d6-54c847e5957b",
      "metadata": {
        "id": "80bcd57a-5800-4c80-b4d6-54c847e5957b"
      },
      "source": [
        "#### We filter those regions of interest (important *)"
      ]
    },
    {
      "cell_type": "code",
      "execution_count": 7,
      "id": "8a4b4620-992c-4f1d-bea0-5707869e3971",
      "metadata": {
        "id": "8a4b4620-992c-4f1d-bea0-5707869e3971"
      },
      "outputs": [],
      "source": [
        "regions = ['National', 'North_America', 'EU', 'RoW']\n",
        "rows_sel = df.Region.isin(regions)\n",
        "df = df.loc[rows_sel]"
      ]
    },
    {
      "cell_type": "markdown",
      "id": "2965110f",
      "metadata": {
        "id": "2965110f"
      },
      "source": [
        "We transform the categorical variable (Region) into dichotomous variables in order to incorporate it into the regression model."
      ]
    },
    {
      "cell_type": "code",
      "execution_count": 8,
      "id": "977225c6",
      "metadata": {
        "colab": {
          "base_uri": "https://localhost:8080/",
          "height": 363
        },
        "id": "977225c6",
        "outputId": "4e70cddb-6e1a-4370-a990-780c907b6280"
      },
      "outputs": [
        {
          "output_type": "execute_result",
          "data": {
            "text/plain": [
              "         RoE  More_10Y  Size         Region     EU  National  North_America  \\\n",
              "0  92.460171         1    22       National  False      True          False   \n",
              "1  -6.849102         0    42       National  False      True          False   \n",
              "2  66.042092         0    33  North_America  False     False           True   \n",
              "3  70.198346         1    32       National  False      True          False   \n",
              "4  50.550568         1    11  North_America  False     False           True   \n",
              "5  19.573432         0    19       National  False      True          False   \n",
              "6 -40.000000         0     6       National  False      True          False   \n",
              "7  29.687851         1     6       National  False      True          False   \n",
              "8  56.841548         1    14       National  False      True          False   \n",
              "9  46.542791         1    13       National  False      True          False   \n",
              "\n",
              "     RoW  \n",
              "0  False  \n",
              "1  False  \n",
              "2  False  \n",
              "3  False  \n",
              "4  False  \n",
              "5  False  \n",
              "6  False  \n",
              "7  False  \n",
              "8  False  \n",
              "9  False  "
            ],
            "text/html": [
              "\n",
              "  <div id=\"df-3df9e3d7-70ca-4194-9f24-37663fe241b2\" class=\"colab-df-container\">\n",
              "    <div>\n",
              "<style scoped>\n",
              "    .dataframe tbody tr th:only-of-type {\n",
              "        vertical-align: middle;\n",
              "    }\n",
              "\n",
              "    .dataframe tbody tr th {\n",
              "        vertical-align: top;\n",
              "    }\n",
              "\n",
              "    .dataframe thead th {\n",
              "        text-align: right;\n",
              "    }\n",
              "</style>\n",
              "<table border=\"1\" class=\"dataframe\">\n",
              "  <thead>\n",
              "    <tr style=\"text-align: right;\">\n",
              "      <th></th>\n",
              "      <th>RoE</th>\n",
              "      <th>More_10Y</th>\n",
              "      <th>Size</th>\n",
              "      <th>Region</th>\n",
              "      <th>EU</th>\n",
              "      <th>National</th>\n",
              "      <th>North_America</th>\n",
              "      <th>RoW</th>\n",
              "    </tr>\n",
              "  </thead>\n",
              "  <tbody>\n",
              "    <tr>\n",
              "      <th>0</th>\n",
              "      <td>92.460171</td>\n",
              "      <td>1</td>\n",
              "      <td>22</td>\n",
              "      <td>National</td>\n",
              "      <td>False</td>\n",
              "      <td>True</td>\n",
              "      <td>False</td>\n",
              "      <td>False</td>\n",
              "    </tr>\n",
              "    <tr>\n",
              "      <th>1</th>\n",
              "      <td>-6.849102</td>\n",
              "      <td>0</td>\n",
              "      <td>42</td>\n",
              "      <td>National</td>\n",
              "      <td>False</td>\n",
              "      <td>True</td>\n",
              "      <td>False</td>\n",
              "      <td>False</td>\n",
              "    </tr>\n",
              "    <tr>\n",
              "      <th>2</th>\n",
              "      <td>66.042092</td>\n",
              "      <td>0</td>\n",
              "      <td>33</td>\n",
              "      <td>North_America</td>\n",
              "      <td>False</td>\n",
              "      <td>False</td>\n",
              "      <td>True</td>\n",
              "      <td>False</td>\n",
              "    </tr>\n",
              "    <tr>\n",
              "      <th>3</th>\n",
              "      <td>70.198346</td>\n",
              "      <td>1</td>\n",
              "      <td>32</td>\n",
              "      <td>National</td>\n",
              "      <td>False</td>\n",
              "      <td>True</td>\n",
              "      <td>False</td>\n",
              "      <td>False</td>\n",
              "    </tr>\n",
              "    <tr>\n",
              "      <th>4</th>\n",
              "      <td>50.550568</td>\n",
              "      <td>1</td>\n",
              "      <td>11</td>\n",
              "      <td>North_America</td>\n",
              "      <td>False</td>\n",
              "      <td>False</td>\n",
              "      <td>True</td>\n",
              "      <td>False</td>\n",
              "    </tr>\n",
              "    <tr>\n",
              "      <th>5</th>\n",
              "      <td>19.573432</td>\n",
              "      <td>0</td>\n",
              "      <td>19</td>\n",
              "      <td>National</td>\n",
              "      <td>False</td>\n",
              "      <td>True</td>\n",
              "      <td>False</td>\n",
              "      <td>False</td>\n",
              "    </tr>\n",
              "    <tr>\n",
              "      <th>6</th>\n",
              "      <td>-40.000000</td>\n",
              "      <td>0</td>\n",
              "      <td>6</td>\n",
              "      <td>National</td>\n",
              "      <td>False</td>\n",
              "      <td>True</td>\n",
              "      <td>False</td>\n",
              "      <td>False</td>\n",
              "    </tr>\n",
              "    <tr>\n",
              "      <th>7</th>\n",
              "      <td>29.687851</td>\n",
              "      <td>1</td>\n",
              "      <td>6</td>\n",
              "      <td>National</td>\n",
              "      <td>False</td>\n",
              "      <td>True</td>\n",
              "      <td>False</td>\n",
              "      <td>False</td>\n",
              "    </tr>\n",
              "    <tr>\n",
              "      <th>8</th>\n",
              "      <td>56.841548</td>\n",
              "      <td>1</td>\n",
              "      <td>14</td>\n",
              "      <td>National</td>\n",
              "      <td>False</td>\n",
              "      <td>True</td>\n",
              "      <td>False</td>\n",
              "      <td>False</td>\n",
              "    </tr>\n",
              "    <tr>\n",
              "      <th>9</th>\n",
              "      <td>46.542791</td>\n",
              "      <td>1</td>\n",
              "      <td>13</td>\n",
              "      <td>National</td>\n",
              "      <td>False</td>\n",
              "      <td>True</td>\n",
              "      <td>False</td>\n",
              "      <td>False</td>\n",
              "    </tr>\n",
              "  </tbody>\n",
              "</table>\n",
              "</div>\n",
              "    <div class=\"colab-df-buttons\">\n",
              "\n",
              "  <div class=\"colab-df-container\">\n",
              "    <button class=\"colab-df-convert\" onclick=\"convertToInteractive('df-3df9e3d7-70ca-4194-9f24-37663fe241b2')\"\n",
              "            title=\"Convert this dataframe to an interactive table.\"\n",
              "            style=\"display:none;\">\n",
              "\n",
              "  <svg xmlns=\"http://www.w3.org/2000/svg\" height=\"24px\" viewBox=\"0 -960 960 960\">\n",
              "    <path d=\"M120-120v-720h720v720H120Zm60-500h600v-160H180v160Zm220 220h160v-160H400v160Zm0 220h160v-160H400v160ZM180-400h160v-160H180v160Zm440 0h160v-160H620v160ZM180-180h160v-160H180v160Zm440 0h160v-160H620v160Z\"/>\n",
              "  </svg>\n",
              "    </button>\n",
              "\n",
              "  <style>\n",
              "    .colab-df-container {\n",
              "      display:flex;\n",
              "      gap: 12px;\n",
              "    }\n",
              "\n",
              "    .colab-df-convert {\n",
              "      background-color: #E8F0FE;\n",
              "      border: none;\n",
              "      border-radius: 50%;\n",
              "      cursor: pointer;\n",
              "      display: none;\n",
              "      fill: #1967D2;\n",
              "      height: 32px;\n",
              "      padding: 0 0 0 0;\n",
              "      width: 32px;\n",
              "    }\n",
              "\n",
              "    .colab-df-convert:hover {\n",
              "      background-color: #E2EBFA;\n",
              "      box-shadow: 0px 1px 2px rgba(60, 64, 67, 0.3), 0px 1px 3px 1px rgba(60, 64, 67, 0.15);\n",
              "      fill: #174EA6;\n",
              "    }\n",
              "\n",
              "    .colab-df-buttons div {\n",
              "      margin-bottom: 4px;\n",
              "    }\n",
              "\n",
              "    [theme=dark] .colab-df-convert {\n",
              "      background-color: #3B4455;\n",
              "      fill: #D2E3FC;\n",
              "    }\n",
              "\n",
              "    [theme=dark] .colab-df-convert:hover {\n",
              "      background-color: #434B5C;\n",
              "      box-shadow: 0px 1px 3px 1px rgba(0, 0, 0, 0.15);\n",
              "      filter: drop-shadow(0px 1px 2px rgba(0, 0, 0, 0.3));\n",
              "      fill: #FFFFFF;\n",
              "    }\n",
              "  </style>\n",
              "\n",
              "    <script>\n",
              "      const buttonEl =\n",
              "        document.querySelector('#df-3df9e3d7-70ca-4194-9f24-37663fe241b2 button.colab-df-convert');\n",
              "      buttonEl.style.display =\n",
              "        google.colab.kernel.accessAllowed ? 'block' : 'none';\n",
              "\n",
              "      async function convertToInteractive(key) {\n",
              "        const element = document.querySelector('#df-3df9e3d7-70ca-4194-9f24-37663fe241b2');\n",
              "        const dataTable =\n",
              "          await google.colab.kernel.invokeFunction('convertToInteractive',\n",
              "                                                    [key], {});\n",
              "        if (!dataTable) return;\n",
              "\n",
              "        const docLinkHtml = 'Like what you see? Visit the ' +\n",
              "          '<a target=\"_blank\" href=https://colab.research.google.com/notebooks/data_table.ipynb>data table notebook</a>'\n",
              "          + ' to learn more about interactive tables.';\n",
              "        element.innerHTML = '';\n",
              "        dataTable['output_type'] = 'display_data';\n",
              "        await google.colab.output.renderOutput(dataTable, element);\n",
              "        const docLink = document.createElement('div');\n",
              "        docLink.innerHTML = docLinkHtml;\n",
              "        element.appendChild(docLink);\n",
              "      }\n",
              "    </script>\n",
              "  </div>\n",
              "\n",
              "\n",
              "<div id=\"df-023efc59-dc78-4352-95ca-a0baf02f245d\">\n",
              "  <button class=\"colab-df-quickchart\" onclick=\"quickchart('df-023efc59-dc78-4352-95ca-a0baf02f245d')\"\n",
              "            title=\"Suggest charts\"\n",
              "            style=\"display:none;\">\n",
              "\n",
              "<svg xmlns=\"http://www.w3.org/2000/svg\" height=\"24px\"viewBox=\"0 0 24 24\"\n",
              "     width=\"24px\">\n",
              "    <g>\n",
              "        <path d=\"M19 3H5c-1.1 0-2 .9-2 2v14c0 1.1.9 2 2 2h14c1.1 0 2-.9 2-2V5c0-1.1-.9-2-2-2zM9 17H7v-7h2v7zm4 0h-2V7h2v10zm4 0h-2v-4h2v4z\"/>\n",
              "    </g>\n",
              "</svg>\n",
              "  </button>\n",
              "\n",
              "<style>\n",
              "  .colab-df-quickchart {\n",
              "      --bg-color: #E8F0FE;\n",
              "      --fill-color: #1967D2;\n",
              "      --hover-bg-color: #E2EBFA;\n",
              "      --hover-fill-color: #174EA6;\n",
              "      --disabled-fill-color: #AAA;\n",
              "      --disabled-bg-color: #DDD;\n",
              "  }\n",
              "\n",
              "  [theme=dark] .colab-df-quickchart {\n",
              "      --bg-color: #3B4455;\n",
              "      --fill-color: #D2E3FC;\n",
              "      --hover-bg-color: #434B5C;\n",
              "      --hover-fill-color: #FFFFFF;\n",
              "      --disabled-bg-color: #3B4455;\n",
              "      --disabled-fill-color: #666;\n",
              "  }\n",
              "\n",
              "  .colab-df-quickchart {\n",
              "    background-color: var(--bg-color);\n",
              "    border: none;\n",
              "    border-radius: 50%;\n",
              "    cursor: pointer;\n",
              "    display: none;\n",
              "    fill: var(--fill-color);\n",
              "    height: 32px;\n",
              "    padding: 0;\n",
              "    width: 32px;\n",
              "  }\n",
              "\n",
              "  .colab-df-quickchart:hover {\n",
              "    background-color: var(--hover-bg-color);\n",
              "    box-shadow: 0 1px 2px rgba(60, 64, 67, 0.3), 0 1px 3px 1px rgba(60, 64, 67, 0.15);\n",
              "    fill: var(--button-hover-fill-color);\n",
              "  }\n",
              "\n",
              "  .colab-df-quickchart-complete:disabled,\n",
              "  .colab-df-quickchart-complete:disabled:hover {\n",
              "    background-color: var(--disabled-bg-color);\n",
              "    fill: var(--disabled-fill-color);\n",
              "    box-shadow: none;\n",
              "  }\n",
              "\n",
              "  .colab-df-spinner {\n",
              "    border: 2px solid var(--fill-color);\n",
              "    border-color: transparent;\n",
              "    border-bottom-color: var(--fill-color);\n",
              "    animation:\n",
              "      spin 1s steps(1) infinite;\n",
              "  }\n",
              "\n",
              "  @keyframes spin {\n",
              "    0% {\n",
              "      border-color: transparent;\n",
              "      border-bottom-color: var(--fill-color);\n",
              "      border-left-color: var(--fill-color);\n",
              "    }\n",
              "    20% {\n",
              "      border-color: transparent;\n",
              "      border-left-color: var(--fill-color);\n",
              "      border-top-color: var(--fill-color);\n",
              "    }\n",
              "    30% {\n",
              "      border-color: transparent;\n",
              "      border-left-color: var(--fill-color);\n",
              "      border-top-color: var(--fill-color);\n",
              "      border-right-color: var(--fill-color);\n",
              "    }\n",
              "    40% {\n",
              "      border-color: transparent;\n",
              "      border-right-color: var(--fill-color);\n",
              "      border-top-color: var(--fill-color);\n",
              "    }\n",
              "    60% {\n",
              "      border-color: transparent;\n",
              "      border-right-color: var(--fill-color);\n",
              "    }\n",
              "    80% {\n",
              "      border-color: transparent;\n",
              "      border-right-color: var(--fill-color);\n",
              "      border-bottom-color: var(--fill-color);\n",
              "    }\n",
              "    90% {\n",
              "      border-color: transparent;\n",
              "      border-bottom-color: var(--fill-color);\n",
              "    }\n",
              "  }\n",
              "</style>\n",
              "\n",
              "  <script>\n",
              "    async function quickchart(key) {\n",
              "      const quickchartButtonEl =\n",
              "        document.querySelector('#' + key + ' button');\n",
              "      quickchartButtonEl.disabled = true;  // To prevent multiple clicks.\n",
              "      quickchartButtonEl.classList.add('colab-df-spinner');\n",
              "      try {\n",
              "        const charts = await google.colab.kernel.invokeFunction(\n",
              "            'suggestCharts', [key], {});\n",
              "      } catch (error) {\n",
              "        console.error('Error during call to suggestCharts:', error);\n",
              "      }\n",
              "      quickchartButtonEl.classList.remove('colab-df-spinner');\n",
              "      quickchartButtonEl.classList.add('colab-df-quickchart-complete');\n",
              "    }\n",
              "    (() => {\n",
              "      let quickchartButtonEl =\n",
              "        document.querySelector('#df-023efc59-dc78-4352-95ca-a0baf02f245d button');\n",
              "      quickchartButtonEl.style.display =\n",
              "        google.colab.kernel.accessAllowed ? 'block' : 'none';\n",
              "    })();\n",
              "  </script>\n",
              "</div>\n",
              "\n",
              "    </div>\n",
              "  </div>\n"
            ],
            "application/vnd.google.colaboratory.intrinsic+json": {
              "type": "dataframe",
              "variable_name": "df",
              "summary": "{\n  \"name\": \"df\",\n  \"rows\": 1014,\n  \"fields\": [\n    {\n      \"column\": \"RoE\",\n      \"properties\": {\n        \"dtype\": \"number\",\n        \"std\": 26.134469999543974,\n        \"min\": -40.0,\n        \"max\": 119.46674394625751,\n        \"num_unique_values\": 1014,\n        \"samples\": [\n          35.701758626329934,\n          31.745552030929744,\n          61.02606542891424\n        ],\n        \"semantic_type\": \"\",\n        \"description\": \"\"\n      }\n    },\n    {\n      \"column\": \"More_10Y\",\n      \"properties\": {\n        \"dtype\": \"number\",\n        \"std\": 0,\n        \"min\": 0,\n        \"max\": 1,\n        \"num_unique_values\": 2,\n        \"samples\": [\n          0,\n          1\n        ],\n        \"semantic_type\": \"\",\n        \"description\": \"\"\n      }\n    },\n    {\n      \"column\": \"Size\",\n      \"properties\": {\n        \"dtype\": \"number\",\n        \"std\": 12,\n        \"min\": 4,\n        \"max\": 99,\n        \"num_unique_values\": 67,\n        \"samples\": [\n          41,\n          17\n        ],\n        \"semantic_type\": \"\",\n        \"description\": \"\"\n      }\n    },\n    {\n      \"column\": \"Region\",\n      \"properties\": {\n        \"dtype\": \"category\",\n        \"num_unique_values\": 4,\n        \"samples\": [\n          \"North_America\",\n          \"EU\"\n        ],\n        \"semantic_type\": \"\",\n        \"description\": \"\"\n      }\n    },\n    {\n      \"column\": \"EU\",\n      \"properties\": {\n        \"dtype\": \"boolean\",\n        \"num_unique_values\": 2,\n        \"samples\": [\n          true,\n          false\n        ],\n        \"semantic_type\": \"\",\n        \"description\": \"\"\n      }\n    },\n    {\n      \"column\": \"National\",\n      \"properties\": {\n        \"dtype\": \"boolean\",\n        \"num_unique_values\": 2,\n        \"samples\": [\n          false,\n          true\n        ],\n        \"semantic_type\": \"\",\n        \"description\": \"\"\n      }\n    },\n    {\n      \"column\": \"North_America\",\n      \"properties\": {\n        \"dtype\": \"boolean\",\n        \"num_unique_values\": 2,\n        \"samples\": [\n          true,\n          false\n        ],\n        \"semantic_type\": \"\",\n        \"description\": \"\"\n      }\n    },\n    {\n      \"column\": \"RoW\",\n      \"properties\": {\n        \"dtype\": \"boolean\",\n        \"num_unique_values\": 2,\n        \"samples\": [\n          true,\n          false\n        ],\n        \"semantic_type\": \"\",\n        \"description\": \"\"\n      }\n    }\n  ]\n}"
            }
          },
          "metadata": {},
          "execution_count": 8
        }
      ],
      "source": [
        "df_Region = pd.get_dummies(df[\"Region\"])\n",
        "\n",
        "df = pd.concat((df, df_Region), axis=1)\n",
        "\n",
        "df.head(n=10)"
      ]
    },
    {
      "cell_type": "markdown",
      "id": "59c56f72",
      "metadata": {
        "id": "59c56f72"
      },
      "source": [
        "## Part 2: Basic exploratory analysis of the data"
      ]
    },
    {
      "cell_type": "markdown",
      "id": "17118866",
      "metadata": {
        "id": "17118866"
      },
      "source": [
        "Let's analyze \"RoE\""
      ]
    },
    {
      "cell_type": "code",
      "execution_count": 9,
      "id": "4328a3f8",
      "metadata": {
        "colab": {
          "base_uri": "https://localhost:8080/",
          "height": 452
        },
        "id": "4328a3f8",
        "outputId": "6a920149-b943-4550-d70e-9cbea6dfb658"
      },
      "outputs": [
        {
          "output_type": "display_data",
          "data": {
            "text/plain": [
              "<Figure size 640x480 with 1 Axes>"
            ],
            "image/png": "[encoded data removed]"
          },
          "metadata": {}
        }
      ],
      "source": [
        "df.hist(column=\"RoE\");"
      ]
    },
    {
      "cell_type": "markdown",
      "id": "01fff696",
      "metadata": {
        "id": "01fff696"
      },
      "source": [
        "Nothing relevant. Now Let's analyze \"Size\""
      ]
    },
    {
      "cell_type": "code",
      "execution_count": 10,
      "id": "fdc1542d",
      "metadata": {
        "colab": {
          "base_uri": "https://localhost:8080/",
          "height": 452
        },
        "id": "fdc1542d",
        "outputId": "3e6e7b74-20d2-47ab-9ddb-5f174650736b"
      },
      "outputs": [
        {
          "output_type": "display_data",
          "data": {
            "text/plain": [
              "<Figure size 640x480 with 1 Axes>"
            ],
            "image/png": "[encoded data removed]"
          },
          "metadata": {}
        }
      ],
      "source": [
        "df.hist(column=\"Size\");"
      ]
    },
    {
      "cell_type": "markdown",
      "id": "fa469a02",
      "metadata": {
        "id": "fa469a02"
      },
      "source": [
        "We can see a considerable positive skewness. Probably to use logarithms is a good idea. Let's try it"
      ]
    },
    {
      "cell_type": "code",
      "execution_count": 11,
      "id": "f44eaa89",
      "metadata": {
        "colab": {
          "base_uri": "https://localhost:8080/",
          "height": 452
        },
        "id": "f44eaa89",
        "outputId": "8b91be6b-901f-41f8-d058-42870870831d"
      },
      "outputs": [
        {
          "output_type": "display_data",
          "data": {
            "text/plain": [
              "<Figure size 640x480 with 1 Axes>"
            ],
            "image/png": "[encoded data removed]"
          },
          "metadata": {}
        }
      ],
      "source": [
        "df['Log_Size'] = np.log(df['Size'])\n",
        "df.hist(column=\"Log_Size\");"
      ]
    },
    {
      "cell_type": "markdown",
      "id": "6cca281e",
      "metadata": {
        "id": "6cca281e"
      },
      "source": [
        "Much better. So, we will use the Log_Size as independent variable"
      ]
    },
    {
      "cell_type": "markdown",
      "id": "b2020f7b",
      "metadata": {
        "id": "b2020f7b"
      },
      "source": [
        "In the case of discrete numerical variables and categorical variables, it is appropriate to use a barplot or a pie chart.\n",
        "That is the case for \"Region\" (categorical nominal variable)"
      ]
    },
    {
      "cell_type": "code",
      "execution_count": 12,
      "id": "14b47bf5",
      "metadata": {
        "colab": {
          "base_uri": "https://localhost:8080/",
          "height": 561
        },
        "id": "14b47bf5",
        "outputId": "debac698-f834-4fef-e50f-1a36d75e3e44"
      },
      "outputs": [
        {
          "output_type": "display_data",
          "data": {
            "text/plain": [
              "<Figure size 640x480 with 1 Axes>"
            ],
            "image/png": "[encoded data removed]"
          },
          "metadata": {}
        }
      ],
      "source": [
        "Table_Region = pd.crosstab(index=df['Region'], columns='count')\n",
        "Table_Region.plot.bar(subplots=True,legend=False)\n",
        "plt.gca().set(title='Bar Chart (Region)', ylabel='');"
      ]
    },
    {
      "cell_type": "markdown",
      "id": "50339936",
      "metadata": {
        "id": "50339936"
      },
      "source": [
        "The same for \"More_10Y\" (categorical dichotomous variable)"
      ]
    },
    {
      "cell_type": "code",
      "execution_count": 13,
      "id": "7c1b957a",
      "metadata": {
        "colab": {
          "base_uri": "https://localhost:8080/",
          "height": 467
        },
        "id": "7c1b957a",
        "outputId": "5fa64308-7da2-4b14-9ce3-39d857536c1d"
      },
      "outputs": [
        {
          "output_type": "display_data",
          "data": {
            "text/plain": [
              "<Figure size 640x480 with 1 Axes>"
            ],
            "image/png": "[encoded data removed]"
          },
          "metadata": {}
        }
      ],
      "source": [
        "Table_Age = pd.crosstab(index=df['More_10Y'], columns='count')\n",
        "Table_Age.plot.bar(subplots=True,legend=False)\n",
        "plt.gca().set(title='Bar Chart (Age > 10 years)', ylabel='');"
      ]
    },
    {
      "cell_type": "markdown",
      "id": "a57a8f3f",
      "metadata": {
        "id": "a57a8f3f"
      },
      "source": [
        "## Part 3: Simple Linear Regression"
      ]
    },
    {
      "cell_type": "markdown",
      "id": "c6a649f0",
      "metadata": {
        "id": "c6a649f0"
      },
      "source": [
        "Now, lets fit the model:  $y \\sim \\beta_0 + \\beta_1 \\cdot \\text{Log_Size} + \\epsilon$"
      ]
    },
    {
      "cell_type": "code",
      "execution_count": 14,
      "id": "da9b77c4",
      "metadata": {
        "colab": {
          "base_uri": "https://localhost:8080/"
        },
        "id": "da9b77c4",
        "outputId": "246be7d3-9f4f-4974-93f0-270bb469f173"
      },
      "outputs": [
        {
          "output_type": "stream",
          "name": "stdout",
          "text": [
            "                            OLS Regression Results                            \n",
            "==============================================================================\n",
            "Dep. Variable:                    RoE   R-squared:                       0.030\n",
            "Model:                            OLS   Adj. R-squared:                  0.029\n",
            "Method:                 Least Squares   F-statistic:                     31.72\n",
            "Date:                Sun, 04 Aug 2024   Prob (F-statistic):           2.30e-08\n",
            "Time:                        11:49:39   Log-Likelihood:                -4731.6\n",
            "No. Observations:                1014   AIC:                             9467.\n",
            "Df Residuals:                    1012   BIC:                             9477.\n",
            "Df Model:                           1                                         \n",
            "Covariance Type:            nonrobust                                         \n",
            "==============================================================================\n",
            "                 coef    std err          t      P>|t|      [0.025      0.975]\n",
            "------------------------------------------------------------------------------\n",
            "const         18.0978      4.770      3.794      0.000       8.738      27.457\n",
            "Log_Size       8.8869      1.578      5.632      0.000       5.791      11.983\n",
            "==============================================================================\n",
            "Omnibus:                       13.839   Durbin-Watson:                   2.024\n",
            "Prob(Omnibus):                  0.001   Jarque-Bera (JB):                8.700\n",
            "Skew:                          -0.040   Prob(JB):                       0.0129\n",
            "Kurtosis:                       2.553   Cond. No.                         19.7\n",
            "==============================================================================\n",
            "\n",
            "Notes:\n",
            "[1] Standard Errors assume that the covariance matrix of the errors is correctly specified.\n"
          ]
        }
      ],
      "source": [
        "y = df['RoE']\n",
        "x = df[['Log_Size']]\n",
        "\n",
        "# Add constant (beta 0) to predictor variables\n",
        "x = sm.add_constant(x) #  we need to add the intercept term explicitly\n",
        "\n",
        "#fit linear regression model\n",
        "model_1 = sm.OLS(y, x)\n",
        "regr_results_model_1 = model_1.fit()\n",
        "\n",
        "print(regr_results_model_1.summary())"
      ]
    },
    {
      "cell_type": "markdown",
      "id": "9a02ebe7",
      "metadata": {
        "id": "9a02ebe7"
      },
      "source": [
        "However, previous studies (literature review) point to a possible interaction between size and age of the trade delegation. Let's verify it"
      ]
    },
    {
      "cell_type": "code",
      "execution_count": 15,
      "id": "8455dccd",
      "metadata": {
        "colab": {
          "base_uri": "https://localhost:8080/",
          "height": 961
        },
        "id": "8455dccd",
        "outputId": "6fb689cb-1aae-4ddf-97b9-4470630ed3e5"
      },
      "outputs": [
        {
          "output_type": "display_data",
          "data": {
            "text/plain": [
              "<Figure size 640x480 with 1 Axes>"
            ],
            "image/png": "[encoded data removed]"
          },
          "metadata": {}
        },
        {
          "output_type": "display_data",
          "data": {
            "text/plain": [
              "<Figure size 578.611x500 with 1 Axes>"
            ],
            "image/png": "[encoded data removed]"
          },
          "metadata": {}
        }
      ],
      "source": [
        "sns.regplot(x='Log_Size', y='RoE', data=df,\n",
        "                 scatter_kws={\"color\": \"black\"}, line_kws={\"color\": \"red\"})\n",
        "plt.gca().set(title='scatter plot (RoE as dependent variable)', ylabel='');\n",
        "sns.lmplot(x=\"Log_Size\", y=\"RoE\", hue=\"More_10Y\", data=df);"
      ]
    },
    {
      "cell_type": "markdown",
      "id": "dc4d855e",
      "metadata": {
        "id": "dc4d855e"
      },
      "source": [
        "Indeed, there seems to be an interaction between the two variables. We should include it in the final model"
      ]
    },
    {
      "cell_type": "markdown",
      "id": "c8e2db28",
      "metadata": {
        "id": "c8e2db28"
      },
      "source": [
        "## Part 4: Multiple Linear Regression"
      ]
    },
    {
      "cell_type": "markdown",
      "id": "15fa0f82",
      "metadata": {
        "id": "15fa0f82"
      },
      "source": [
        "Now, lets fit the final model:\n",
        "$y \\sim \\beta_0 + \\beta_1 \\cdot \\text{More_10Y} + \\beta_2 \\cdot \\text{Log_Size}\n",
        "+ \\beta_3 \\cdot \\text{National} + \\beta_4 \\cdot \\text{EU} + \\beta_5 \\cdot \\text{North_America} + \\beta_6 \\cdot \\text{More_10Y*Log_Size}\n",
        "+ \\epsilon$"
      ]
    },
    {
      "cell_type": "markdown",
      "id": "416e15ea",
      "metadata": {
        "id": "416e15ea"
      },
      "source": [
        "Warning!!!\n",
        "\n",
        "As we are going to include an interaction, we must center numerical variables to avoid multicolinearity problems"
      ]
    },
    {
      "cell_type": "code",
      "execution_count": 16,
      "id": "31212971-4ea6-4cf3-b4a0-472ea800d367",
      "metadata": {
        "colab": {
          "base_uri": "https://localhost:8080/",
          "height": 383
        },
        "id": "31212971-4ea6-4cf3-b4a0-472ea800d367",
        "outputId": "5440ee00-d77c-46d4-8eca-fb6e98e21e99"
      },
      "outputs": [
        {
          "output_type": "execute_result",
          "data": {
            "text/plain": [
              "         RoE  More_10Y  Size         Region     EU  National  North_America  \\\n",
              "0  92.460171         1    22       National  False      True          False   \n",
              "1  -6.849102         0    42       National  False      True          False   \n",
              "2  66.042092         0    33  North_America  False     False           True   \n",
              "3  70.198346         1    32       National  False      True          False   \n",
              "4  50.550568         1    11  North_America  False     False           True   \n",
              "5  19.573432         0    19       National  False      True          False   \n",
              "6 -40.000000         0     6       National  False      True          False   \n",
              "7  29.687851         1     6       National  False      True          False   \n",
              "8  56.841548         1    14       National  False      True          False   \n",
              "9  46.542791         1    13       National  False      True          False   \n",
              "\n",
              "     RoW  Log_Size  Log_Size_centered  RoE_centered  \\\n",
              "0  False  3.091042           0.111940     47.887406   \n",
              "1  False  3.737670           0.758567    -51.421867   \n",
              "2  False  3.496508           0.517405     21.469327   \n",
              "3  False  3.465736           0.486633     25.625581   \n",
              "4  False  2.397895          -0.581208      5.977803   \n",
              "5  False  2.944439          -0.034664    -24.999333   \n",
              "6  False  1.791759          -1.187343    -84.572765   \n",
              "7  False  1.791759          -1.187343    -14.884914   \n",
              "8  False  2.639057          -0.340046     12.268783   \n",
              "9  False  2.564949          -0.414154      1.970027   \n",
              "\n",
              "   Interaction_Log_Size_centered_More_10Y  \n",
              "0                                0.111940  \n",
              "1                                0.000000  \n",
              "2                                0.000000  \n",
              "3                                0.486633  \n",
              "4                               -0.581208  \n",
              "5                               -0.000000  \n",
              "6                               -0.000000  \n",
              "7                               -1.187343  \n",
              "8                               -0.340046  \n",
              "9                               -0.414154  "
            ],
            "text/html": [
              "\n",
              "  <div id=\"df-c42d4a83-a738-4dc8-b2af-a898e6aecd53\" class=\"colab-df-container\">\n",
              "    <div>\n",
              "<style scoped>\n",
              "    .dataframe tbody tr th:only-of-type {\n",
              "        vertical-align: middle;\n",
              "    }\n",
              "\n",
              "    .dataframe tbody tr th {\n",
              "        vertical-align: top;\n",
              "    }\n",
              "\n",
              "    .dataframe thead th {\n",
              "        text-align: right;\n",
              "    }\n",
              "</style>\n",
              "<table border=\"1\" class=\"dataframe\">\n",
              "  <thead>\n",
              "    <tr style=\"text-align: right;\">\n",
              "      <th></th>\n",
              "      <th>RoE</th>\n",
              "      <th>More_10Y</th>\n",
              "      <th>Size</th>\n",
              "      <th>Region</th>\n",
              "      <th>EU</th>\n",
              "      <th>National</th>\n",
              "      <th>North_America</th>\n",
              "      <th>RoW</th>\n",
              "      <th>Log_Size</th>\n",
              "      <th>Log_Size_centered</th>\n",
              "      <th>RoE_centered</th>\n",
              "      <th>Interaction_Log_Size_centered_More_10Y</th>\n",
              "    </tr>\n",
              "  </thead>\n",
              "  <tbody>\n",
              "    <tr>\n",
              "      <th>0</th>\n",
              "      <td>92.460171</td>\n",
              "      <td>1</td>\n",
              "      <td>22</td>\n",
              "      <td>National</td>\n",
              "      <td>False</td>\n",
              "      <td>True</td>\n",
              "      <td>False</td>\n",
              "      <td>False</td>\n",
              "      <td>3.091042</td>\n",
              "      <td>0.111940</td>\n",
              "      <td>47.887406</td>\n",
              "      <td>0.111940</td>\n",
              "    </tr>\n",
              "    <tr>\n",
              "      <th>1</th>\n",
              "      <td>-6.849102</td>\n",
              "      <td>0</td>\n",
              "      <td>42</td>\n",
              "      <td>National</td>\n",
              "      <td>False</td>\n",
              "      <td>True</td>\n",
              "      <td>False</td>\n",
              "      <td>False</td>\n",
              "      <td>3.737670</td>\n",
              "      <td>0.758567</td>\n",
              "      <td>-51.421867</td>\n",
              "      <td>0.000000</td>\n",
              "    </tr>\n",
              "    <tr>\n",
              "      <th>2</th>\n",
              "      <td>66.042092</td>\n",
              "      <td>0</td>\n",
              "      <td>33</td>\n",
              "      <td>North_America</td>\n",
              "      <td>False</td>\n",
              "      <td>False</td>\n",
              "      <td>True</td>\n",
              "      <td>False</td>\n",
              "      <td>3.496508</td>\n",
              "      <td>0.517405</td>\n",
              "      <td>21.469327</td>\n",
              "      <td>0.000000</td>\n",
              "    </tr>\n",
              "    <tr>\n",
              "      <th>3</th>\n",
              "      <td>70.198346</td>\n",
              "      <td>1</td>\n",
              "      <td>32</td>\n",
              "      <td>National</td>\n",
              "      <td>False</td>\n",
              "      <td>True</td>\n",
              "      <td>False</td>\n",
              "      <td>False</td>\n",
              "      <td>3.465736</td>\n",
              "      <td>0.486633</td>\n",
              "      <td>25.625581</td>\n",
              "      <td>0.486633</td>\n",
              "    </tr>\n",
              "    <tr>\n",
              "      <th>4</th>\n",
              "      <td>50.550568</td>\n",
              "      <td>1</td>\n",
              "      <td>11</td>\n",
              "      <td>North_America</td>\n",
              "      <td>False</td>\n",
              "      <td>False</td>\n",
              "      <td>True</td>\n",
              "      <td>False</td>\n",
              "      <td>2.397895</td>\n",
              "      <td>-0.581208</td>\n",
              "      <td>5.977803</td>\n",
              "      <td>-0.581208</td>\n",
              "    </tr>\n",
              "    <tr>\n",
              "      <th>5</th>\n",
              "      <td>19.573432</td>\n",
              "      <td>0</td>\n",
              "      <td>19</td>\n",
              "      <td>National</td>\n",
              "      <td>False</td>\n",
              "      <td>True</td>\n",
              "      <td>False</td>\n",
              "      <td>False</td>\n",
              "      <td>2.944439</td>\n",
              "      <td>-0.034664</td>\n",
              "      <td>-24.999333</td>\n",
              "      <td>-0.000000</td>\n",
              "    </tr>\n",
              "    <tr>\n",
              "      <th>6</th>\n",
              "      <td>-40.000000</td>\n",
              "      <td>0</td>\n",
              "      <td>6</td>\n",
              "      <td>National</td>\n",
              "      <td>False</td>\n",
              "      <td>True</td>\n",
              "      <td>False</td>\n",
              "      <td>False</td>\n",
              "      <td>1.791759</td>\n",
              "      <td>-1.187343</td>\n",
              "      <td>-84.572765</td>\n",
              "      <td>-0.000000</td>\n",
              "    </tr>\n",
              "    <tr>\n",
              "      <th>7</th>\n",
              "      <td>29.687851</td>\n",
              "      <td>1</td>\n",
              "      <td>6</td>\n",
              "      <td>National</td>\n",
              "      <td>False</td>\n",
              "      <td>True</td>\n",
              "      <td>False</td>\n",
              "      <td>False</td>\n",
              "      <td>1.791759</td>\n",
              "      <td>-1.187343</td>\n",
              "      <td>-14.884914</td>\n",
              "      <td>-1.187343</td>\n",
              "    </tr>\n",
              "    <tr>\n",
              "      <th>8</th>\n",
              "      <td>56.841548</td>\n",
              "      <td>1</td>\n",
              "      <td>14</td>\n",
              "      <td>National</td>\n",
              "      <td>False</td>\n",
              "      <td>True</td>\n",
              "      <td>False</td>\n",
              "      <td>False</td>\n",
              "      <td>2.639057</td>\n",
              "      <td>-0.340046</td>\n",
              "      <td>12.268783</td>\n",
              "      <td>-0.340046</td>\n",
              "    </tr>\n",
              "    <tr>\n",
              "      <th>9</th>\n",
              "      <td>46.542791</td>\n",
              "      <td>1</td>\n",
              "      <td>13</td>\n",
              "      <td>National</td>\n",
              "      <td>False</td>\n",
              "      <td>True</td>\n",
              "      <td>False</td>\n",
              "      <td>False</td>\n",
              "      <td>2.564949</td>\n",
              "      <td>-0.414154</td>\n",
              "      <td>1.970027</td>\n",
              "      <td>-0.414154</td>\n",
              "    </tr>\n",
              "  </tbody>\n",
              "</table>\n",
              "</div>\n",
              "    <div class=\"colab-df-buttons\">\n",
              "\n",
              "  <div class=\"colab-df-container\">\n",
              "    <button class=\"colab-df-convert\" onclick=\"convertToInteractive('df-c42d4a83-a738-4dc8-b2af-a898e6aecd53')\"\n",
              "            title=\"Convert this dataframe to an interactive table.\"\n",
              "            style=\"display:none;\">\n",
              "\n",
              "  <svg xmlns=\"http://www.w3.org/2000/svg\" height=\"24px\" viewBox=\"0 -960 960 960\">\n",
              "    <path d=\"M120-120v-720h720v720H120Zm60-500h600v-160H180v160Zm220 220h160v-160H400v160Zm0 220h160v-160H400v160ZM180-400h160v-160H180v160Zm440 0h160v-160H620v160ZM180-180h160v-160H180v160Zm440 0h160v-160H620v160Z\"/>\n",
              "  </svg>\n",
              "    </button>\n",
              "\n",
              "  <style>\n",
              "    .colab-df-container {\n",
              "      display:flex;\n",
              "      gap: 12px;\n",
              "    }\n",
              "\n",
              "    .colab-df-convert {\n",
              "      background-color: #E8F0FE;\n",
              "      border: none;\n",
              "      border-radius: 50%;\n",
              "      cursor: pointer;\n",
              "      display: none;\n",
              "      fill: #1967D2;\n",
              "      height: 32px;\n",
              "      padding: 0 0 0 0;\n",
              "      width: 32px;\n",
              "    }\n",
              "\n",
              "    .colab-df-convert:hover {\n",
              "      background-color: #E2EBFA;\n",
              "      box-shadow: 0px 1px 2px rgba(60, 64, 67, 0.3), 0px 1px 3px 1px rgba(60, 64, 67, 0.15);\n",
              "      fill: #174EA6;\n",
              "    }\n",
              "\n",
              "    .colab-df-buttons div {\n",
              "      margin-bottom: 4px;\n",
              "    }\n",
              "\n",
              "    [theme=dark] .colab-df-convert {\n",
              "      background-color: #3B4455;\n",
              "      fill: #D2E3FC;\n",
              "    }\n",
              "\n",
              "    [theme=dark] .colab-df-convert:hover {\n",
              "      background-color: #434B5C;\n",
              "      box-shadow: 0px 1px 3px 1px rgba(0, 0, 0, 0.15);\n",
              "      filter: drop-shadow(0px 1px 2px rgba(0, 0, 0, 0.3));\n",
              "      fill: #FFFFFF;\n",
              "    }\n",
              "  </style>\n",
              "\n",
              "    <script>\n",
              "      const buttonEl =\n",
              "        document.querySelector('#df-c42d4a83-a738-4dc8-b2af-a898e6aecd53 button.colab-df-convert');\n",
              "      buttonEl.style.display =\n",
              "        google.colab.kernel.accessAllowed ? 'block' : 'none';\n",
              "\n",
              "      async function convertToInteractive(key) {\n",
              "        const element = document.querySelector('#df-c42d4a83-a738-4dc8-b2af-a898e6aecd53');\n",
              "        const dataTable =\n",
              "          await google.colab.kernel.invokeFunction('convertToInteractive',\n",
              "                                                    [key], {});\n",
              "        if (!dataTable) return;\n",
              "\n",
              "        const docLinkHtml = 'Like what you see? Visit the ' +\n",
              "          '<a target=\"_blank\" href=https://colab.research.google.com/notebooks/data_table.ipynb>data table notebook</a>'\n",
              "          + ' to learn more about interactive tables.';\n",
              "        element.innerHTML = '';\n",
              "        dataTable['output_type'] = 'display_data';\n",
              "        await google.colab.output.renderOutput(dataTable, element);\n",
              "        const docLink = document.createElement('div');\n",
              "        docLink.innerHTML = docLinkHtml;\n",
              "        element.appendChild(docLink);\n",
              "      }\n",
              "    </script>\n",
              "  </div>\n",
              "\n",
              "\n",
              "<div id=\"df-ab85f2ef-1d1d-46d9-bb9d-4d6bbb41987e\">\n",
              "  <button class=\"colab-df-quickchart\" onclick=\"quickchart('df-ab85f2ef-1d1d-46d9-bb9d-4d6bbb41987e')\"\n",
              "            title=\"Suggest charts\"\n",
              "            style=\"display:none;\">\n",
              "\n",
              "<svg xmlns=\"http://www.w3.org/2000/svg\" height=\"24px\"viewBox=\"0 0 24 24\"\n",
              "     width=\"24px\">\n",
              "    <g>\n",
              "        <path d=\"M19 3H5c-1.1 0-2 .9-2 2v14c0 1.1.9 2 2 2h14c1.1 0 2-.9 2-2V5c0-1.1-.9-2-2-2zM9 17H7v-7h2v7zm4 0h-2V7h2v10zm4 0h-2v-4h2v4z\"/>\n",
              "    </g>\n",
              "</svg>\n",
              "  </button>\n",
              "\n",
              "<style>\n",
              "  .colab-df-quickchart {\n",
              "      --bg-color: #E8F0FE;\n",
              "      --fill-color: #1967D2;\n",
              "      --hover-bg-color: #E2EBFA;\n",
              "      --hover-fill-color: #174EA6;\n",
              "      --disabled-fill-color: #AAA;\n",
              "      --disabled-bg-color: #DDD;\n",
              "  }\n",
              "\n",
              "  [theme=dark] .colab-df-quickchart {\n",
              "      --bg-color: #3B4455;\n",
              "      --fill-color: #D2E3FC;\n",
              "      --hover-bg-color: #434B5C;\n",
              "      --hover-fill-color: #FFFFFF;\n",
              "      --disabled-bg-color: #3B4455;\n",
              "      --disabled-fill-color: #666;\n",
              "  }\n",
              "\n",
              "  .colab-df-quickchart {\n",
              "    background-color: var(--bg-color);\n",
              "    border: none;\n",
              "    border-radius: 50%;\n",
              "    cursor: pointer;\n",
              "    display: none;\n",
              "    fill: var(--fill-color);\n",
              "    height: 32px;\n",
              "    padding: 0;\n",
              "    width: 32px;\n",
              "  }\n",
              "\n",
              "  .colab-df-quickchart:hover {\n",
              "    background-color: var(--hover-bg-color);\n",
              "    box-shadow: 0 1px 2px rgba(60, 64, 67, 0.3), 0 1px 3px 1px rgba(60, 64, 67, 0.15);\n",
              "    fill: var(--button-hover-fill-color);\n",
              "  }\n",
              "\n",
              "  .colab-df-quickchart-complete:disabled,\n",
              "  .colab-df-quickchart-complete:disabled:hover {\n",
              "    background-color: var(--disabled-bg-color);\n",
              "    fill: var(--disabled-fill-color);\n",
              "    box-shadow: none;\n",
              "  }\n",
              "\n",
              "  .colab-df-spinner {\n",
              "    border: 2px solid var(--fill-color);\n",
              "    border-color: transparent;\n",
              "    border-bottom-color: var(--fill-color);\n",
              "    animation:\n",
              "      spin 1s steps(1) infinite;\n",
              "  }\n",
              "\n",
              "  @keyframes spin {\n",
              "    0% {\n",
              "      border-color: transparent;\n",
              "      border-bottom-color: var(--fill-color);\n",
              "      border-left-color: var(--fill-color);\n",
              "    }\n",
              "    20% {\n",
              "      border-color: transparent;\n",
              "      border-left-color: var(--fill-color);\n",
              "      border-top-color: var(--fill-color);\n",
              "    }\n",
              "    30% {\n",
              "      border-color: transparent;\n",
              "      border-left-color: var(--fill-color);\n",
              "      border-top-color: var(--fill-color);\n",
              "      border-right-color: var(--fill-color);\n",
              "    }\n",
              "    40% {\n",
              "      border-color: transparent;\n",
              "      border-right-color: var(--fill-color);\n",
              "      border-top-color: var(--fill-color);\n",
              "    }\n",
              "    60% {\n",
              "      border-color: transparent;\n",
              "      border-right-color: var(--fill-color);\n",
              "    }\n",
              "    80% {\n",
              "      border-color: transparent;\n",
              "      border-right-color: var(--fill-color);\n",
              "      border-bottom-color: var(--fill-color);\n",
              "    }\n",
              "    90% {\n",
              "      border-color: transparent;\n",
              "      border-bottom-color: var(--fill-color);\n",
              "    }\n",
              "  }\n",
              "</style>\n",
              "\n",
              "  <script>\n",
              "    async function quickchart(key) {\n",
              "      const quickchartButtonEl =\n",
              "        document.querySelector('#' + key + ' button');\n",
              "      quickchartButtonEl.disabled = true;  // To prevent multiple clicks.\n",
              "      quickchartButtonEl.classList.add('colab-df-spinner');\n",
              "      try {\n",
              "        const charts = await google.colab.kernel.invokeFunction(\n",
              "            'suggestCharts', [key], {});\n",
              "      } catch (error) {\n",
              "        console.error('Error during call to suggestCharts:', error);\n",
              "      }\n",
              "      quickchartButtonEl.classList.remove('colab-df-spinner');\n",
              "      quickchartButtonEl.classList.add('colab-df-quickchart-complete');\n",
              "    }\n",
              "    (() => {\n",
              "      let quickchartButtonEl =\n",
              "        document.querySelector('#df-ab85f2ef-1d1d-46d9-bb9d-4d6bbb41987e button');\n",
              "      quickchartButtonEl.style.display =\n",
              "        google.colab.kernel.accessAllowed ? 'block' : 'none';\n",
              "    })();\n",
              "  </script>\n",
              "</div>\n",
              "\n",
              "    </div>\n",
              "  </div>\n"
            ],
            "application/vnd.google.colaboratory.intrinsic+json": {
              "type": "dataframe",
              "variable_name": "df",
              "summary": "{\n  \"name\": \"df\",\n  \"rows\": 1014,\n  \"fields\": [\n    {\n      \"column\": \"RoE\",\n      \"properties\": {\n        \"dtype\": \"number\",\n        \"std\": 26.134469999543974,\n        \"min\": -40.0,\n        \"max\": 119.46674394625751,\n        \"num_unique_values\": 1014,\n        \"samples\": [\n          35.701758626329934,\n          31.745552030929744,\n          61.02606542891424\n        ],\n        \"semantic_type\": \"\",\n        \"description\": \"\"\n      }\n    },\n    {\n      \"column\": \"More_10Y\",\n      \"properties\": {\n        \"dtype\": \"number\",\n        \"std\": 0,\n        \"min\": 0,\n        \"max\": 1,\n        \"num_unique_values\": 2,\n        \"samples\": [\n          0,\n          1\n        ],\n        \"semantic_type\": \"\",\n        \"description\": \"\"\n      }\n    },\n    {\n      \"column\": \"Size\",\n      \"properties\": {\n        \"dtype\": \"number\",\n        \"std\": 12,\n        \"min\": 4,\n        \"max\": 99,\n        \"num_unique_values\": 67,\n        \"samples\": [\n          41,\n          17\n        ],\n        \"semantic_type\": \"\",\n        \"description\": \"\"\n      }\n    },\n    {\n      \"column\": \"Region\",\n      \"properties\": {\n        \"dtype\": \"category\",\n        \"num_unique_values\": 4,\n        \"samples\": [\n          \"North_America\",\n          \"EU\"\n        ],\n        \"semantic_type\": \"\",\n        \"description\": \"\"\n      }\n    },\n    {\n      \"column\": \"EU\",\n      \"properties\": {\n        \"dtype\": \"boolean\",\n        \"num_unique_values\": 2,\n        \"samples\": [\n          true,\n          false\n        ],\n        \"semantic_type\": \"\",\n        \"description\": \"\"\n      }\n    },\n    {\n      \"column\": \"National\",\n      \"properties\": {\n        \"dtype\": \"boolean\",\n        \"num_unique_values\": 2,\n        \"samples\": [\n          false,\n          true\n        ],\n        \"semantic_type\": \"\",\n        \"description\": \"\"\n      }\n    },\n    {\n      \"column\": \"North_America\",\n      \"properties\": {\n        \"dtype\": \"boolean\",\n        \"num_unique_values\": 2,\n        \"samples\": [\n          true,\n          false\n        ],\n        \"semantic_type\": \"\",\n        \"description\": \"\"\n      }\n    },\n    {\n      \"column\": \"RoW\",\n      \"properties\": {\n        \"dtype\": \"boolean\",\n        \"num_unique_values\": 2,\n        \"samples\": [\n          true,\n          false\n        ],\n        \"semantic_type\": \"\",\n        \"description\": \"\"\n      }\n    },\n    {\n      \"column\": \"Log_Size\",\n      \"properties\": {\n        \"dtype\": \"number\",\n        \"std\": 0.5126964648128353,\n        \"min\": 1.3862943611198906,\n        \"max\": 4.59511985013459,\n        \"num_unique_values\": 67,\n        \"samples\": [\n          3.713572066704308,\n          2.833213344056216\n        ],\n        \"semantic_type\": \"\",\n        \"description\": \"\"\n      }\n    },\n    {\n      \"column\": \"Log_Size_centered\",\n      \"properties\": {\n        \"dtype\": \"number\",\n        \"std\": 0.5126964648128353,\n        \"min\": -1.5928085657568432,\n        \"max\": 1.616016923257856,\n        \"num_unique_values\": 67,\n        \"samples\": [\n          0.7344691398275742,\n          -0.14588958282051756\n        ],\n        \"semantic_type\": \"\",\n        \"description\": \"\"\n      }\n    },\n    {\n      \"column\": \"RoE_centered\",\n      \"properties\": {\n        \"dtype\": \"number\",\n        \"std\": 26.134469999543974,\n        \"min\": -84.57276471861464,\n        \"max\": 74.89397922764287,\n        \"num_unique_values\": 1014,\n        \"samples\": [\n          -8.871006092284702,\n          -12.827212687684892\n        ],\n        \"semantic_type\": \"\",\n        \"description\": \"\"\n      }\n    },\n    {\n      \"column\": \"Interaction_Log_Size_centered_More_10Y\",\n      \"properties\": {\n        \"dtype\": \"number\",\n        \"std\": 0.36039226478735825,\n        \"min\": -1.5928085657568432,\n        \"max\": 1.4752443693767736,\n        \"num_unique_values\": 58,\n        \"samples\": [\n          0.11193952648158234,\n          -0.3400455972614753\n        ],\n        \"semantic_type\": \"\",\n        \"description\": \"\"\n      }\n    }\n  ]\n}"
            }
          },
          "metadata": {},
          "execution_count": 16
        }
      ],
      "source": [
        "Log_Size_centered = (df['Log_Size']) - np.mean(df['Log_Size'])\n",
        "df[\"Log_Size_centered\"] = Log_Size_centered\n",
        "\n",
        "RoE_centered = (df['RoE']) - np.mean(df['RoE'])\n",
        "df[\"RoE_centered\"] = RoE_centered\n",
        "\n",
        "Interaction_Log_Size_centered_More_10Y = (df['Log_Size_centered'])*(df['More_10Y'])\n",
        "df[\"Interaction_Log_Size_centered_More_10Y\"] = Interaction_Log_Size_centered_More_10Y\n",
        "\n",
        "df.head(n=10)"
      ]
    },
    {
      "cell_type": "markdown",
      "id": "7fdfbd7f",
      "metadata": {
        "id": "7fdfbd7f"
      },
      "source": [
        "Now data are prepared. Let's fit the model"
      ]
    },
    {
      "cell_type": "code",
      "execution_count": 17,
      "id": "7393745c",
      "metadata": {
        "colab": {
          "base_uri": "https://localhost:8080/"
        },
        "id": "7393745c",
        "outputId": "97bb29d0-e57c-4110-f4c1-74998b2f33df"
      },
      "outputs": [
        {
          "output_type": "stream",
          "name": "stdout",
          "text": [
            "                            OLS Regression Results                            \n",
            "==============================================================================\n",
            "Dep. Variable:           RoE_centered   R-squared:                       0.500\n",
            "Model:                            OLS   Adj. R-squared:                  0.497\n",
            "Method:                 Least Squares   F-statistic:                     168.0\n",
            "Date:                Sun, 04 Aug 2024   Prob (F-statistic):          6.75e-148\n",
            "Time:                        11:49:41   Log-Likelihood:                -4395.6\n",
            "No. Observations:                1014   AIC:                             8805.\n",
            "Df Residuals:                    1007   BIC:                             8840.\n",
            "Df Model:                           6                                         \n",
            "Covariance Type:            nonrobust                                         \n",
            "==========================================================================================================\n",
            "                                             coef    std err          t      P>|t|      [0.025      0.975]\n",
            "----------------------------------------------------------------------------------------------------------\n",
            "const                                    -17.1518      1.759     -9.752      0.000     -20.603     -13.700\n",
            "More_10Y                                  32.5370      1.165     27.936      0.000      30.251      34.823\n",
            "Log_Size_centered                          2.5913      1.598      1.622      0.105      -0.545       5.727\n",
            "National                                  -4.8613      1.846     -2.633      0.009      -8.485      -1.238\n",
            "EU                                        10.5433      2.032      5.188      0.000       6.555      14.531\n",
            "North_America                              6.4446      2.379      2.709      0.007       1.776      11.113\n",
            "Interaction_Log_Size_centered_More_10Y    11.0697      2.273      4.870      0.000       6.609      15.530\n",
            "==============================================================================\n",
            "Omnibus:                        1.225   Durbin-Watson:                   2.005\n",
            "Prob(Omnibus):                  0.542   Jarque-Bera (JB):                1.303\n",
            "Skew:                          -0.066   Prob(JB):                        0.521\n",
            "Kurtosis:                       2.884   Cond. No.                         7.80\n",
            "==============================================================================\n",
            "\n",
            "Notes:\n",
            "[1] Standard Errors assume that the covariance matrix of the errors is correctly specified.\n"
          ]
        },
        {
          "output_type": "stream",
          "name": "stderr",
          "text": [
            "<ipython-input-17-44dbb5c23ead>:5: SettingWithCopyWarning: \n",
            "A value is trying to be set on a copy of a slice from a DataFrame.\n",
            "Try using .loc[row_indexer,col_indexer] = value instead\n",
            "\n",
            "See the caveats in the documentation: https://pandas.pydata.org/pandas-docs/stable/user_guide/indexing.html#returning-a-view-versus-a-copy\n",
            "  x[column] = x[column].astype(int)\n",
            "<ipython-input-17-44dbb5c23ead>:5: SettingWithCopyWarning: \n",
            "A value is trying to be set on a copy of a slice from a DataFrame.\n",
            "Try using .loc[row_indexer,col_indexer] = value instead\n",
            "\n",
            "See the caveats in the documentation: https://pandas.pydata.org/pandas-docs/stable/user_guide/indexing.html#returning-a-view-versus-a-copy\n",
            "  x[column] = x[column].astype(int)\n",
            "<ipython-input-17-44dbb5c23ead>:5: SettingWithCopyWarning: \n",
            "A value is trying to be set on a copy of a slice from a DataFrame.\n",
            "Try using .loc[row_indexer,col_indexer] = value instead\n",
            "\n",
            "See the caveats in the documentation: https://pandas.pydata.org/pandas-docs/stable/user_guide/indexing.html#returning-a-view-versus-a-copy\n",
            "  x[column] = x[column].astype(int)\n"
          ]
        }
      ],
      "source": [
        "y = df['RoE_centered']\n",
        "x = df[['More_10Y','Log_Size_centered','National','EU','North_America',\n",
        "        'Interaction_Log_Size_centered_More_10Y']]\n",
        "for column in x.select_dtypes(include='bool'):\n",
        "    x[column] = x[column].astype(int)\n",
        "x = sm.add_constant(x) #  we need to add the intercept term explicitly\n",
        "\n",
        "#fit linear regression model\n",
        "model_2 = sm.OLS(y, x)\n",
        "regr_results_model_2 = model_2.fit()\n",
        "\n",
        "print(regr_results_model_2.summary())\n"
      ]
    },
    {
      "cell_type": "code",
      "execution_count": 18,
      "id": "cb346703",
      "metadata": {
        "colab": {
          "base_uri": "https://localhost:8080/"
        },
        "id": "cb346703",
        "outputId": "65be3f97-abde-4064-b181-0926e423a8a9"
      },
      "outputs": [
        {
          "output_type": "stream",
          "name": "stdout",
          "text": [
            "                                  feature       VIF\n",
            "0                                   const  9.135694\n",
            "1                                More_10Y  1.001500\n",
            "2                       Log_Size_centered  1.980357\n",
            "3                                National  2.514785\n",
            "4                                      EU  2.259679\n",
            "5                           North_America  1.718863\n",
            "6  Interaction_Log_Size_centered_More_10Y  1.979686\n"
          ]
        }
      ],
      "source": [
        "from statsmodels.stats.outliers_influence import variance_inflation_factor\n",
        "\n",
        "vif_data = pd.DataFrame()\n",
        "vif_data[\"feature\"] = x.columns\n",
        "vif_data[\"VIF\"] = [variance_inflation_factor(x.values, i)\n",
        "                          for i in range(len(x.columns))]\n",
        "\n",
        "print(vif_data)"
      ]
    },
    {
      "cell_type": "markdown",
      "id": "ca95dd09",
      "metadata": {
        "id": "ca95dd09"
      },
      "source": [
        "No multicolinearity problems: all VIFs are below 5 (except \"constant\", that is not relevant for the analysis)"
      ]
    },
    {
      "cell_type": "markdown",
      "id": "3c44bbfa",
      "metadata": {
        "id": "3c44bbfa"
      },
      "source": [
        "Let's check heterokedasticity (White test)"
      ]
    },
    {
      "cell_type": "code",
      "execution_count": 19,
      "id": "b566c4b2",
      "metadata": {
        "colab": {
          "base_uri": "https://localhost:8080/"
        },
        "id": "b566c4b2",
        "outputId": "0f175ed4-153f-4365-d690-877d6fd65a4c"
      },
      "outputs": [
        {
          "output_type": "stream",
          "name": "stdout",
          "text": [
            "{'Test Statistic': 12.289802142744104, 'Test Statistic p-value': 0.7822797708648385, 'F-Statistic': 0.718808514875329, 'F-Test p-value': 0.7856025558268565}\n"
          ]
        }
      ],
      "source": [
        "from statsmodels.stats.diagnostic import het_white\n",
        "white_test = het_white(regr_results_model_2.resid,  regr_results_model_2.model.exog)\n",
        "labels = ['Test Statistic', 'Test Statistic p-value', 'F-Statistic', 'F-Test p-value']\n",
        "print(dict(zip(labels, white_test)))"
      ]
    },
    {
      "cell_type": "markdown",
      "id": "fe4e9dff",
      "metadata": {
        "id": "fe4e9dff"
      },
      "source": [
        "We don't have a problem of heteroscedasticity (p-value > 0.05). So, we can continue\n",
        "Let's check the normality of the residuals"
      ]
    },
    {
      "cell_type": "code",
      "execution_count": 20,
      "id": "78a419b8",
      "metadata": {
        "colab": {
          "base_uri": "https://localhost:8080/",
          "height": 452
        },
        "id": "78a419b8",
        "outputId": "f08e84b3-dd06-4d02-ec43-9c9e597779ab"
      },
      "outputs": [
        {
          "output_type": "display_data",
          "data": {
            "text/plain": [
              "<Figure size 640x480 with 1 Axes>"
            ],
            "image/png": "[encoded data removed]"
          },
          "metadata": {}
        }
      ],
      "source": [
        "res = regr_results_model_2.resid # residuals\n",
        "plt.hist(res, bins=20)\n",
        "plt.gca().set(title='Frequency Histogram (residuals)', ylabel='Frequency');"
      ]
    },
    {
      "cell_type": "code",
      "execution_count": 21,
      "id": "43ffb6cd",
      "metadata": {
        "colab": {
          "base_uri": "https://localhost:8080/",
          "height": 489
        },
        "id": "43ffb6cd",
        "outputId": "853a68ca-9fce-4ddd-d023-3dadecb9fe91"
      },
      "outputs": [
        {
          "output_type": "execute_result",
          "data": {
            "text/plain": [
              "ShapiroResult(statistic=0.9982118778547965, pvalue=0.3709747923340958)"
            ]
          },
          "metadata": {},
          "execution_count": 21
        },
        {
          "output_type": "display_data",
          "data": {
            "text/plain": [
              "<Figure size 640x480 with 1 Axes>"
            ],
            "image/png": "[encoded data removed]"
          },
          "metadata": {}
        }
      ],
      "source": [
        "stats.probplot(res, dist=\"norm\", plot=plt)\n",
        "stats.shapiro(res)"
      ]
    },
    {
      "cell_type": "markdown",
      "id": "25b628ec",
      "metadata": {
        "id": "25b628ec"
      },
      "source": [
        "All seems correct: residuals are normal"
      ]
    }
  ],
  "metadata": {
    "kernelspec": {
      "display_name": "Python 3 (ipykernel)",
      "language": "python",
      "name": "python3"
    },
    "language_info": {
      "codemirror_mode": {
        "name": "ipython",
        "version": 3
      },
      "file_extension": ".py",
      "mimetype": "text/x-python",
      "name": "python",
      "nbconvert_exporter": "python",
      "pygments_lexer": "ipython3",
      "version": "3.8.10"
    },
    "colab": {
      "provenance": []
    }
  },
  "nbformat": 4,
  "nbformat_minor": 5
}