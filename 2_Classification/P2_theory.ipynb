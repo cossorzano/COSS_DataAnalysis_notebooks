{
 "cells": [
  {
   "cell_type": "markdown",
   "id": "f4fe7356",
   "metadata": {},
   "source": [
    "# CLASSIFICATION"
   ]
  },
  {
   "cell_type": "code",
   "execution_count": 1,
   "id": "3c6325af",
   "metadata": {},
   "outputs": [],
   "source": [
    "import pandas as pd\n",
    "import scipy.stats\n",
    "import numpy as np\n",
    "import seaborn as sns\n",
    "from matplotlib import pyplot as plt"
   ]
  },
  {
   "cell_type": "markdown",
   "id": "06a557f5",
   "metadata": {},
   "source": [
    "## Part1: Data preparation"
   ]
  },
  {
   "cell_type": "code",
   "execution_count": 2,
   "id": "04d818c2",
   "metadata": {},
   "outputs": [],
   "source": [
    "# Read the data from the file\n",
    "# Data from https://www.kaggle.com/mirichoi0218/insurance\n",
    "df = pd.read_csv('Data_P2_Theory.csv')"
   ]
  },
  {
   "cell_type": "code",
   "execution_count": 3,
   "id": "12211353",
   "metadata": {},
   "outputs": [
    {
     "data": {
      "text/html": [
       "<div>\n",
       "<style scoped>\n",
       "    .dataframe tbody tr th:only-of-type {\n",
       "        vertical-align: middle;\n",
       "    }\n",
       "\n",
       "    .dataframe tbody tr th {\n",
       "        vertical-align: top;\n",
       "    }\n",
       "\n",
       "    .dataframe thead th {\n",
       "        text-align: right;\n",
       "    }\n",
       "</style>\n",
       "<table border=\"1\" class=\"dataframe\">\n",
       "  <thead>\n",
       "    <tr style=\"text-align: right;\">\n",
       "      <th></th>\n",
       "      <th>age</th>\n",
       "      <th>sex</th>\n",
       "      <th>bmi</th>\n",
       "      <th>children</th>\n",
       "      <th>smoker</th>\n",
       "      <th>region</th>\n",
       "      <th>charges</th>\n",
       "    </tr>\n",
       "  </thead>\n",
       "  <tbody>\n",
       "    <tr>\n",
       "      <th>0</th>\n",
       "      <td>19</td>\n",
       "      <td>female</td>\n",
       "      <td>27.900</td>\n",
       "      <td>0</td>\n",
       "      <td>yes</td>\n",
       "      <td>southwest</td>\n",
       "      <td>16884.92400</td>\n",
       "    </tr>\n",
       "    <tr>\n",
       "      <th>1</th>\n",
       "      <td>18</td>\n",
       "      <td>male</td>\n",
       "      <td>33.770</td>\n",
       "      <td>1</td>\n",
       "      <td>no</td>\n",
       "      <td>southeast</td>\n",
       "      <td>1725.55230</td>\n",
       "    </tr>\n",
       "    <tr>\n",
       "      <th>2</th>\n",
       "      <td>28</td>\n",
       "      <td>male</td>\n",
       "      <td>33.000</td>\n",
       "      <td>3</td>\n",
       "      <td>no</td>\n",
       "      <td>southeast</td>\n",
       "      <td>4449.46200</td>\n",
       "    </tr>\n",
       "    <tr>\n",
       "      <th>3</th>\n",
       "      <td>33</td>\n",
       "      <td>male</td>\n",
       "      <td>22.705</td>\n",
       "      <td>0</td>\n",
       "      <td>no</td>\n",
       "      <td>northwest</td>\n",
       "      <td>21984.47061</td>\n",
       "    </tr>\n",
       "    <tr>\n",
       "      <th>4</th>\n",
       "      <td>32</td>\n",
       "      <td>male</td>\n",
       "      <td>28.880</td>\n",
       "      <td>0</td>\n",
       "      <td>no</td>\n",
       "      <td>northwest</td>\n",
       "      <td>3866.85520</td>\n",
       "    </tr>\n",
       "  </tbody>\n",
       "</table>\n",
       "</div>"
      ],
      "text/plain": [
       "   age     sex     bmi  children smoker     region      charges\n",
       "0   19  female  27.900         0    yes  southwest  16884.92400\n",
       "1   18    male  33.770         1     no  southeast   1725.55230\n",
       "2   28    male  33.000         3     no  southeast   4449.46200\n",
       "3   33    male  22.705         0     no  northwest  21984.47061\n",
       "4   32    male  28.880         0     no  northwest   3866.85520"
      ]
     },
     "execution_count": 3,
     "metadata": {},
     "output_type": "execute_result"
    }
   ],
   "source": [
    "# Check the first few lines to see the column names and type of content\n",
    "df.head()"
   ]
  },
  {
   "cell_type": "code",
   "execution_count": 4,
   "id": "602741c4",
   "metadata": {},
   "outputs": [
    {
     "data": {
      "text/plain": [
       "age           int64\n",
       "sex          object\n",
       "bmi         float64\n",
       "children      int64\n",
       "smoker       object\n",
       "region       object\n",
       "charges     float64\n",
       "dtype: object"
      ]
     },
     "execution_count": 4,
     "metadata": {},
     "output_type": "execute_result"
    }
   ],
   "source": [
    "# Let us check the types of the different columns\n",
    "df.dtypes"
   ]
  },
  {
   "cell_type": "code",
   "execution_count": 5,
   "id": "2c9850af",
   "metadata": {},
   "outputs": [],
   "source": [
    "# Let us convert sex, smoker and region to categorical\n",
    "df['sex'] = df['sex'].astype('category')\n",
    "df['smoker'] = df['smoker'].astype('category')\n",
    "df['region'] = df['region'].astype('category')"
   ]
  },
  {
   "cell_type": "markdown",
   "id": "934ed266",
   "metadata": {},
   "source": [
    "## Part 2: Data exploration"
   ]
  },
  {
   "cell_type": "code",
   "execution_count": 6,
   "id": "756bdc8a",
   "metadata": {},
   "outputs": [
    {
     "data": {
      "text/html": [
       "<div>\n",
       "<style scoped>\n",
       "    .dataframe tbody tr th:only-of-type {\n",
       "        vertical-align: middle;\n",
       "    }\n",
       "\n",
       "    .dataframe tbody tr th {\n",
       "        vertical-align: top;\n",
       "    }\n",
       "\n",
       "    .dataframe thead th {\n",
       "        text-align: right;\n",
       "    }\n",
       "</style>\n",
       "<table border=\"1\" class=\"dataframe\">\n",
       "  <thead>\n",
       "    <tr style=\"text-align: right;\">\n",
       "      <th></th>\n",
       "      <th>age</th>\n",
       "      <th>bmi</th>\n",
       "      <th>children</th>\n",
       "      <th>charges</th>\n",
       "    </tr>\n",
       "  </thead>\n",
       "  <tbody>\n",
       "    <tr>\n",
       "      <th>count</th>\n",
       "      <td>1338.000000</td>\n",
       "      <td>1338.000000</td>\n",
       "      <td>1338.000000</td>\n",
       "      <td>1338.000000</td>\n",
       "    </tr>\n",
       "    <tr>\n",
       "      <th>mean</th>\n",
       "      <td>39.207025</td>\n",
       "      <td>30.663397</td>\n",
       "      <td>1.094918</td>\n",
       "      <td>13270.422265</td>\n",
       "    </tr>\n",
       "    <tr>\n",
       "      <th>std</th>\n",
       "      <td>14.049960</td>\n",
       "      <td>6.098187</td>\n",
       "      <td>1.205493</td>\n",
       "      <td>12110.011237</td>\n",
       "    </tr>\n",
       "    <tr>\n",
       "      <th>min</th>\n",
       "      <td>18.000000</td>\n",
       "      <td>15.960000</td>\n",
       "      <td>0.000000</td>\n",
       "      <td>1121.873900</td>\n",
       "    </tr>\n",
       "    <tr>\n",
       "      <th>25%</th>\n",
       "      <td>27.000000</td>\n",
       "      <td>26.296250</td>\n",
       "      <td>0.000000</td>\n",
       "      <td>4740.287150</td>\n",
       "    </tr>\n",
       "    <tr>\n",
       "      <th>50%</th>\n",
       "      <td>39.000000</td>\n",
       "      <td>30.400000</td>\n",
       "      <td>1.000000</td>\n",
       "      <td>9382.033000</td>\n",
       "    </tr>\n",
       "    <tr>\n",
       "      <th>75%</th>\n",
       "      <td>51.000000</td>\n",
       "      <td>34.693750</td>\n",
       "      <td>2.000000</td>\n",
       "      <td>16639.912515</td>\n",
       "    </tr>\n",
       "    <tr>\n",
       "      <th>max</th>\n",
       "      <td>64.000000</td>\n",
       "      <td>53.130000</td>\n",
       "      <td>5.000000</td>\n",
       "      <td>63770.428010</td>\n",
       "    </tr>\n",
       "  </tbody>\n",
       "</table>\n",
       "</div>"
      ],
      "text/plain": [
       "               age          bmi     children       charges\n",
       "count  1338.000000  1338.000000  1338.000000   1338.000000\n",
       "mean     39.207025    30.663397     1.094918  13270.422265\n",
       "std      14.049960     6.098187     1.205493  12110.011237\n",
       "min      18.000000    15.960000     0.000000   1121.873900\n",
       "25%      27.000000    26.296250     0.000000   4740.287150\n",
       "50%      39.000000    30.400000     1.000000   9382.033000\n",
       "75%      51.000000    34.693750     2.000000  16639.912515\n",
       "max      64.000000    53.130000     5.000000  63770.428010"
      ]
     },
     "execution_count": 6,
     "metadata": {},
     "output_type": "execute_result"
    }
   ],
   "source": [
    "# Lets see the summary of the numerical columns\n",
    "df.describe()"
   ]
  },
  {
   "cell_type": "code",
   "execution_count": 7,
   "id": "02b36141",
   "metadata": {},
   "outputs": [
    {
     "data": {
      "image/png": "[encoded data removed]",
      "text/plain": [
       "<Figure size 432x288 with 1 Axes>"
      ]
     },
     "metadata": {
      "needs_background": "light"
     },
     "output_type": "display_data"
    }
   ],
   "source": [
    "# Histogram of charges\n",
    "df.hist(column=\"charges\");"
   ]
  },
  {
   "cell_type": "code",
   "execution_count": 8,
   "id": "80afef81",
   "metadata": {},
   "outputs": [
    {
     "data": {
      "text/plain": [
       "array([<AxesSubplot:title={'center':'female'}>,\n",
       "       <AxesSubplot:title={'center':'male'}>], dtype=object)"
      ]
     },
     "execution_count": 8,
     "metadata": {},
     "output_type": "execute_result"
    },
    {
     "data": {
      "image/png": "[encoded data removed]",
      "text/plain": [
       "<Figure size 432x288 with 2 Axes>"
      ]
     },
     "metadata": {
      "needs_background": "light"
     },
     "output_type": "display_data"
    }
   ],
   "source": [
    "# Check if there are differences by sex\n",
    "df['charges'].hist(by=df['sex'])"
   ]
  },
  {
   "cell_type": "code",
   "execution_count": 9,
   "id": "335fc863",
   "metadata": {},
   "outputs": [
    {
     "data": {
      "text/plain": [
       "male      676\n",
       "female    662\n",
       "Name: sex, dtype: int64"
      ]
     },
     "execution_count": 9,
     "metadata": {},
     "output_type": "execute_result"
    }
   ],
   "source": [
    "# Check the number of data in the different categories\n",
    "df['sex'].value_counts()"
   ]
  },
  {
   "cell_type": "code",
   "execution_count": 10,
   "id": "b56460da",
   "metadata": {},
   "outputs": [
    {
     "data": {
      "text/plain": [
       "no     1064\n",
       "yes     274\n",
       "Name: smoker, dtype: int64"
      ]
     },
     "execution_count": 10,
     "metadata": {},
     "output_type": "execute_result"
    }
   ],
   "source": [
    "df['smoker'].value_counts()"
   ]
  },
  {
   "cell_type": "code",
   "execution_count": 11,
   "id": "9ade84f5",
   "metadata": {},
   "outputs": [
    {
     "data": {
      "text/plain": [
       "southeast    364\n",
       "northwest    325\n",
       "southwest    325\n",
       "northeast    324\n",
       "Name: region, dtype: int64"
      ]
     },
     "execution_count": 11,
     "metadata": {},
     "output_type": "execute_result"
    }
   ],
   "source": [
    "df['region'].value_counts()"
   ]
  },
  {
   "cell_type": "code",
   "execution_count": 12,
   "id": "ae8e09ff",
   "metadata": {},
   "outputs": [
    {
     "name": "stdout",
     "output_type": "stream",
     "text": [
      "smoker   no  yes\n",
      "sex             \n",
      "female  547  115\n",
      "male    517  159\n"
     ]
    }
   ],
   "source": [
    "# Check now some combinations\n",
    "contingency=pd.crosstab(df[\"sex\"],df[\"smoker\"])\n",
    "print(contingency)"
   ]
  },
  {
   "cell_type": "code",
   "execution_count": 13,
   "id": "40dbacf7",
   "metadata": {},
   "outputs": [
    {
     "name": "stdout",
     "output_type": "stream",
     "text": [
      "p-value=0.006548\n"
     ]
    }
   ],
   "source": [
    "# Check if sex and smoking are independent. If the p-value is smaller than 0.05, they are not\n",
    "c, p, dof, expected = scipy.stats.chi2_contingency(contingency)\n",
    "print('p-value=%f'%p)"
   ]
  },
  {
   "cell_type": "markdown",
   "id": "b0a02da4",
   "metadata": {},
   "source": [
    "## Classification\n",
    "\n",
    "We want to determine if there is a relationship between any of these variables and the fact of being in the upper quarter of the insurance price. For doing this, we will construct a new variable with a binary response of being in the upper quarter or not."
   ]
  },
  {
   "cell_type": "code",
   "execution_count": 14,
   "id": "26daa318",
   "metadata": {},
   "outputs": [
    {
     "data": {
      "text/html": [
       "<div>\n",
       "<style scoped>\n",
       "    .dataframe tbody tr th:only-of-type {\n",
       "        vertical-align: middle;\n",
       "    }\n",
       "\n",
       "    .dataframe tbody tr th {\n",
       "        vertical-align: top;\n",
       "    }\n",
       "\n",
       "    .dataframe thead th {\n",
       "        text-align: right;\n",
       "    }\n",
       "</style>\n",
       "<table border=\"1\" class=\"dataframe\">\n",
       "  <thead>\n",
       "    <tr style=\"text-align: right;\">\n",
       "      <th></th>\n",
       "      <th>age</th>\n",
       "      <th>sex</th>\n",
       "      <th>bmi</th>\n",
       "      <th>children</th>\n",
       "      <th>smoker</th>\n",
       "      <th>region</th>\n",
       "      <th>charges</th>\n",
       "      <th>upperQuarter</th>\n",
       "    </tr>\n",
       "  </thead>\n",
       "  <tbody>\n",
       "    <tr>\n",
       "      <th>0</th>\n",
       "      <td>19</td>\n",
       "      <td>female</td>\n",
       "      <td>27.900</td>\n",
       "      <td>0</td>\n",
       "      <td>yes</td>\n",
       "      <td>southwest</td>\n",
       "      <td>16884.92400</td>\n",
       "      <td>True</td>\n",
       "    </tr>\n",
       "    <tr>\n",
       "      <th>1</th>\n",
       "      <td>18</td>\n",
       "      <td>male</td>\n",
       "      <td>33.770</td>\n",
       "      <td>1</td>\n",
       "      <td>no</td>\n",
       "      <td>southeast</td>\n",
       "      <td>1725.55230</td>\n",
       "      <td>False</td>\n",
       "    </tr>\n",
       "    <tr>\n",
       "      <th>2</th>\n",
       "      <td>28</td>\n",
       "      <td>male</td>\n",
       "      <td>33.000</td>\n",
       "      <td>3</td>\n",
       "      <td>no</td>\n",
       "      <td>southeast</td>\n",
       "      <td>4449.46200</td>\n",
       "      <td>False</td>\n",
       "    </tr>\n",
       "    <tr>\n",
       "      <th>3</th>\n",
       "      <td>33</td>\n",
       "      <td>male</td>\n",
       "      <td>22.705</td>\n",
       "      <td>0</td>\n",
       "      <td>no</td>\n",
       "      <td>northwest</td>\n",
       "      <td>21984.47061</td>\n",
       "      <td>True</td>\n",
       "    </tr>\n",
       "    <tr>\n",
       "      <th>4</th>\n",
       "      <td>32</td>\n",
       "      <td>male</td>\n",
       "      <td>28.880</td>\n",
       "      <td>0</td>\n",
       "      <td>no</td>\n",
       "      <td>northwest</td>\n",
       "      <td>3866.85520</td>\n",
       "      <td>False</td>\n",
       "    </tr>\n",
       "  </tbody>\n",
       "</table>\n",
       "</div>"
      ],
      "text/plain": [
       "   age     sex     bmi  children smoker     region      charges  upperQuarter\n",
       "0   19  female  27.900         0    yes  southwest  16884.92400          True\n",
       "1   18    male  33.770         1     no  southeast   1725.55230         False\n",
       "2   28    male  33.000         3     no  southeast   4449.46200         False\n",
       "3   33    male  22.705         0     no  northwest  21984.47061          True\n",
       "4   32    male  28.880         0     no  northwest   3866.85520         False"
      ]
     },
     "execution_count": 14,
     "metadata": {},
     "output_type": "execute_result"
    }
   ],
   "source": [
    "df['upperQuarter']=df['charges']>np.quantile(df['charges'],0.75)\n",
    "df.head()"
   ]
  },
  {
   "cell_type": "code",
   "execution_count": 15,
   "id": "7b2eef7c",
   "metadata": {},
   "outputs": [
    {
     "name": "stdout",
     "output_type": "stream",
     "text": [
      "p-value upperQuarter vs sex=0.021274\n",
      "p-value upperQuarter vs smoker=0.000000\n",
      "p-value upperQuarter vs region=0.013706\n"
     ]
    }
   ],
   "source": [
    "# Check if there is any relationship between being in the upper quarter and the rest of variables\n",
    "c, p, dof, expected = scipy.stats.chi2_contingency(pd.crosstab(df['upperQuarter'],df['sex']))\n",
    "print('p-value upperQuarter vs sex=%f'%p)\n",
    "\n",
    "c, p, dof, expected = scipy.stats.chi2_contingency(pd.crosstab(df['upperQuarter'],df['smoker']))\n",
    "print('p-value upperQuarter vs smoker=%f'%p)\n",
    "\n",
    "c, p, dof, expected = scipy.stats.chi2_contingency(pd.crosstab(df['upperQuarter'],df['region']))\n",
    "print('p-value upperQuarter vs region=%f'%p)"
   ]
  },
  {
   "cell_type": "code",
   "execution_count": 16,
   "id": "7c41b6e6",
   "metadata": {},
   "outputs": [
    {
     "data": {
      "text/plain": [
       "<AxesSubplot:xlabel='upperQuarter', ylabel='age'>"
      ]
     },
     "execution_count": 16,
     "metadata": {},
     "output_type": "execute_result"
    },
    {
     "data": {
      "image/png": "[encoded data removed]",
      "text/plain": [
       "<Figure size 432x288 with 1 Axes>"
      ]
     },
     "metadata": {
      "needs_background": "light"
     },
     "output_type": "display_data"
    }
   ],
   "source": [
    "# Now with the numerical variables\n",
    "sns.boxplot(x='upperQuarter', y='age', data=df)"
   ]
  },
  {
   "cell_type": "code",
   "execution_count": 17,
   "id": "b65a3b63",
   "metadata": {},
   "outputs": [
    {
     "data": {
      "text/plain": [
       "<AxesSubplot:xlabel='upperQuarter', ylabel='bmi'>"
      ]
     },
     "execution_count": 17,
     "metadata": {},
     "output_type": "execute_result"
    },
    {
     "data": {
      "image/png": "[encoded data removed]",
      "text/plain": [
       "<Figure size 432x288 with 1 Axes>"
      ]
     },
     "metadata": {
      "needs_background": "light"
     },
     "output_type": "display_data"
    }
   ],
   "source": [
    "sns.boxplot(x='upperQuarter', y='bmi', data=df)"
   ]
  },
  {
   "cell_type": "code",
   "execution_count": 18,
   "id": "5073db2b",
   "metadata": {},
   "outputs": [
    {
     "data": {
      "text/plain": [
       "<AxesSubplot:xlabel='upperQuarter', ylabel='children'>"
      ]
     },
     "execution_count": 18,
     "metadata": {},
     "output_type": "execute_result"
    },
    {
     "data": {
      "image/png": "[encoded data removed]",
      "text/plain": [
       "<Figure size 432x288 with 1 Axes>"
      ]
     },
     "metadata": {
      "needs_background": "light"
     },
     "output_type": "display_data"
    }
   ],
   "source": [
    "sns.boxplot(x='upperQuarter', y='children', data=df)"
   ]
  },
  {
   "cell_type": "markdown",
   "id": "ebba8b2b",
   "metadata": {},
   "source": [
    "## Classification tree"
   ]
  },
  {
   "cell_type": "code",
   "execution_count": 19,
   "id": "824869e0",
   "metadata": {},
   "outputs": [],
   "source": [
    "from sklearn import tree\n",
    "clf = tree.DecisionTreeClassifier()\n",
    "X = df[['age','sex','bmi','children','smoker','region']]\n",
    "y = df['upperQuarter']"
   ]
  },
  {
   "cell_type": "markdown",
   "id": "e11929d4",
   "metadata": {},
   "source": [
    "A classification is a problem of the form y=f(X) where y is categorical and X is whatever"
   ]
  },
  {
   "cell_type": "code",
   "execution_count": 20,
   "id": "36dc6e2d",
   "metadata": {},
   "outputs": [
    {
     "data": {
      "text/html": [
       "<div>\n",
       "<style scoped>\n",
       "    .dataframe tbody tr th:only-of-type {\n",
       "        vertical-align: middle;\n",
       "    }\n",
       "\n",
       "    .dataframe tbody tr th {\n",
       "        vertical-align: top;\n",
       "    }\n",
       "\n",
       "    .dataframe thead th {\n",
       "        text-align: right;\n",
       "    }\n",
       "</style>\n",
       "<table border=\"1\" class=\"dataframe\">\n",
       "  <thead>\n",
       "    <tr style=\"text-align: right;\">\n",
       "      <th></th>\n",
       "      <th>age</th>\n",
       "      <th>sex</th>\n",
       "      <th>bmi</th>\n",
       "      <th>children</th>\n",
       "      <th>smoker</th>\n",
       "      <th>region</th>\n",
       "    </tr>\n",
       "  </thead>\n",
       "  <tbody>\n",
       "    <tr>\n",
       "      <th>0</th>\n",
       "      <td>19</td>\n",
       "      <td>female</td>\n",
       "      <td>27.900</td>\n",
       "      <td>0</td>\n",
       "      <td>yes</td>\n",
       "      <td>southwest</td>\n",
       "    </tr>\n",
       "    <tr>\n",
       "      <th>1</th>\n",
       "      <td>18</td>\n",
       "      <td>male</td>\n",
       "      <td>33.770</td>\n",
       "      <td>1</td>\n",
       "      <td>no</td>\n",
       "      <td>southeast</td>\n",
       "    </tr>\n",
       "    <tr>\n",
       "      <th>2</th>\n",
       "      <td>28</td>\n",
       "      <td>male</td>\n",
       "      <td>33.000</td>\n",
       "      <td>3</td>\n",
       "      <td>no</td>\n",
       "      <td>southeast</td>\n",
       "    </tr>\n",
       "    <tr>\n",
       "      <th>3</th>\n",
       "      <td>33</td>\n",
       "      <td>male</td>\n",
       "      <td>22.705</td>\n",
       "      <td>0</td>\n",
       "      <td>no</td>\n",
       "      <td>northwest</td>\n",
       "    </tr>\n",
       "    <tr>\n",
       "      <th>4</th>\n",
       "      <td>32</td>\n",
       "      <td>male</td>\n",
       "      <td>28.880</td>\n",
       "      <td>0</td>\n",
       "      <td>no</td>\n",
       "      <td>northwest</td>\n",
       "    </tr>\n",
       "  </tbody>\n",
       "</table>\n",
       "</div>"
      ],
      "text/plain": [
       "   age     sex     bmi  children smoker     region\n",
       "0   19  female  27.900         0    yes  southwest\n",
       "1   18    male  33.770         1     no  southeast\n",
       "2   28    male  33.000         3     no  southeast\n",
       "3   33    male  22.705         0     no  northwest\n",
       "4   32    male  28.880         0     no  northwest"
      ]
     },
     "execution_count": 20,
     "metadata": {},
     "output_type": "execute_result"
    }
   ],
   "source": [
    "X.head()"
   ]
  },
  {
   "cell_type": "code",
   "execution_count": 21,
   "id": "426110dc",
   "metadata": {},
   "outputs": [
    {
     "data": {
      "text/plain": [
       "0     True\n",
       "1    False\n",
       "2    False\n",
       "3     True\n",
       "4    False\n",
       "Name: upperQuarter, dtype: bool"
      ]
     },
     "execution_count": 21,
     "metadata": {},
     "output_type": "execute_result"
    }
   ],
   "source": [
    "y.head()"
   ]
  },
  {
   "cell_type": "markdown",
   "id": "3d0ebe31",
   "metadata": {},
   "source": [
    "The implementation of the classification tree in sklearn only deals with numerical variables, then we need to convert categorical to numerical variables."
   ]
  },
  {
   "cell_type": "code",
   "execution_count": 22,
   "id": "e62f8975",
   "metadata": {},
   "outputs": [
    {
     "data": {
      "text/html": [
       "<div>\n",
       "<style scoped>\n",
       "    .dataframe tbody tr th:only-of-type {\n",
       "        vertical-align: middle;\n",
       "    }\n",
       "\n",
       "    .dataframe tbody tr th {\n",
       "        vertical-align: top;\n",
       "    }\n",
       "\n",
       "    .dataframe thead th {\n",
       "        text-align: right;\n",
       "    }\n",
       "</style>\n",
       "<table border=\"1\" class=\"dataframe\">\n",
       "  <thead>\n",
       "    <tr style=\"text-align: right;\">\n",
       "      <th></th>\n",
       "      <th>age</th>\n",
       "      <th>bmi</th>\n",
       "      <th>children</th>\n",
       "      <th>sex_female</th>\n",
       "      <th>sex_male</th>\n",
       "      <th>smoker_no</th>\n",
       "      <th>smoker_yes</th>\n",
       "      <th>region_northeast</th>\n",
       "      <th>region_northwest</th>\n",
       "      <th>region_southeast</th>\n",
       "      <th>region_southwest</th>\n",
       "    </tr>\n",
       "  </thead>\n",
       "  <tbody>\n",
       "    <tr>\n",
       "      <th>0</th>\n",
       "      <td>19</td>\n",
       "      <td>27.900</td>\n",
       "      <td>0</td>\n",
       "      <td>1</td>\n",
       "      <td>0</td>\n",
       "      <td>0</td>\n",
       "      <td>1</td>\n",
       "      <td>0</td>\n",
       "      <td>0</td>\n",
       "      <td>0</td>\n",
       "      <td>1</td>\n",
       "    </tr>\n",
       "    <tr>\n",
       "      <th>1</th>\n",
       "      <td>18</td>\n",
       "      <td>33.770</td>\n",
       "      <td>1</td>\n",
       "      <td>0</td>\n",
       "      <td>1</td>\n",
       "      <td>1</td>\n",
       "      <td>0</td>\n",
       "      <td>0</td>\n",
       "      <td>0</td>\n",
       "      <td>1</td>\n",
       "      <td>0</td>\n",
       "    </tr>\n",
       "    <tr>\n",
       "      <th>2</th>\n",
       "      <td>28</td>\n",
       "      <td>33.000</td>\n",
       "      <td>3</td>\n",
       "      <td>0</td>\n",
       "      <td>1</td>\n",
       "      <td>1</td>\n",
       "      <td>0</td>\n",
       "      <td>0</td>\n",
       "      <td>0</td>\n",
       "      <td>1</td>\n",
       "      <td>0</td>\n",
       "    </tr>\n",
       "    <tr>\n",
       "      <th>3</th>\n",
       "      <td>33</td>\n",
       "      <td>22.705</td>\n",
       "      <td>0</td>\n",
       "      <td>0</td>\n",
       "      <td>1</td>\n",
       "      <td>1</td>\n",
       "      <td>0</td>\n",
       "      <td>0</td>\n",
       "      <td>1</td>\n",
       "      <td>0</td>\n",
       "      <td>0</td>\n",
       "    </tr>\n",
       "    <tr>\n",
       "      <th>4</th>\n",
       "      <td>32</td>\n",
       "      <td>28.880</td>\n",
       "      <td>0</td>\n",
       "      <td>0</td>\n",
       "      <td>1</td>\n",
       "      <td>1</td>\n",
       "      <td>0</td>\n",
       "      <td>0</td>\n",
       "      <td>1</td>\n",
       "      <td>0</td>\n",
       "      <td>0</td>\n",
       "    </tr>\n",
       "  </tbody>\n",
       "</table>\n",
       "</div>"
      ],
      "text/plain": [
       "   age     bmi  children  sex_female  sex_male  smoker_no  smoker_yes  \\\n",
       "0   19  27.900         0           1         0          0           1   \n",
       "1   18  33.770         1           0         1          1           0   \n",
       "2   28  33.000         3           0         1          1           0   \n",
       "3   33  22.705         0           0         1          1           0   \n",
       "4   32  28.880         0           0         1          1           0   \n",
       "\n",
       "   region_northeast  region_northwest  region_southeast  region_southwest  \n",
       "0                 0                 0                 0                 1  \n",
       "1                 0                 0                 1                 0  \n",
       "2                 0                 0                 1                 0  \n",
       "3                 0                 1                 0                 0  \n",
       "4                 0                 1                 0                 0  "
      ]
     },
     "execution_count": 22,
     "metadata": {},
     "output_type": "execute_result"
    }
   ],
   "source": [
    "X=pd.get_dummies(X)\n",
    "X.head()"
   ]
  },
  {
   "cell_type": "code",
   "execution_count": 27,
   "id": "609155e5",
   "metadata": {},
   "outputs": [],
   "source": [
    "clf = clf.fit(X,y)\n",
    "df_feature_names = list(X.columns)\n",
    "df_target_names = [str(s) for s in y.unique()]"
   ]
  },
  {
   "cell_type": "code",
   "execution_count": 29,
   "id": "c844c6ff",
   "metadata": {},
   "outputs": [
    {
     "name": "stdout",
     "output_type": "stream",
     "text": [
      "Accuracy: 0.9992526158445441\n"
     ]
    }
   ],
   "source": [
    "# Let's evaluate the tree\n",
    "from sklearn import metrics\n",
    "y_pred = clf.predict(X)\n",
    "print(\"Accuracy:\",metrics.accuracy_score(y, y_pred))"
   ]
  },
  {
   "cell_type": "markdown",
   "id": "4d5cb412",
   "metadata": {},
   "source": [
    "Let's visualize the tree"
   ]
  },
  {
   "cell_type": "code",
   "execution_count": 33,
   "id": "40a5ffd0",
   "metadata": {},
   "outputs": [
    {
     "name": "stdout",
     "output_type": "stream",
     "text": [
      "|--- smoker_no <= 0.50\n",
      "|   |--- bmi <= 22.51\n",
      "|   |   |--- age <= 28.00\n",
      "|   |   |   |--- region_southwest <= 0.50\n",
      "|   |   |   |   |--- class: False\n",
      "|   |   |   |--- region_southwest >  0.50\n",
      "|   |   |   |   |--- age <= 19.50\n",
      "|   |   |   |   |   |--- class: False\n",
      "|   |   |   |   |--- age >  19.50\n",
      "|   |   |   |   |   |--- class: True\n",
      "|   |   |--- age >  28.00\n",
      "|   |   |   |--- children <= 0.50\n",
      "|   |   |   |   |--- age <= 45.50\n",
      "|   |   |   |   |   |--- class: False\n",
      "|   |   |   |   |--- age >  45.50\n",
      "|   |   |   |   |   |--- class: True\n",
      "|   |   |   |--- children >  0.50\n",
      "|   |   |   |   |--- class: True\n",
      "|   |--- bmi >  22.51\n",
      "|   |   |--- bmi <= 27.72\n",
      "|   |   |   |--- age <= 29.50\n",
      "|   |   |   |   |--- children <= 0.50\n",
      "|   |   |   |   |   |--- region_southeast <= 0.50\n",
      "|   |   |   |   |   |   |--- class: False\n",
      "|   |   |   |   |   |--- region_southeast >  0.50\n",
      "|   |   |   |   |   |   |--- age <= 26.50\n",
      "|   |   |   |   |   |   |   |--- class: True\n",
      "|   |   |   |   |   |   |--- age >  26.50\n",
      "|   |   |   |   |   |   |   |--- class: False\n",
      "|   |   |   |   |--- children >  0.50\n",
      "|   |   |   |   |   |--- region_northwest <= 0.50\n",
      "|   |   |   |   |   |   |--- class: True\n",
      "|   |   |   |   |   |--- region_northwest >  0.50\n",
      "|   |   |   |   |   |   |--- class: False\n",
      "|   |   |   |--- age >  29.50\n",
      "|   |   |   |   |--- class: True\n",
      "|   |   |--- bmi >  27.72\n",
      "|   |   |   |--- class: True\n",
      "|--- smoker_no >  0.50\n",
      "|   |--- age <= 46.50\n",
      "|   |   |--- region_northeast <= 0.50\n",
      "|   |   |   |--- bmi <= 27.23\n",
      "|   |   |   |   |--- bmi <= 23.65\n",
      "|   |   |   |   |   |--- bmi <= 23.62\n",
      "|   |   |   |   |   |   |--- bmi <= 22.66\n",
      "|   |   |   |   |   |   |   |--- bmi <= 19.10\n",
      "|   |   |   |   |   |   |   |   |--- bmi <= 18.66\n",
      "|   |   |   |   |   |   |   |   |   |--- class: False\n",
      "|   |   |   |   |   |   |   |   |--- bmi >  18.66\n",
      "|   |   |   |   |   |   |   |   |   |--- class: True\n",
      "|   |   |   |   |   |   |   |--- bmi >  19.10\n",
      "|   |   |   |   |   |   |   |   |--- class: False\n",
      "|   |   |   |   |   |   |--- bmi >  22.66\n",
      "|   |   |   |   |   |   |   |--- bmi <= 22.90\n",
      "|   |   |   |   |   |   |   |   |--- class: True\n",
      "|   |   |   |   |   |   |   |--- bmi >  22.90\n",
      "|   |   |   |   |   |   |   |   |--- sex_male <= 0.50\n",
      "|   |   |   |   |   |   |   |   |   |--- children <= 0.50\n",
      "|   |   |   |   |   |   |   |   |   |   |--- class: True\n",
      "|   |   |   |   |   |   |   |   |   |--- children >  0.50\n",
      "|   |   |   |   |   |   |   |   |   |   |--- class: False\n",
      "|   |   |   |   |   |   |   |   |--- sex_male >  0.50\n",
      "|   |   |   |   |   |   |   |   |   |--- class: False\n",
      "|   |   |   |   |   |--- bmi >  23.62\n",
      "|   |   |   |   |   |   |--- class: True\n",
      "|   |   |   |   |--- bmi >  23.65\n",
      "|   |   |   |   |   |--- class: False\n",
      "|   |   |   |--- bmi >  27.23\n",
      "|   |   |   |   |--- bmi <= 27.67\n",
      "|   |   |   |   |   |--- bmi <= 27.31\n",
      "|   |   |   |   |   |   |--- class: True\n",
      "|   |   |   |   |   |--- bmi >  27.31\n",
      "|   |   |   |   |   |   |--- age <= 44.50\n",
      "|   |   |   |   |   |   |   |--- age <= 30.50\n",
      "|   |   |   |   |   |   |   |   |--- sex_male <= 0.50\n",
      "|   |   |   |   |   |   |   |   |   |--- class: True\n",
      "|   |   |   |   |   |   |   |   |--- sex_male >  0.50\n",
      "|   |   |   |   |   |   |   |   |   |--- class: False\n",
      "|   |   |   |   |   |   |   |--- age >  30.50\n",
      "|   |   |   |   |   |   |   |   |--- class: False\n",
      "|   |   |   |   |   |   |--- age >  44.50\n",
      "|   |   |   |   |   |   |   |--- bmi <= 27.55\n",
      "|   |   |   |   |   |   |   |   |--- class: False\n",
      "|   |   |   |   |   |   |   |--- bmi >  27.55\n",
      "|   |   |   |   |   |   |   |   |--- class: True\n",
      "|   |   |   |   |--- bmi >  27.67\n",
      "|   |   |   |   |   |--- region_northwest <= 0.50\n",
      "|   |   |   |   |   |   |--- sex_male <= 0.50\n",
      "|   |   |   |   |   |   |   |--- age <= 44.50\n",
      "|   |   |   |   |   |   |   |   |--- age <= 25.50\n",
      "|   |   |   |   |   |   |   |   |   |--- age <= 24.50\n",
      "|   |   |   |   |   |   |   |   |   |   |--- class: False\n",
      "|   |   |   |   |   |   |   |   |   |--- age >  24.50\n",
      "|   |   |   |   |   |   |   |   |   |   |--- bmi <= 33.11\n",
      "|   |   |   |   |   |   |   |   |   |   |   |--- truncated branch of depth 2\n",
      "|   |   |   |   |   |   |   |   |   |   |--- bmi >  33.11\n",
      "|   |   |   |   |   |   |   |   |   |   |   |--- class: False\n",
      "|   |   |   |   |   |   |   |   |--- age >  25.50\n",
      "|   |   |   |   |   |   |   |   |   |--- class: False\n",
      "|   |   |   |   |   |   |   |--- age >  44.50\n",
      "|   |   |   |   |   |   |   |   |--- children <= 0.50\n",
      "|   |   |   |   |   |   |   |   |   |--- bmi <= 32.44\n",
      "|   |   |   |   |   |   |   |   |   |   |--- class: True\n",
      "|   |   |   |   |   |   |   |   |   |--- bmi >  32.44\n",
      "|   |   |   |   |   |   |   |   |   |   |--- class: False\n",
      "|   |   |   |   |   |   |   |   |--- children >  0.50\n",
      "|   |   |   |   |   |   |   |   |   |--- class: False\n",
      "|   |   |   |   |   |   |--- sex_male >  0.50\n",
      "|   |   |   |   |   |   |   |--- age <= 36.50\n",
      "|   |   |   |   |   |   |   |   |--- age <= 20.50\n",
      "|   |   |   |   |   |   |   |   |   |--- age <= 18.50\n",
      "|   |   |   |   |   |   |   |   |   |   |--- class: False\n",
      "|   |   |   |   |   |   |   |   |   |--- age >  18.50\n",
      "|   |   |   |   |   |   |   |   |   |   |--- bmi <= 33.05\n",
      "|   |   |   |   |   |   |   |   |   |   |   |--- class: False\n",
      "|   |   |   |   |   |   |   |   |   |   |--- bmi >  33.05\n",
      "|   |   |   |   |   |   |   |   |   |   |   |--- truncated branch of depth 3\n",
      "|   |   |   |   |   |   |   |   |--- age >  20.50\n",
      "|   |   |   |   |   |   |   |   |   |--- bmi <= 38.72\n",
      "|   |   |   |   |   |   |   |   |   |   |--- class: False\n",
      "|   |   |   |   |   |   |   |   |   |--- bmi >  38.72\n",
      "|   |   |   |   |   |   |   |   |   |   |--- bmi <= 38.89\n",
      "|   |   |   |   |   |   |   |   |   |   |   |--- class: True\n",
      "|   |   |   |   |   |   |   |   |   |   |--- bmi >  38.89\n",
      "|   |   |   |   |   |   |   |   |   |   |   |--- class: False\n",
      "|   |   |   |   |   |   |   |--- age >  36.50\n",
      "|   |   |   |   |   |   |   |   |--- age <= 37.50\n",
      "|   |   |   |   |   |   |   |   |   |--- bmi <= 30.30\n",
      "|   |   |   |   |   |   |   |   |   |   |--- class: True\n",
      "|   |   |   |   |   |   |   |   |   |--- bmi >  30.30\n",
      "|   |   |   |   |   |   |   |   |   |   |--- region_southwest <= 0.50\n",
      "|   |   |   |   |   |   |   |   |   |   |   |--- truncated branch of depth 2\n",
      "|   |   |   |   |   |   |   |   |   |   |--- region_southwest >  0.50\n",
      "|   |   |   |   |   |   |   |   |   |   |   |--- class: False\n",
      "|   |   |   |   |   |   |   |   |--- age >  37.50\n",
      "|   |   |   |   |   |   |   |   |   |--- region_southeast <= 0.50\n",
      "|   |   |   |   |   |   |   |   |   |   |--- class: False\n",
      "|   |   |   |   |   |   |   |   |   |--- region_southeast >  0.50\n",
      "|   |   |   |   |   |   |   |   |   |   |--- bmi <= 35.64\n",
      "|   |   |   |   |   |   |   |   |   |   |   |--- truncated branch of depth 4\n",
      "|   |   |   |   |   |   |   |   |   |   |--- bmi >  35.64\n",
      "|   |   |   |   |   |   |   |   |   |   |   |--- class: False\n",
      "|   |   |   |   |   |--- region_northwest >  0.50\n",
      "|   |   |   |   |   |   |--- age <= 29.50\n",
      "|   |   |   |   |   |   |   |--- children <= 1.50\n",
      "|   |   |   |   |   |   |   |   |--- age <= 27.50\n",
      "|   |   |   |   |   |   |   |   |   |--- class: False\n",
      "|   |   |   |   |   |   |   |   |--- age >  27.50\n",
      "|   |   |   |   |   |   |   |   |   |--- bmi <= 32.35\n",
      "|   |   |   |   |   |   |   |   |   |   |--- class: False\n",
      "|   |   |   |   |   |   |   |   |   |--- bmi >  32.35\n",
      "|   |   |   |   |   |   |   |   |   |   |--- sex_female <= 0.50\n",
      "|   |   |   |   |   |   |   |   |   |   |   |--- class: True\n",
      "|   |   |   |   |   |   |   |   |   |   |--- sex_female >  0.50\n",
      "|   |   |   |   |   |   |   |   |   |   |   |--- class: False\n",
      "|   |   |   |   |   |   |   |--- children >  1.50\n",
      "|   |   |   |   |   |   |   |   |--- age <= 20.00\n",
      "|   |   |   |   |   |   |   |   |   |--- class: True\n",
      "|   |   |   |   |   |   |   |   |--- age >  20.00\n",
      "|   |   |   |   |   |   |   |   |   |--- bmi <= 33.49\n",
      "|   |   |   |   |   |   |   |   |   |   |--- age <= 22.50\n",
      "|   |   |   |   |   |   |   |   |   |   |   |--- class: True\n",
      "|   |   |   |   |   |   |   |   |   |   |--- age >  22.50\n",
      "|   |   |   |   |   |   |   |   |   |   |   |--- truncated branch of depth 4\n",
      "|   |   |   |   |   |   |   |   |   |--- bmi >  33.49\n",
      "|   |   |   |   |   |   |   |   |   |   |--- class: False\n",
      "|   |   |   |   |   |   |--- age >  29.50\n",
      "|   |   |   |   |   |   |   |--- bmi <= 40.99\n",
      "|   |   |   |   |   |   |   |   |--- class: False\n",
      "|   |   |   |   |   |   |   |--- bmi >  40.99\n",
      "|   |   |   |   |   |   |   |   |--- bmi <= 42.18\n",
      "|   |   |   |   |   |   |   |   |   |--- class: True\n",
      "|   |   |   |   |   |   |   |   |--- bmi >  42.18\n",
      "|   |   |   |   |   |   |   |   |   |--- class: False\n",
      "|   |   |--- region_northeast >  0.50\n",
      "|   |   |   |--- children <= 3.50\n",
      "|   |   |   |   |--- children <= 0.50\n",
      "|   |   |   |   |   |--- bmi <= 40.90\n",
      "|   |   |   |   |   |   |--- age <= 19.00\n",
      "|   |   |   |   |   |   |   |--- bmi <= 29.64\n",
      "|   |   |   |   |   |   |   |   |--- class: False\n",
      "|   |   |   |   |   |   |   |--- bmi >  29.64\n",
      "|   |   |   |   |   |   |   |   |--- bmi <= 30.21\n",
      "|   |   |   |   |   |   |   |   |   |--- class: False\n",
      "|   |   |   |   |   |   |   |   |--- bmi >  30.21\n",
      "|   |   |   |   |   |   |   |   |   |--- class: False\n",
      "|   |   |   |   |   |   |--- age >  19.00\n",
      "|   |   |   |   |   |   |   |--- class: False\n",
      "|   |   |   |   |   |--- bmi >  40.90\n",
      "|   |   |   |   |   |   |--- age <= 32.00\n",
      "|   |   |   |   |   |   |   |--- class: True\n",
      "|   |   |   |   |   |   |--- age >  32.00\n",
      "|   |   |   |   |   |   |   |--- class: False\n",
      "|   |   |   |   |--- children >  0.50\n",
      "|   |   |   |   |   |--- age <= 29.50\n",
      "|   |   |   |   |   |   |--- sex_female <= 0.50\n",
      "|   |   |   |   |   |   |   |--- age <= 28.50\n",
      "|   |   |   |   |   |   |   |   |--- bmi <= 25.37\n",
      "|   |   |   |   |   |   |   |   |   |--- bmi <= 23.75\n",
      "|   |   |   |   |   |   |   |   |   |   |--- class: False\n",
      "|   |   |   |   |   |   |   |   |   |--- bmi >  23.75\n",
      "|   |   |   |   |   |   |   |   |   |   |--- class: True\n",
      "|   |   |   |   |   |   |   |   |--- bmi >  25.37\n",
      "|   |   |   |   |   |   |   |   |   |--- class: False\n",
      "|   |   |   |   |   |   |   |--- age >  28.50\n",
      "|   |   |   |   |   |   |   |   |--- bmi <= 29.31\n",
      "|   |   |   |   |   |   |   |   |   |--- class: False\n",
      "|   |   |   |   |   |   |   |   |--- bmi >  29.31\n",
      "|   |   |   |   |   |   |   |   |   |--- class: True\n",
      "|   |   |   |   |   |   |--- sex_female >  0.50\n",
      "|   |   |   |   |   |   |   |--- age <= 22.50\n",
      "|   |   |   |   |   |   |   |   |--- class: False\n",
      "|   |   |   |   |   |   |   |--- age >  22.50\n",
      "|   |   |   |   |   |   |   |   |--- bmi <= 26.60\n",
      "|   |   |   |   |   |   |   |   |   |--- class: True\n",
      "|   |   |   |   |   |   |   |   |--- bmi >  26.60\n",
      "|   |   |   |   |   |   |   |   |   |--- bmi <= 29.97\n",
      "|   |   |   |   |   |   |   |   |   |   |--- class: False\n",
      "|   |   |   |   |   |   |   |   |   |--- bmi >  29.97\n",
      "|   |   |   |   |   |   |   |   |   |   |--- class: True\n",
      "|   |   |   |   |   |--- age >  29.50\n",
      "|   |   |   |   |   |   |--- children <= 1.50\n",
      "|   |   |   |   |   |   |   |--- class: False\n",
      "|   |   |   |   |   |   |--- children >  1.50\n",
      "|   |   |   |   |   |   |   |--- children <= 2.50\n",
      "|   |   |   |   |   |   |   |   |--- bmi <= 34.01\n",
      "|   |   |   |   |   |   |   |   |   |--- age <= 34.50\n",
      "|   |   |   |   |   |   |   |   |   |   |--- bmi <= 25.03\n",
      "|   |   |   |   |   |   |   |   |   |   |   |--- class: True\n",
      "|   |   |   |   |   |   |   |   |   |   |--- bmi >  25.03\n",
      "|   |   |   |   |   |   |   |   |   |   |   |--- class: False\n",
      "|   |   |   |   |   |   |   |   |   |--- age >  34.50\n",
      "|   |   |   |   |   |   |   |   |   |   |--- bmi <= 28.78\n",
      "|   |   |   |   |   |   |   |   |   |   |   |--- class: False\n",
      "|   |   |   |   |   |   |   |   |   |   |--- bmi >  28.78\n",
      "|   |   |   |   |   |   |   |   |   |   |   |--- truncated branch of depth 2\n",
      "|   |   |   |   |   |   |   |   |--- bmi >  34.01\n",
      "|   |   |   |   |   |   |   |   |   |--- bmi <= 43.08\n",
      "|   |   |   |   |   |   |   |   |   |   |--- class: True\n",
      "|   |   |   |   |   |   |   |   |   |--- bmi >  43.08\n",
      "|   |   |   |   |   |   |   |   |   |   |--- class: False\n",
      "|   |   |   |   |   |   |   |--- children >  2.50\n",
      "|   |   |   |   |   |   |   |   |--- class: False\n",
      "|   |   |   |--- children >  3.50\n",
      "|   |   |   |   |--- children <= 4.50\n",
      "|   |   |   |   |   |--- age <= 21.00\n",
      "|   |   |   |   |   |   |--- class: False\n",
      "|   |   |   |   |   |--- age >  21.00\n",
      "|   |   |   |   |   |   |--- class: True\n",
      "|   |   |   |   |--- children >  4.50\n",
      "|   |   |   |   |   |--- class: False\n",
      "|   |--- age >  46.50\n",
      "|   |   |--- bmi <= 23.86\n",
      "|   |   |   |--- class: False\n",
      "|   |   |--- bmi >  23.86\n",
      "|   |   |   |--- bmi <= 24.01\n",
      "|   |   |   |   |--- class: True\n",
      "|   |   |   |--- bmi >  24.01\n",
      "|   |   |   |   |--- bmi <= 27.41\n",
      "|   |   |   |   |   |--- children <= 0.50\n",
      "|   |   |   |   |   |   |--- bmi <= 27.28\n",
      "|   |   |   |   |   |   |   |--- region_southeast <= 0.50\n",
      "|   |   |   |   |   |   |   |   |--- age <= 59.50\n",
      "|   |   |   |   |   |   |   |   |   |--- class: False\n",
      "|   |   |   |   |   |   |   |   |--- age >  59.50\n",
      "|   |   |   |   |   |   |   |   |   |--- age <= 61.00\n",
      "|   |   |   |   |   |   |   |   |   |   |--- bmi <= 25.08\n",
      "|   |   |   |   |   |   |   |   |   |   |   |--- class: False\n",
      "|   |   |   |   |   |   |   |   |   |   |--- bmi >  25.08\n",
      "|   |   |   |   |   |   |   |   |   |   |   |--- class: True\n",
      "|   |   |   |   |   |   |   |   |   |--- age >  61.00\n",
      "|   |   |   |   |   |   |   |   |   |   |--- class: False\n",
      "|   |   |   |   |   |   |   |--- region_southeast >  0.50\n",
      "|   |   |   |   |   |   |   |   |--- bmi <= 25.19\n",
      "|   |   |   |   |   |   |   |   |   |--- bmi <= 24.70\n",
      "|   |   |   |   |   |   |   |   |   |   |--- class: False\n",
      "|   |   |   |   |   |   |   |   |   |--- bmi >  24.70\n",
      "|   |   |   |   |   |   |   |   |   |   |--- class: True\n",
      "|   |   |   |   |   |   |   |   |--- bmi >  25.19\n",
      "|   |   |   |   |   |   |   |   |   |--- class: False\n",
      "|   |   |   |   |   |   |--- bmi >  27.28\n",
      "|   |   |   |   |   |   |   |--- class: True\n",
      "|   |   |   |   |   |--- children >  0.50\n",
      "|   |   |   |   |   |   |--- bmi <= 24.21\n",
      "|   |   |   |   |   |   |   |--- class: True\n",
      "|   |   |   |   |   |   |--- bmi >  24.21\n",
      "|   |   |   |   |   |   |   |--- sex_female <= 0.50\n",
      "|   |   |   |   |   |   |   |   |--- region_southeast <= 0.50\n",
      "|   |   |   |   |   |   |   |   |   |--- bmi <= 25.53\n",
      "|   |   |   |   |   |   |   |   |   |   |--- bmi <= 24.56\n",
      "|   |   |   |   |   |   |   |   |   |   |   |--- class: False\n",
      "|   |   |   |   |   |   |   |   |   |   |--- bmi >  24.56\n",
      "|   |   |   |   |   |   |   |   |   |   |   |--- truncated branch of depth 4\n",
      "|   |   |   |   |   |   |   |   |   |--- bmi >  25.53\n",
      "|   |   |   |   |   |   |   |   |   |   |--- class: False\n",
      "|   |   |   |   |   |   |   |   |--- region_southeast >  0.50\n",
      "|   |   |   |   |   |   |   |   |   |--- class: True\n",
      "|   |   |   |   |   |   |   |--- sex_female >  0.50\n",
      "|   |   |   |   |   |   |   |   |--- region_southwest <= 0.50\n",
      "|   |   |   |   |   |   |   |   |   |--- class: False\n",
      "|   |   |   |   |   |   |   |   |--- region_southwest >  0.50\n",
      "|   |   |   |   |   |   |   |   |   |--- bmi <= 26.75\n",
      "|   |   |   |   |   |   |   |   |   |   |--- class: False\n",
      "|   |   |   |   |   |   |   |   |   |--- bmi >  26.75\n",
      "|   |   |   |   |   |   |   |   |   |   |--- class: True\n",
      "|   |   |   |   |--- bmi >  27.41\n",
      "|   |   |   |   |   |--- age <= 62.50\n",
      "|   |   |   |   |   |   |--- bmi <= 35.91\n",
      "|   |   |   |   |   |   |   |--- region_southeast <= 0.50\n",
      "|   |   |   |   |   |   |   |   |--- region_northeast <= 0.50\n",
      "|   |   |   |   |   |   |   |   |   |--- bmi <= 34.78\n",
      "|   |   |   |   |   |   |   |   |   |   |--- bmi <= 30.07\n",
      "|   |   |   |   |   |   |   |   |   |   |   |--- truncated branch of depth 5\n",
      "|   |   |   |   |   |   |   |   |   |   |--- bmi >  30.07\n",
      "|   |   |   |   |   |   |   |   |   |   |   |--- class: False\n",
      "|   |   |   |   |   |   |   |   |   |--- bmi >  34.78\n",
      "|   |   |   |   |   |   |   |   |   |   |--- bmi <= 34.95\n",
      "|   |   |   |   |   |   |   |   |   |   |   |--- class: True\n",
      "|   |   |   |   |   |   |   |   |   |   |--- bmi >  34.95\n",
      "|   |   |   |   |   |   |   |   |   |   |   |--- class: False\n",
      "|   |   |   |   |   |   |   |   |--- region_northeast >  0.50\n",
      "|   |   |   |   |   |   |   |   |   |--- age <= 47.50\n",
      "|   |   |   |   |   |   |   |   |   |   |--- sex_male <= 0.50\n",
      "|   |   |   |   |   |   |   |   |   |   |   |--- class: True\n",
      "|   |   |   |   |   |   |   |   |   |   |--- sex_male >  0.50\n",
      "|   |   |   |   |   |   |   |   |   |   |   |--- class: False\n",
      "|   |   |   |   |   |   |   |   |   |--- age >  47.50\n",
      "|   |   |   |   |   |   |   |   |   |   |--- bmi <= 32.35\n",
      "|   |   |   |   |   |   |   |   |   |   |   |--- truncated branch of depth 7\n",
      "|   |   |   |   |   |   |   |   |   |   |--- bmi >  32.35\n",
      "|   |   |   |   |   |   |   |   |   |   |   |--- class: False\n",
      "|   |   |   |   |   |   |   |--- region_southeast >  0.50\n",
      "|   |   |   |   |   |   |   |   |--- age <= 60.50\n",
      "|   |   |   |   |   |   |   |   |   |--- bmi <= 33.06\n",
      "|   |   |   |   |   |   |   |   |   |   |--- bmi <= 32.83\n",
      "|   |   |   |   |   |   |   |   |   |   |   |--- truncated branch of depth 5\n",
      "|   |   |   |   |   |   |   |   |   |   |--- bmi >  32.83\n",
      "|   |   |   |   |   |   |   |   |   |   |   |--- class: True\n",
      "|   |   |   |   |   |   |   |   |   |--- bmi >  33.06\n",
      "|   |   |   |   |   |   |   |   |   |   |--- class: False\n",
      "|   |   |   |   |   |   |   |   |--- age >  60.50\n",
      "|   |   |   |   |   |   |   |   |   |--- children <= 0.50\n",
      "|   |   |   |   |   |   |   |   |   |   |--- class: False\n",
      "|   |   |   |   |   |   |   |   |   |--- children >  0.50\n",
      "|   |   |   |   |   |   |   |   |   |   |--- class: True\n",
      "|   |   |   |   |   |   |--- bmi >  35.91\n",
      "|   |   |   |   |   |   |   |--- bmi <= 38.08\n",
      "|   |   |   |   |   |   |   |   |--- children <= 0.50\n",
      "|   |   |   |   |   |   |   |   |   |--- bmi <= 37.20\n",
      "|   |   |   |   |   |   |   |   |   |   |--- class: False\n",
      "|   |   |   |   |   |   |   |   |   |--- bmi >  37.20\n",
      "|   |   |   |   |   |   |   |   |   |   |--- bmi <= 37.35\n",
      "|   |   |   |   |   |   |   |   |   |   |   |--- class: True\n",
      "|   |   |   |   |   |   |   |   |   |   |--- bmi >  37.35\n",
      "|   |   |   |   |   |   |   |   |   |   |   |--- truncated branch of depth 4\n",
      "|   |   |   |   |   |   |   |   |--- children >  0.50\n",
      "|   |   |   |   |   |   |   |   |   |--- region_northeast <= 0.50\n",
      "|   |   |   |   |   |   |   |   |   |   |--- age <= 51.50\n",
      "|   |   |   |   |   |   |   |   |   |   |   |--- truncated branch of depth 3\n",
      "|   |   |   |   |   |   |   |   |   |   |--- age >  51.50\n",
      "|   |   |   |   |   |   |   |   |   |   |   |--- truncated branch of depth 4\n",
      "|   |   |   |   |   |   |   |   |   |--- region_northeast >  0.50\n",
      "|   |   |   |   |   |   |   |   |   |   |--- class: True\n",
      "|   |   |   |   |   |   |   |--- bmi >  38.08\n",
      "|   |   |   |   |   |   |   |   |--- age <= 56.50\n",
      "|   |   |   |   |   |   |   |   |   |--- class: False\n",
      "|   |   |   |   |   |   |   |   |--- age >  56.50\n",
      "|   |   |   |   |   |   |   |   |   |--- age <= 59.50\n",
      "|   |   |   |   |   |   |   |   |   |   |--- bmi <= 42.81\n",
      "|   |   |   |   |   |   |   |   |   |   |   |--- truncated branch of depth 4\n",
      "|   |   |   |   |   |   |   |   |   |   |--- bmi >  42.81\n",
      "|   |   |   |   |   |   |   |   |   |   |   |--- class: False\n",
      "|   |   |   |   |   |   |   |   |   |--- age >  59.50\n",
      "|   |   |   |   |   |   |   |   |   |   |--- class: False\n",
      "|   |   |   |   |   |--- age >  62.50\n",
      "|   |   |   |   |   |   |--- class: False\n",
      "\n"
     ]
    }
   ],
   "source": [
    "print(tree.export_text(clf, feature_names=df_feature_names))"
   ]
  },
  {
   "cell_type": "markdown",
   "id": "85547b9c",
   "metadata": {},
   "source": [
    "It is a too complicated tree, let's see if we can construct a simpler tree with similar performance"
   ]
  },
  {
   "cell_type": "code",
   "execution_count": 34,
   "id": "a86538b8",
   "metadata": {},
   "outputs": [
    {
     "name": "stdout",
     "output_type": "stream",
     "text": [
      "Current depth of the tree=17\n"
     ]
    }
   ],
   "source": [
    "print('Current depth of the tree=%d'%clf.tree_.max_depth)"
   ]
  },
  {
   "cell_type": "code",
   "execution_count": 40,
   "id": "65985c92",
   "metadata": {},
   "outputs": [
    {
     "data": {
      "text/plain": [
       "<matplotlib.legend.Legend at 0x1e5b645c490>"
      ]
     },
     "execution_count": 40,
     "metadata": {},
     "output_type": "execute_result"
    },
    {
     "data": {
      "image/png": "[encoded data removed]",
      "text/plain": [
       "<Figure size 432x288 with 1 Axes>"
      ]
     },
     "metadata": {
      "needs_background": "light"
     },
     "output_type": "display_data"
    }
   ],
   "source": [
    "max_depth = []\n",
    "acc_gini = []\n",
    "acc_entropy = []\n",
    "for i in range(1,17):\n",
    "    clf = tree.DecisionTreeClassifier(criterion='gini', max_depth=i)\n",
    "    clf.fit(X, y)\n",
    "    y_pred = clf.predict(X)\n",
    "    acc_gini.append(metrics.accuracy_score(y, y_pred))\n",
    "\n",
    "    clf = tree.DecisionTreeClassifier(criterion='entropy', max_depth=i)\n",
    "    clf.fit(X, y)\n",
    "    y_pred = clf.predict(X)\n",
    "    acc_entropy.append(metrics.accuracy_score(y, y_pred))\n",
    "\n",
    "    max_depth.append(i)\n",
    "\n",
    "d = pd.DataFrame({'acc_gini':pd.Series(acc_gini), \n",
    " 'acc_entropy':pd.Series(acc_entropy),\n",
    " 'max_depth':pd.Series(max_depth)})\n",
    "# visualizing changes in parameters\n",
    "plt.plot('max_depth','acc_gini', data=d, label='gini')\n",
    "plt.plot('max_depth','acc_entropy', data=d, label='entropy')\n",
    "plt.xlabel('max_depth')\n",
    "plt.ylabel('accuracy')\n",
    "plt.legend()"
   ]
  },
  {
   "cell_type": "markdown",
   "id": "8d3398a2",
   "metadata": {},
   "source": [
    "With a maximum depth of 2 we already have quite a good classification accuracy (over 93%). For larger depths, Gini splits seem to be better than entropy splits."
   ]
  },
  {
   "cell_type": "code",
   "execution_count": 52,
   "id": "48bb331b",
   "metadata": {},
   "outputs": [
    {
     "name": "stdout",
     "output_type": "stream",
     "text": [
      "Accuracy with max_depth=2 is 0.926009\n"
     ]
    }
   ],
   "source": [
    "clf = tree.DecisionTreeClassifier(criterion='entropy', max_depth=2)\n",
    "clf.fit(X, y)\n",
    "y_pred = clf.predict(X)\n",
    "print('Accuracy with max_depth=%d is %f'%(2,metrics.accuracy_score(y,y_pred)))"
   ]
  },
  {
   "cell_type": "code",
   "execution_count": 54,
   "id": "6237f918",
   "metadata": {},
   "outputs": [
    {
     "data": {
      "image/png": "[encoded data removed]",
      "text/plain": [
       "<Figure size 1080x720 with 1 Axes>"
      ]
     },
     "metadata": {
      "needs_background": "light"
     },
     "output_type": "display_data"
    }
   ],
   "source": [
    "fig = plt.figure(figsize=(15,10))\n",
    "_ = tree.plot_tree(clf, \n",
    "                   feature_names=df_feature_names,  \n",
    "                   class_names=df_target_names,\n",
    "                   filled=True)"
   ]
  },
  {
   "cell_type": "code",
   "execution_count": 55,
   "id": "c3c0cb74",
   "metadata": {},
   "outputs": [
    {
     "data": {
      "text/plain": [
       "<sklearn.metrics._plot.confusion_matrix.ConfusionMatrixDisplay at 0x1e5b65ec6d0>"
      ]
     },
     "execution_count": 55,
     "metadata": {},
     "output_type": "execute_result"
    },
    {
     "data": {
      "image/png": "[encoded data removed]",
      "text/plain": [
       "<Figure size 432x288 with 2 Axes>"
      ]
     },
     "metadata": {
      "needs_background": "light"
     },
     "output_type": "display_data"
    }
   ],
   "source": [
    "from sklearn.metrics import ConfusionMatrixDisplay\n",
    "ConfusionMatrixDisplay.from_estimator(clf, X, y)"
   ]
  },
  {
   "cell_type": "markdown",
   "id": "642cf1de",
   "metadata": {},
   "source": [
    "## Extremely simple classifier\n",
    "\n",
    "We note that the last level of the tree above is not really separating anything (both labels in the split are equal). Then, we may further prune the tree."
   ]
  },
  {
   "cell_type": "code",
   "execution_count": 59,
   "id": "2d5a3288",
   "metadata": {},
   "outputs": [
    {
     "name": "stdout",
     "output_type": "stream",
     "text": [
      "Accuracy with max_depth=1 is 0.926009\n"
     ]
    }
   ],
   "source": [
    "clf = tree.DecisionTreeClassifier(criterion='entropy', max_depth=1)\n",
    "clf.fit(X, y)\n",
    "y_pred = clf.predict(X)\n",
    "print('Accuracy with max_depth=%d is %f'%(1,metrics.accuracy_score(y,y_pred)))"
   ]
  },
  {
   "cell_type": "code",
   "execution_count": 60,
   "id": "50d6e33c",
   "metadata": {},
   "outputs": [
    {
     "data": {
      "image/png": "[encoded data removed]",
      "text/plain": [
       "<Figure size 432x288 with 1 Axes>"
      ]
     },
     "metadata": {
      "needs_background": "light"
     },
     "output_type": "display_data"
    }
   ],
   "source": [
    "_ = tree.plot_tree(clf, \n",
    "                   feature_names=df_feature_names,  \n",
    "                   class_names=df_target_names,\n",
    "                   filled=True)"
   ]
  },
  {
   "cell_type": "code",
   "execution_count": 61,
   "id": "02af460d",
   "metadata": {},
   "outputs": [
    {
     "data": {
      "text/plain": [
       "<sklearn.metrics._plot.confusion_matrix.ConfusionMatrixDisplay at 0x1e5b6900670>"
      ]
     },
     "execution_count": 61,
     "metadata": {},
     "output_type": "execute_result"
    },
    {
     "data": {
      "image/png": "[encoded data removed]",
      "text/plain": [
       "<Figure size 432x288 with 2 Axes>"
      ]
     },
     "metadata": {
      "needs_background": "light"
     },
     "output_type": "display_data"
    }
   ],
   "source": [
    "ConfusionMatrixDisplay.from_estimator(clf, X, y)"
   ]
  }
 ],
 "metadata": {
  "kernelspec": {
   "display_name": "Python 3 (ipykernel)",
   "language": "python",
   "name": "python3"
  },
  "language_info": {
   "codemirror_mode": {
    "name": "ipython",
    "version": 3
   },
   "file_extension": ".py",
   "mimetype": "text/x-python",
   "name": "python",
   "nbconvert_exporter": "python",
   "pygments_lexer": "ipython3",
   "version": "3.9.12"
  }
 },
 "nbformat": 4,
 "nbformat_minor": 5
}
